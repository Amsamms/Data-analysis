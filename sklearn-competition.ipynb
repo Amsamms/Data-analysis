{
 "cells": [
  {
   "cell_type": "code",
   "execution_count": 1,
   "id": "b0185beb",
   "metadata": {
    "execution": {
     "iopub.execute_input": "2022-09-07T09:26:34.602118Z",
     "iopub.status.busy": "2022-09-07T09:26:34.601675Z",
     "iopub.status.idle": "2022-09-07T09:26:36.304315Z",
     "shell.execute_reply": "2022-09-07T09:26:36.303001Z"
    },
    "papermill": {
     "duration": 1.71617,
     "end_time": "2022-09-07T09:26:36.307466",
     "exception": false,
     "start_time": "2022-09-07T09:26:34.591296",
     "status": "completed"
    },
    "tags": []
   },
   "outputs": [],
   "source": [
    "import numpy as np\n",
    "import pandas as pd\n",
    "import matplotlib.pyplot as plt\n",
    "import seaborn as sns\n",
    "from time import time\n",
    "from sklearn.ensemble import RandomForestClassifier, AdaBoostClassifier\n",
    "from sklearn.linear_model import LogisticRegression\n",
    "from sklearn.svm import SVC\n",
    "from sklearn.metrics import accuracy_score\n",
    "from sklearn.model_selection import train_test_split\n",
    "from sklearn.base import clone"
   ]
  },
  {
   "cell_type": "code",
   "execution_count": 2,
   "id": "ba0354c9",
   "metadata": {
    "execution": {
     "iopub.execute_input": "2022-09-07T09:26:36.324184Z",
     "iopub.status.busy": "2022-09-07T09:26:36.323755Z",
     "iopub.status.idle": "2022-09-07T09:26:36.360988Z",
     "shell.execute_reply": "2022-09-07T09:26:36.359746Z"
    },
    "papermill": {
     "duration": 0.048504,
     "end_time": "2022-09-07T09:26:36.363557",
     "exception": false,
     "start_time": "2022-09-07T09:26:36.315053",
     "status": "completed"
    },
    "tags": []
   },
   "outputs": [],
   "source": [
    "X= pd.read_csv('../input/data-science-london-scikit-learn/train.csv',header=None)"
   ]
  },
  {
   "cell_type": "code",
   "execution_count": 3,
   "id": "eab6cbad",
   "metadata": {
    "execution": {
     "iopub.execute_input": "2022-09-07T09:26:36.380609Z",
     "iopub.status.busy": "2022-09-07T09:26:36.379441Z",
     "iopub.status.idle": "2022-09-07T09:26:36.390090Z",
     "shell.execute_reply": "2022-09-07T09:26:36.389113Z"
    },
    "papermill": {
     "duration": 0.021782,
     "end_time": "2022-09-07T09:26:36.392700",
     "exception": false,
     "start_time": "2022-09-07T09:26:36.370918",
     "status": "completed"
    },
    "tags": []
   },
   "outputs": [],
   "source": [
    "y= pd.read_csv('../input/data-science-london-scikit-learn/trainLabels.csv',header=None)"
   ]
  },
  {
   "cell_type": "code",
   "execution_count": 4,
   "id": "a274e670",
   "metadata": {
    "execution": {
     "iopub.execute_input": "2022-09-07T09:26:36.409413Z",
     "iopub.status.busy": "2022-09-07T09:26:36.408503Z",
     "iopub.status.idle": "2022-09-07T09:26:36.421289Z",
     "shell.execute_reply": "2022-09-07T09:26:36.420296Z"
    },
    "papermill": {
     "duration": 0.023902,
     "end_time": "2022-09-07T09:26:36.423855",
     "exception": false,
     "start_time": "2022-09-07T09:26:36.399953",
     "status": "completed"
    },
    "tags": []
   },
   "outputs": [],
   "source": [
    "y=y[0]"
   ]
  },
  {
   "cell_type": "code",
   "execution_count": 5,
   "id": "fbdb8d3d",
   "metadata": {
    "execution": {
     "iopub.execute_input": "2022-09-07T09:26:36.440213Z",
     "iopub.status.busy": "2022-09-07T09:26:36.439411Z",
     "iopub.status.idle": "2022-09-07T09:26:36.448881Z",
     "shell.execute_reply": "2022-09-07T09:26:36.447708Z"
    },
    "papermill": {
     "duration": 0.020479,
     "end_time": "2022-09-07T09:26:36.451362",
     "exception": false,
     "start_time": "2022-09-07T09:26:36.430883",
     "status": "completed"
    },
    "tags": []
   },
   "outputs": [
    {
     "data": {
      "text/plain": [
       "(1000,)"
      ]
     },
     "execution_count": 5,
     "metadata": {},
     "output_type": "execute_result"
    }
   ],
   "source": [
    "y.shape"
   ]
  },
  {
   "cell_type": "code",
   "execution_count": 6,
   "id": "a1348b0c",
   "metadata": {
    "execution": {
     "iopub.execute_input": "2022-09-07T09:26:36.467982Z",
     "iopub.status.busy": "2022-09-07T09:26:36.467149Z",
     "iopub.status.idle": "2022-09-07T09:26:36.474203Z",
     "shell.execute_reply": "2022-09-07T09:26:36.473071Z"
    },
    "papermill": {
     "duration": 0.017938,
     "end_time": "2022-09-07T09:26:36.476467",
     "exception": false,
     "start_time": "2022-09-07T09:26:36.458529",
     "status": "completed"
    },
    "tags": []
   },
   "outputs": [
    {
     "data": {
      "text/plain": [
       "(1000, 40)"
      ]
     },
     "execution_count": 6,
     "metadata": {},
     "output_type": "execute_result"
    }
   ],
   "source": [
    "X.shape"
   ]
  },
  {
   "cell_type": "code",
   "execution_count": 7,
   "id": "d2bb98c5",
   "metadata": {
    "execution": {
     "iopub.execute_input": "2022-09-07T09:26:36.493438Z",
     "iopub.status.busy": "2022-09-07T09:26:36.492977Z",
     "iopub.status.idle": "2022-09-07T09:26:36.504308Z",
     "shell.execute_reply": "2022-09-07T09:26:36.503128Z"
    },
    "papermill": {
     "duration": 0.02254,
     "end_time": "2022-09-07T09:26:36.506746",
     "exception": false,
     "start_time": "2022-09-07T09:26:36.484206",
     "status": "completed"
    },
    "tags": []
   },
   "outputs": [
    {
     "data": {
      "text/plain": [
       "0"
      ]
     },
     "execution_count": 7,
     "metadata": {},
     "output_type": "execute_result"
    }
   ],
   "source": [
    "X.isnull().sum().sum()"
   ]
  },
  {
   "cell_type": "markdown",
   "id": "02f07cfd",
   "metadata": {
    "papermill": {
     "duration": 0.007034,
     "end_time": "2022-09-07T09:26:36.521138",
     "exception": false,
     "start_time": "2022-09-07T09:26:36.514104",
     "status": "completed"
    },
    "tags": []
   },
   "source": [
    "Now we are sure that X is 2 dimensional np array and y is 1 dimensional np array and there is no missing data, lets check normal distribution of independent variables X"
   ]
  },
  {
   "cell_type": "code",
   "execution_count": 8,
   "id": "3d70f751",
   "metadata": {
    "execution": {
     "iopub.execute_input": "2022-09-07T09:26:36.538143Z",
     "iopub.status.busy": "2022-09-07T09:26:36.537091Z",
     "iopub.status.idle": "2022-09-07T09:26:44.940059Z",
     "shell.execute_reply": "2022-09-07T09:26:44.938650Z"
    },
    "papermill": {
     "duration": 8.414128,
     "end_time": "2022-09-07T09:26:44.942682",
     "exception": false,
     "start_time": "2022-09-07T09:26:36.528554",
     "status": "completed"
    },
    "tags": []
   },
   "outputs": [
    {
     "data": {
      "image/png": "[encoded data removed]",
      "text/plain": [
       "<Figure size 432x288 with 1 Axes>"
      ]
     },
     "metadata": {
      "needs_background": "light"
     },
     "output_type": "display_data"
    },
    {
     "data": {
      "image/png": "[encoded data removed]",
      "text/plain": [
       "<Figure size 432x288 with 1 Axes>"
      ]
     },
     "metadata": {
      "needs_background": "light"
     },
     "output_type": "display_data"
    },
    {
     "data": {
      "image/png": "[encoded data removed]",
      "text/plain": [
       "<Figure size 432x288 with 1 Axes>"
      ]
     },
     "metadata": {
      "needs_background": "light"
     },
     "output_type": "display_data"
    },
    {
     "data": {
      "image/png": "[encoded data removed]",
      "text/plain": [
       "<Figure size 432x288 with 1 Axes>"
      ]
     },
     "metadata": {
      "needs_background": "light"
     },
     "output_type": "display_data"
    },
    {
     "data": {
      "image/png": "[encoded data removed]",
      "text/plain": [
       "<Figure size 432x288 with 1 Axes>"
      ]
     },
     "metadata": {
      "needs_background": "light"
     },
     "output_type": "display_data"
    },
    {
     "data": {
      "image/png": "[encoded data removed]",
      "text/plain": [
       "<Figure size 432x288 with 1 Axes>"
      ]
     },
     "metadata": {
      "needs_background": "light"
     },
     "output_type": "display_data"
    },
    {
     "data": {
      "image/png": "[encoded data removed]",
      "text/plain": [
       "<Figure size 432x288 with 1 Axes>"
      ]
     },
     "metadata": {
      "needs_background": "light"
     },
     "output_type": "display_data"
    },
    {
     "data": {
      "image/png": "[encoded data removed]",
      "text/plain": [
       "<Figure size 432x288 with 1 Axes>"
      ]
     },
     "metadata": {
      "needs_background": "light"
     },
     "output_type": "display_data"
    },
    {
     "data": {
      "image/png": "[encoded data removed]",
      "text/plain": [
       "<Figure size 432x288 with 1 Axes>"
      ]
     },
     "metadata": {
      "needs_background": "light"
     },
     "output_type": "display_data"
    },
    {
     "data": {
      "image/png": "[encoded data removed]",
      "text/plain": [
       "<Figure size 432x288 with 1 Axes>"
      ]
     },
     "metadata": {
      "needs_background": "light"
     },
     "output_type": "display_data"
    },
    {
     "data": {
      "image/png": "[encoded data removed]",
      "text/plain": [
       "<Figure size 432x288 with 1 Axes>"
      ]
     },
     "metadata": {
      "needs_background": "light"
     },
     "output_type": "display_data"
    },
    {
     "data": {
      "image/png": "[encoded data removed]",
      "text/plain": [
       "<Figure size 432x288 with 1 Axes>"
      ]
     },
     "metadata": {
      "needs_background": "light"
     },
     "output_type": "display_data"
    },
    {
     "data": {
      "image/png": "[encoded data removed]",
      "text/plain": [
       "<Figure size 432x288 with 1 Axes>"
      ]
     },
     "metadata": {
      "needs_background": "light"
     },
     "output_type": "display_data"
    },
    {
     "data": {
      "image/png": "[encoded data removed]",
      "text/plain": [
       "<Figure size 432x288 with 1 Axes>"
      ]
     },
     "metadata": {
      "needs_background": "light"
     },
     "output_type": "display_data"
    },
    {
     "data": {
      "image/png": "[encoded data removed]",
      "text/plain": [
       "<Figure size 432x288 with 1 Axes>"
      ]
     },
     "metadata": {
      "needs_background": "light"
     },
     "output_type": "display_data"
    },
    {
     "data": {
      "image/png": "[encoded data removed]",
      "text/plain": [
       "<Figure size 432x288 with 1 Axes>"
      ]
     },
     "metadata": {
      "needs_background": "light"
     },
     "output_type": "display_data"
    },
    {
     "data": {
      "image/png": "[encoded data removed]",
      "text/plain": [
       "<Figure size 432x288 with 1 Axes>"
      ]
     },
     "metadata": {
      "needs_background": "light"
     },
     "output_type": "display_data"
    },
    {
     "data": {
      "image/png": "[encoded data removed]",
      "text/plain": [
       "<Figure size 432x288 with 1 Axes>"
      ]
     },
     "metadata": {
      "needs_background": "light"
     },
     "output_type": "display_data"
    },
    {
     "data": {
      "image/png": "[encoded data removed]",
      "text/plain": [
       "<Figure size 432x288 with 1 Axes>"
      ]
     },
     "metadata": {
      "needs_background": "light"
     },
     "output_type": "display_data"
    },
    {
     "data": {
      "image/png": "[encoded data removed]",
      "text/plain": [
       "<Figure size 432x288 with 1 Axes>"
      ]
     },
     "metadata": {
      "needs_background": "light"
     },
     "output_type": "display_data"
    },
    {
     "data": {
      "image/png": "[encoded data removed]",
      "text/plain": [
       "<Figure size 432x288 with 1 Axes>"
      ]
     },
     "metadata": {
      "needs_background": "light"
     },
     "output_type": "display_data"
    },
    {
     "data": {
      "image/png": "[encoded data removed]",
      "text/plain": [
       "<Figure size 432x288 with 1 Axes>"
      ]
     },
     "metadata": {
      "needs_background": "light"
     },
     "output_type": "display_data"
    },
    {
     "data": {
      "image/png": "[encoded data removed]",
      "text/plain": [
       "<Figure size 432x288 with 1 Axes>"
      ]
     },
     "metadata": {
      "needs_background": "light"
     },
     "output_type": "display_data"
    },
    {
     "data": {
      "image/png": "[encoded data removed]",
      "text/plain": [
       "<Figure size 432x288 with 1 Axes>"
      ]
     },
     "metadata": {
      "needs_background": "light"
     },
     "output_type": "display_data"
    },
    {
     "data": {
      "image/png": "[encoded data removed]",
      "text/plain": [
       "<Figure size 432x288 with 1 Axes>"
      ]
     },
     "metadata": {
      "needs_background": "light"
     },
     "output_type": "display_data"
    },
    {
     "data": {
      "image/png": "[encoded data removed]",
      "text/plain": [
       "<Figure size 432x288 with 1 Axes>"
      ]
     },
     "metadata": {
      "needs_background": "light"
     },
     "output_type": "display_data"
    },
    {
     "data": {
      "image/png": "[encoded data removed]",
      "text/plain": [
       "<Figure size 432x288 with 1 Axes>"
      ]
     },
     "metadata": {
      "needs_background": "light"
     },
     "output_type": "display_data"
    },
    {
     "data": {
      "image/png": "[encoded data removed]",
      "text/plain": [
       "<Figure size 432x288 with 1 Axes>"
      ]
     },
     "metadata": {
      "needs_background": "light"
     },
     "output_type": "display_data"
    },
    {
     "data": {
      "image/png": "[encoded data removed]",
      "text/plain": [
       "<Figure size 432x288 with 1 Axes>"
      ]
     },
     "metadata": {
      "needs_background": "light"
     },
     "output_type": "display_data"
    },
    {
     "data": {
      "image/png": "[encoded data removed]",
      "text/plain": [
       "<Figure size 432x288 with 1 Axes>"
      ]
     },
     "metadata": {
      "needs_background": "light"
     },
     "output_type": "display_data"
    },
    {
     "data": {
      "image/png": "[encoded data removed]",
      "text/plain": [
       "<Figure size 432x288 with 1 Axes>"
      ]
     },
     "metadata": {
      "needs_background": "light"
     },
     "output_type": "display_data"
    },
    {
     "data": {
      "image/png": "[encoded data removed]",
      "text/plain": [
       "<Figure size 432x288 with 1 Axes>"
      ]
     },
     "metadata": {
      "needs_background": "light"
     },
     "output_type": "display_data"
    },
    {
     "data": {
      "image/png": "[encoded data removed]",
      "text/plain": [
       "<Figure size 432x288 with 1 Axes>"
      ]
     },
     "metadata": {
      "needs_background": "light"
     },
     "output_type": "display_data"
    },
    {
     "data": {
      "image/png": "[encoded data removed]",
      "text/plain": [
       "<Figure size 432x288 with 1 Axes>"
      ]
     },
     "metadata": {
      "needs_background": "light"
     },
     "output_type": "display_data"
    },
    {
     "data": {
      "image/png": "[encoded data removed]",
      "text/plain": [
       "<Figure size 432x288 with 1 Axes>"
      ]
     },
     "metadata": {
      "needs_background": "light"
     },
     "output_type": "display_data"
    },
    {
     "data": {
      "image/png": "[encoded data removed]",
      "text/plain": [
       "<Figure size 432x288 with 1 Axes>"
      ]
     },
     "metadata": {
      "needs_background": "light"
     },
     "output_type": "display_data"
    },
    {
     "data": {
      "image/png": "[encoded data removed]",
      "text/plain": [
       "<Figure size 432x288 with 1 Axes>"
      ]
     },
     "metadata": {
      "needs_background": "light"
     },
     "output_type": "display_data"
    },
    {
     "data": {
      "image/png": "[encoded data removed]",
      "text/plain": [
       "<Figure size 432x288 with 1 Axes>"
      ]
     },
     "metadata": {
      "needs_background": "light"
     },
     "output_type": "display_data"
    },
    {
     "data": {
      "image/png": "[encoded data removed]",
      "text/plain": [
       "<Figure size 432x288 with 1 Axes>"
      ]
     },
     "metadata": {
      "needs_background": "light"
     },
     "output_type": "display_data"
    },
    {
     "data": {
      "image/png": "[encoded data removed]",
      "text/plain": [
       "<Figure size 432x288 with 1 Axes>"
      ]
     },
     "metadata": {
      "needs_background": "light"
     },
     "output_type": "display_data"
    }
   ],
   "source": [
    "for column in X.columns:\n",
    "    X[column].hist()\n",
    "    plt.show()"
   ]
  },
  {
   "cell_type": "markdown",
   "id": "e2167044",
   "metadata": {
    "papermill": {
     "duration": 0.014325,
     "end_time": "2022-09-07T09:26:44.972725",
     "exception": false,
     "start_time": "2022-09-07T09:26:44.958400",
     "status": "completed"
    },
    "tags": []
   },
   "source": [
    "All 40 columns are normally distributed, hence logistic regression and support vector machine, works just fine, also i will try two ensble methods, adaboost and randomforest"
   ]
  },
  {
   "cell_type": "code",
   "execution_count": 9,
   "id": "d48e9e72",
   "metadata": {
    "execution": {
     "iopub.execute_input": "2022-09-07T09:26:45.004462Z",
     "iopub.status.busy": "2022-09-07T09:26:45.004047Z",
     "iopub.status.idle": "2022-09-07T09:26:45.126684Z",
     "shell.execute_reply": "2022-09-07T09:26:45.125220Z"
    },
    "papermill": {
     "duration": 0.141764,
     "end_time": "2022-09-07T09:26:45.129454",
     "exception": false,
     "start_time": "2022-09-07T09:26:44.987690",
     "status": "completed"
    },
    "tags": []
   },
   "outputs": [
    {
     "data": {
      "text/html": [
       "<div>\n",
       "<style scoped>\n",
       "    .dataframe tbody tr th:only-of-type {\n",
       "        vertical-align: middle;\n",
       "    }\n",
       "\n",
       "    .dataframe tbody tr th {\n",
       "        vertical-align: top;\n",
       "    }\n",
       "\n",
       "    .dataframe thead th {\n",
       "        text-align: right;\n",
       "    }\n",
       "</style>\n",
       "<table border=\"1\" class=\"dataframe\">\n",
       "  <thead>\n",
       "    <tr style=\"text-align: right;\">\n",
       "      <th></th>\n",
       "      <th>0</th>\n",
       "      <th>1</th>\n",
       "      <th>2</th>\n",
       "      <th>3</th>\n",
       "      <th>4</th>\n",
       "      <th>5</th>\n",
       "      <th>6</th>\n",
       "      <th>7</th>\n",
       "      <th>8</th>\n",
       "      <th>9</th>\n",
       "      <th>...</th>\n",
       "      <th>30</th>\n",
       "      <th>31</th>\n",
       "      <th>32</th>\n",
       "      <th>33</th>\n",
       "      <th>34</th>\n",
       "      <th>35</th>\n",
       "      <th>36</th>\n",
       "      <th>37</th>\n",
       "      <th>38</th>\n",
       "      <th>39</th>\n",
       "    </tr>\n",
       "  </thead>\n",
       "  <tbody>\n",
       "    <tr>\n",
       "      <th>count</th>\n",
       "      <td>1000.000000</td>\n",
       "      <td>1000.000000</td>\n",
       "      <td>1000.000000</td>\n",
       "      <td>1000.000000</td>\n",
       "      <td>1000.000000</td>\n",
       "      <td>1000.000000</td>\n",
       "      <td>1000.000000</td>\n",
       "      <td>1000.000000</td>\n",
       "      <td>1000.000000</td>\n",
       "      <td>1000.000000</td>\n",
       "      <td>...</td>\n",
       "      <td>1000.000000</td>\n",
       "      <td>1000.000000</td>\n",
       "      <td>1000.000000</td>\n",
       "      <td>1000.000000</td>\n",
       "      <td>1000.000000</td>\n",
       "      <td>1000.000000</td>\n",
       "      <td>1000.000000</td>\n",
       "      <td>1000.000000</td>\n",
       "      <td>1000.000000</td>\n",
       "      <td>1000.000000</td>\n",
       "    </tr>\n",
       "    <tr>\n",
       "      <th>mean</th>\n",
       "      <td>0.025596</td>\n",
       "      <td>-0.024526</td>\n",
       "      <td>-0.024088</td>\n",
       "      <td>-0.002271</td>\n",
       "      <td>1.092329</td>\n",
       "      <td>-0.006250</td>\n",
       "      <td>0.497342</td>\n",
       "      <td>-0.037883</td>\n",
       "      <td>0.026391</td>\n",
       "      <td>-0.003597</td>\n",
       "      <td>...</td>\n",
       "      <td>0.030651</td>\n",
       "      <td>0.022951</td>\n",
       "      <td>-0.542491</td>\n",
       "      <td>-0.011608</td>\n",
       "      <td>-0.483507</td>\n",
       "      <td>0.033371</td>\n",
       "      <td>0.567185</td>\n",
       "      <td>0.006849</td>\n",
       "      <td>-0.892659</td>\n",
       "      <td>0.609451</td>\n",
       "    </tr>\n",
       "    <tr>\n",
       "      <th>std</th>\n",
       "      <td>1.008282</td>\n",
       "      <td>1.016298</td>\n",
       "      <td>0.979109</td>\n",
       "      <td>0.970575</td>\n",
       "      <td>4.538834</td>\n",
       "      <td>0.989128</td>\n",
       "      <td>2.118819</td>\n",
       "      <td>2.232256</td>\n",
       "      <td>1.001064</td>\n",
       "      <td>1.013520</td>\n",
       "      <td>...</td>\n",
       "      <td>1.011645</td>\n",
       "      <td>1.001375</td>\n",
       "      <td>2.239939</td>\n",
       "      <td>1.022456</td>\n",
       "      <td>2.121281</td>\n",
       "      <td>1.007044</td>\n",
       "      <td>2.227876</td>\n",
       "      <td>0.997635</td>\n",
       "      <td>2.022022</td>\n",
       "      <td>2.045439</td>\n",
       "    </tr>\n",
       "    <tr>\n",
       "      <th>min</th>\n",
       "      <td>-3.365711</td>\n",
       "      <td>-3.492086</td>\n",
       "      <td>-2.695602</td>\n",
       "      <td>-3.460471</td>\n",
       "      <td>-16.421901</td>\n",
       "      <td>-3.041250</td>\n",
       "      <td>-7.224761</td>\n",
       "      <td>-6.509084</td>\n",
       "      <td>-3.145588</td>\n",
       "      <td>-2.749812</td>\n",
       "      <td>...</td>\n",
       "      <td>-3.379194</td>\n",
       "      <td>-2.971125</td>\n",
       "      <td>-7.840890</td>\n",
       "      <td>-2.999564</td>\n",
       "      <td>-7.124105</td>\n",
       "      <td>-2.952358</td>\n",
       "      <td>-5.452254</td>\n",
       "      <td>-3.473913</td>\n",
       "      <td>-8.051722</td>\n",
       "      <td>-7.799086</td>\n",
       "    </tr>\n",
       "    <tr>\n",
       "      <th>25%</th>\n",
       "      <td>-0.669010</td>\n",
       "      <td>-0.693937</td>\n",
       "      <td>-0.698830</td>\n",
       "      <td>-0.617557</td>\n",
       "      <td>-1.801997</td>\n",
       "      <td>-0.732265</td>\n",
       "      <td>-0.838619</td>\n",
       "      <td>-1.604037</td>\n",
       "      <td>-0.677562</td>\n",
       "      <td>-0.682220</td>\n",
       "      <td>...</td>\n",
       "      <td>-0.659457</td>\n",
       "      <td>-0.696032</td>\n",
       "      <td>-2.121943</td>\n",
       "      <td>-0.664550</td>\n",
       "      <td>-1.879247</td>\n",
       "      <td>-0.642861</td>\n",
       "      <td>-1.059786</td>\n",
       "      <td>-0.691162</td>\n",
       "      <td>-2.220126</td>\n",
       "      <td>-0.565041</td>\n",
       "    </tr>\n",
       "    <tr>\n",
       "      <th>50%</th>\n",
       "      <td>0.027895</td>\n",
       "      <td>-0.033194</td>\n",
       "      <td>0.008145</td>\n",
       "      <td>0.002327</td>\n",
       "      <td>0.862818</td>\n",
       "      <td>0.027041</td>\n",
       "      <td>0.582321</td>\n",
       "      <td>0.018809</td>\n",
       "      <td>0.022092</td>\n",
       "      <td>-0.036110</td>\n",
       "      <td>...</td>\n",
       "      <td>0.049416</td>\n",
       "      <td>0.049778</td>\n",
       "      <td>-0.568262</td>\n",
       "      <td>-0.028097</td>\n",
       "      <td>-0.493575</td>\n",
       "      <td>0.037732</td>\n",
       "      <td>0.455474</td>\n",
       "      <td>0.038284</td>\n",
       "      <td>-0.855470</td>\n",
       "      <td>0.779944</td>\n",
       "    </tr>\n",
       "    <tr>\n",
       "      <th>75%</th>\n",
       "      <td>0.762520</td>\n",
       "      <td>0.682753</td>\n",
       "      <td>0.661434</td>\n",
       "      <td>0.640743</td>\n",
       "      <td>3.843172</td>\n",
       "      <td>0.671456</td>\n",
       "      <td>1.913664</td>\n",
       "      <td>1.438304</td>\n",
       "      <td>0.741310</td>\n",
       "      <td>0.665364</td>\n",
       "      <td>...</td>\n",
       "      <td>0.747031</td>\n",
       "      <td>0.699917</td>\n",
       "      <td>0.939348</td>\n",
       "      <td>0.651374</td>\n",
       "      <td>1.005795</td>\n",
       "      <td>0.691800</td>\n",
       "      <td>2.122157</td>\n",
       "      <td>0.693535</td>\n",
       "      <td>0.388698</td>\n",
       "      <td>1.992193</td>\n",
       "    </tr>\n",
       "    <tr>\n",
       "      <th>max</th>\n",
       "      <td>3.326246</td>\n",
       "      <td>3.583870</td>\n",
       "      <td>2.546507</td>\n",
       "      <td>3.088738</td>\n",
       "      <td>17.565345</td>\n",
       "      <td>3.102997</td>\n",
       "      <td>7.592666</td>\n",
       "      <td>7.130097</td>\n",
       "      <td>3.145258</td>\n",
       "      <td>3.919426</td>\n",
       "      <td>...</td>\n",
       "      <td>2.844792</td>\n",
       "      <td>3.688047</td>\n",
       "      <td>7.160379</td>\n",
       "      <td>3.353631</td>\n",
       "      <td>6.005818</td>\n",
       "      <td>3.420561</td>\n",
       "      <td>6.603499</td>\n",
       "      <td>3.492548</td>\n",
       "      <td>5.774120</td>\n",
       "      <td>6.803984</td>\n",
       "    </tr>\n",
       "  </tbody>\n",
       "</table>\n",
       "<p>8 rows × 40 columns</p>\n",
       "</div>"
      ],
      "text/plain": [
       "                0            1            2            3            4   \\\n",
       "count  1000.000000  1000.000000  1000.000000  1000.000000  1000.000000   \n",
       "mean      0.025596    -0.024526    -0.024088    -0.002271     1.092329   \n",
       "std       1.008282     1.016298     0.979109     0.970575     4.538834   \n",
       "min      -3.365711    -3.492086    -2.695602    -3.460471   -16.421901   \n",
       "25%      -0.669010    -0.693937    -0.698830    -0.617557    -1.801997   \n",
       "50%       0.027895    -0.033194     0.008145     0.002327     0.862818   \n",
       "75%       0.762520     0.682753     0.661434     0.640743     3.843172   \n",
       "max       3.326246     3.583870     2.546507     3.088738    17.565345   \n",
       "\n",
       "                5            6            7            8            9   ...  \\\n",
       "count  1000.000000  1000.000000  1000.000000  1000.000000  1000.000000  ...   \n",
       "mean     -0.006250     0.497342    -0.037883     0.026391    -0.003597  ...   \n",
       "std       0.989128     2.118819     2.232256     1.001064     1.013520  ...   \n",
       "min      -3.041250    -7.224761    -6.509084    -3.145588    -2.749812  ...   \n",
       "25%      -0.732265    -0.838619    -1.604037    -0.677562    -0.682220  ...   \n",
       "50%       0.027041     0.582321     0.018809     0.022092    -0.036110  ...   \n",
       "75%       0.671456     1.913664     1.438304     0.741310     0.665364  ...   \n",
       "max       3.102997     7.592666     7.130097     3.145258     3.919426  ...   \n",
       "\n",
       "                30           31           32           33           34  \\\n",
       "count  1000.000000  1000.000000  1000.000000  1000.000000  1000.000000   \n",
       "mean      0.030651     0.022951    -0.542491    -0.011608    -0.483507   \n",
       "std       1.011645     1.001375     2.239939     1.022456     2.121281   \n",
       "min      -3.379194    -2.971125    -7.840890    -2.999564    -7.124105   \n",
       "25%      -0.659457    -0.696032    -2.121943    -0.664550    -1.879247   \n",
       "50%       0.049416     0.049778    -0.568262    -0.028097    -0.493575   \n",
       "75%       0.747031     0.699917     0.939348     0.651374     1.005795   \n",
       "max       2.844792     3.688047     7.160379     3.353631     6.005818   \n",
       "\n",
       "                35           36           37           38           39  \n",
       "count  1000.000000  1000.000000  1000.000000  1000.000000  1000.000000  \n",
       "mean      0.033371     0.567185     0.006849    -0.892659     0.609451  \n",
       "std       1.007044     2.227876     0.997635     2.022022     2.045439  \n",
       "min      -2.952358    -5.452254    -3.473913    -8.051722    -7.799086  \n",
       "25%      -0.642861    -1.059786    -0.691162    -2.220126    -0.565041  \n",
       "50%       0.037732     0.455474     0.038284    -0.855470     0.779944  \n",
       "75%       0.691800     2.122157     0.693535     0.388698     1.992193  \n",
       "max       3.420561     6.603499     3.492548     5.774120     6.803984  \n",
       "\n",
       "[8 rows x 40 columns]"
      ]
     },
     "execution_count": 9,
     "metadata": {},
     "output_type": "execute_result"
    }
   ],
   "source": [
    "X.describe()"
   ]
  },
  {
   "cell_type": "markdown",
   "id": "e4c7ca4d",
   "metadata": {
    "papermill": {
     "duration": 0.016383,
     "end_time": "2022-09-07T09:26:45.161498",
     "exception": false,
     "start_time": "2022-09-07T09:26:45.145115",
     "status": "completed"
    },
    "tags": []
   },
   "source": [
    "Also, all data seems to have close range, no need for using `MINMAXSCALER()`\n",
    "\n",
    "Next, lets define a function that takes a predefined number of estimators and train-test split, fit and predict for a specefic number of times, and compare the results\n",
    "\n",
    "Note: the following function is not very simple, as it can used any where, so i wrote it in a generic way"
   ]
  },
  {
   "cell_type": "code",
   "execution_count": 10,
   "id": "b735218d",
   "metadata": {
    "execution": {
     "iopub.execute_input": "2022-09-07T09:26:45.195853Z",
     "iopub.status.busy": "2022-09-07T09:26:45.194932Z",
     "iopub.status.idle": "2022-09-07T09:26:45.210771Z",
     "shell.execute_reply": "2022-09-07T09:26:45.209500Z"
    },
    "papermill": {
     "duration": 0.035761,
     "end_time": "2022-09-07T09:26:45.213221",
     "exception": false,
     "start_time": "2022-09-07T09:26:45.177460",
     "status": "completed"
    },
    "tags": []
   },
   "outputs": [],
   "source": [
    "def estimators_repeater(estimators=[RandomForestClassifier(),AdaBoostClassifier(),SVC()],tr_slicer=(None,None),tst_slicer=(None,None),loops=500,scorer=accuracy_score,X=X,y=y):\n",
    "    '''This function aims to train list of supplied estimators with selcted slices of datasets for as many time as required(default 500)\n",
    "    and then produce a list of training score, test score and time used for each estimator\n",
    "    \n",
    "    - It is important to import all used estimators, score to be used\n",
    "    inputs :\n",
    "    - estimators : a list of estimators, deafult is Randomforest, Adaboost and support vector machine\n",
    "    \n",
    "    - tr_slicer : slicer for the number of observations needed in the training, default is all samples [:], slicer should be tuples\n",
    "    of integers(starter,ender) default is(None,None)\n",
    "    \n",
    "    - tst_slicer : slicer for the number of samples to be tested at, default is all samples [0:-1], slicer should be tuples\n",
    "    of integers(starter,ender) default is(0,-1)\n",
    "    \n",
    "    -loops : int, is a number of loops needed : default 500\n",
    "    \n",
    "    -scorer : default is accuracy_score, but it can be anything choosen from sklearn.metrics but if it is something calculated by\n",
    "    methods other than accuracy, it should be modified in the \n",
    "    \n",
    "    -X= features in the form of dataframe or np.array of 2 dimensions\n",
    "    -y= target in the form of dataframe, series or np.array\n",
    "    \n",
    "    Returns : 3 global dataframes for training score(training_score_df),\n",
    "    testing score(testing_score_df) and time (time_df) used for each estimator for fitting and predicting\n",
    "    \n",
    "    \n",
    "    Example, fitting first 200 samples for SVC() and RandomForestClassifier() for 400 loop and scorer is accuracy for full test dataset:\n",
    "    \n",
    "    estimators_repeater(estimators=[RandomForestClassifier(),SVC()],tr_slicer=(0,200),loops=400,scorer=accuracy_score,X=X,y=y)\n",
    "    \n",
    "    '''\n",
    "    \n",
    "    training_score={}\n",
    "    testing_score={}\n",
    "    timing={}\n",
    "    for clf in estimators:\n",
    "        clf_name = clf.__class__.__name__\n",
    "        training_score[clf_name]=[]\n",
    "        testing_score[clf_name]=[]\n",
    "        timing[clf_name]=[]\n",
    "       \n",
    "    for i in range (loops):\n",
    "        k1=time()\n",
    "        X_train, X_test, y_train, y_test = train_test_split(X,y,random_state=i)\n",
    "        for clf in estimators:\n",
    "            a=time()\n",
    "            clf_name = clf.__class__.__name__\n",
    "            clean_clf=clone(clf)\n",
    "            clean_clf.fit(X_train[tr_slicer[0]:tr_slicer[1]],y_train[tr_slicer[0]:tr_slicer[1]])\n",
    "            training_score[clf_name].append(scorer(y_train[tr_slicer[0]:tr_slicer[1]],clean_clf.predict(X_train[tr_slicer[0]:tr_slicer[1]])))\n",
    "            testing_score[clf_name].append(scorer(y_test[tst_slicer[0]:tst_slicer[1]],clean_clf.predict(X_test[tst_slicer[0]:tst_slicer[1]])))\n",
    "            b=time()\n",
    "            timing[clf_name].append(b-a)\n",
    "        k2=time()\n",
    "        print(f'loop number {i} out of {loops} took {k2-k1} seconds')\n",
    "    \n",
    "    global training_score_df\n",
    "    training_score_df=pd.DataFrame(training_score)\n",
    "    global testing_score_df\n",
    "    testing_score_df=pd.DataFrame(testing_score)\n",
    "    global timing_df\n",
    "    timing_df=pd.DataFrame(timing)"
   ]
  },
  {
   "cell_type": "markdown",
   "id": "87bb36a3",
   "metadata": {
    "papermill": {
     "duration": 0.015198,
     "end_time": "2022-09-07T09:26:45.243730",
     "exception": false,
     "start_time": "2022-09-07T09:26:45.228532",
     "status": "completed"
    },
    "tags": []
   },
   "source": [
    "A simple apply to the above function would be below as follows:\n",
    "\n",
    "* test split data \n",
    "* fit X, and y for randomforest, adaboost, SVC and logestic regression\n",
    "* record the time for the above steps, also record test data score and record train data score\n",
    "* Do the above 500 times\n",
    "* the final output would be 3 dataframes, one for the test_Scores, and one for train scores, and last one for time consumed for each loop"
   ]
  },
  {
   "cell_type": "code",
   "execution_count": 11,
   "id": "044ad193",
   "metadata": {
    "execution": {
     "iopub.execute_input": "2022-09-07T09:26:45.276764Z",
     "iopub.status.busy": "2022-09-07T09:26:45.276225Z",
     "iopub.status.idle": "2022-09-07T09:34:33.801727Z",
     "shell.execute_reply": "2022-09-07T09:34:33.796437Z"
    },
    "papermill": {
     "duration": 468.548654,
     "end_time": "2022-09-07T09:34:33.807768",
     "exception": false,
     "start_time": "2022-09-07T09:26:45.259114",
     "status": "completed"
    },
    "tags": []
   },
   "outputs": [
    {
     "name": "stdout",
     "output_type": "stream",
     "text": [
      "loop number 0 out of 500 took 0.8646328449249268 seconds\n",
      "loop number 1 out of 500 took 0.9244742393493652 seconds\n",
      "loop number 2 out of 500 took 0.8925325870513916 seconds\n",
      "loop number 3 out of 500 took 0.9039895534515381 seconds\n",
      "loop number 4 out of 500 took 0.8985481262207031 seconds\n",
      "loop number 5 out of 500 took 0.9275369644165039 seconds\n",
      "loop number 6 out of 500 took 0.9148828983306885 seconds\n",
      "loop number 7 out of 500 took 0.9035553932189941 seconds\n",
      "loop number 8 out of 500 took 0.9019131660461426 seconds\n",
      "loop number 9 out of 500 took 0.9083094596862793 seconds\n",
      "loop number 10 out of 500 took 0.9045546054840088 seconds\n",
      "loop number 11 out of 500 took 0.904918909072876 seconds\n",
      "loop number 12 out of 500 took 0.9061031341552734 seconds\n",
      "loop number 13 out of 500 took 0.9445023536682129 seconds\n",
      "loop number 14 out of 500 took 0.9119410514831543 seconds\n",
      "loop number 15 out of 500 took 0.9416217803955078 seconds\n",
      "loop number 16 out of 500 took 0.9345028400421143 seconds\n",
      "loop number 17 out of 500 took 0.9121429920196533 seconds\n",
      "loop number 18 out of 500 took 0.8946266174316406 seconds\n",
      "loop number 19 out of 500 took 0.8935837745666504 seconds\n",
      "loop number 20 out of 500 took 0.8866488933563232 seconds\n",
      "loop number 21 out of 500 took 0.9019711017608643 seconds\n",
      "loop number 22 out of 500 took 0.9127979278564453 seconds\n",
      "loop number 23 out of 500 took 0.9101853370666504 seconds\n",
      "loop number 24 out of 500 took 0.9095621109008789 seconds\n",
      "loop number 25 out of 500 took 0.9244711399078369 seconds\n",
      "loop number 26 out of 500 took 0.9034850597381592 seconds\n",
      "loop number 27 out of 500 took 0.985048770904541 seconds\n",
      "loop number 28 out of 500 took 0.9119317531585693 seconds\n",
      "loop number 29 out of 500 took 0.9096603393554688 seconds\n",
      "loop number 30 out of 500 took 0.9249241352081299 seconds\n",
      "loop number 31 out of 500 took 0.9309248924255371 seconds\n",
      "loop number 32 out of 500 took 0.9486327171325684 seconds\n",
      "loop number 33 out of 500 took 0.9177262783050537 seconds\n",
      "loop number 34 out of 500 took 0.9212958812713623 seconds\n",
      "loop number 35 out of 500 took 0.9270584583282471 seconds\n",
      "loop number 36 out of 500 took 0.9123775959014893 seconds\n",
      "loop number 37 out of 500 took 0.9539892673492432 seconds\n",
      "loop number 38 out of 500 took 0.9311199188232422 seconds\n",
      "loop number 39 out of 500 took 0.9269700050354004 seconds\n",
      "loop number 40 out of 500 took 0.919158935546875 seconds\n",
      "loop number 41 out of 500 took 0.92502760887146 seconds\n",
      "loop number 42 out of 500 took 0.9484469890594482 seconds\n",
      "loop number 43 out of 500 took 0.9706971645355225 seconds\n",
      "loop number 44 out of 500 took 0.9612162113189697 seconds\n",
      "loop number 45 out of 500 took 0.9491240978240967 seconds\n",
      "loop number 46 out of 500 took 0.9379103183746338 seconds\n",
      "loop number 47 out of 500 took 0.9213621616363525 seconds\n",
      "loop number 48 out of 500 took 0.9308173656463623 seconds\n",
      "loop number 49 out of 500 took 0.9384684562683105 seconds\n",
      "loop number 50 out of 500 took 0.932462215423584 seconds\n",
      "loop number 51 out of 500 took 0.9232187271118164 seconds\n",
      "loop number 52 out of 500 took 0.9256477355957031 seconds\n",
      "loop number 53 out of 500 took 0.9187877178192139 seconds\n",
      "loop number 54 out of 500 took 0.9260880947113037 seconds\n",
      "loop number 55 out of 500 took 0.9146833419799805 seconds\n",
      "loop number 56 out of 500 took 0.9128224849700928 seconds\n",
      "loop number 57 out of 500 took 0.9141061305999756 seconds\n",
      "loop number 58 out of 500 took 0.9171090126037598 seconds\n",
      "loop number 59 out of 500 took 0.9219725131988525 seconds\n",
      "loop number 60 out of 500 took 0.9415137767791748 seconds\n",
      "loop number 61 out of 500 took 1.0587265491485596 seconds\n",
      "loop number 62 out of 500 took 0.9809756278991699 seconds\n",
      "loop number 63 out of 500 took 0.9769949913024902 seconds\n",
      "loop number 64 out of 500 took 0.9781548976898193 seconds\n",
      "loop number 65 out of 500 took 0.9472270011901855 seconds\n",
      "loop number 66 out of 500 took 0.9525861740112305 seconds\n",
      "loop number 67 out of 500 took 0.9492406845092773 seconds\n",
      "loop number 68 out of 500 took 0.9506504535675049 seconds\n",
      "loop number 69 out of 500 took 0.9312341213226318 seconds\n",
      "loop number 70 out of 500 took 0.9209902286529541 seconds\n",
      "loop number 71 out of 500 took 0.9208605289459229 seconds\n",
      "loop number 72 out of 500 took 0.9759645462036133 seconds\n",
      "loop number 73 out of 500 took 1.0172779560089111 seconds\n",
      "loop number 74 out of 500 took 0.9794449806213379 seconds\n",
      "loop number 75 out of 500 took 0.9945261478424072 seconds\n",
      "loop number 76 out of 500 took 0.9902036190032959 seconds\n",
      "loop number 77 out of 500 took 0.947166919708252 seconds\n",
      "loop number 78 out of 500 took 0.95377516746521 seconds\n",
      "loop number 79 out of 500 took 0.953535795211792 seconds\n",
      "loop number 80 out of 500 took 0.9345493316650391 seconds\n",
      "loop number 81 out of 500 took 0.9102592468261719 seconds\n",
      "loop number 82 out of 500 took 0.9162054061889648 seconds\n",
      "loop number 83 out of 500 took 0.921034574508667 seconds\n",
      "loop number 84 out of 500 took 0.9428341388702393 seconds\n",
      "loop number 85 out of 500 took 0.9246671199798584 seconds\n",
      "loop number 86 out of 500 took 0.9376585483551025 seconds\n",
      "loop number 87 out of 500 took 0.9398112297058105 seconds\n",
      "loop number 88 out of 500 took 0.9305219650268555 seconds\n",
      "loop number 89 out of 500 took 0.929469108581543 seconds\n",
      "loop number 90 out of 500 took 0.9335997104644775 seconds\n",
      "loop number 91 out of 500 took 0.9553136825561523 seconds\n",
      "loop number 92 out of 500 took 0.9360225200653076 seconds\n",
      "loop number 93 out of 500 took 0.9913959503173828 seconds\n",
      "loop number 94 out of 500 took 0.9401557445526123 seconds\n",
      "loop number 95 out of 500 took 0.9468331336975098 seconds\n",
      "loop number 96 out of 500 took 0.946577787399292 seconds\n",
      "loop number 97 out of 500 took 0.947638750076294 seconds\n",
      "loop number 98 out of 500 took 0.9321379661560059 seconds\n",
      "loop number 99 out of 500 took 0.9367897510528564 seconds\n",
      "loop number 100 out of 500 took 0.9315135478973389 seconds\n",
      "loop number 101 out of 500 took 0.9464945793151855 seconds\n",
      "loop number 102 out of 500 took 0.934384822845459 seconds\n",
      "loop number 103 out of 500 took 0.925767183303833 seconds\n",
      "loop number 104 out of 500 took 0.9253313541412354 seconds\n",
      "loop number 105 out of 500 took 0.9243676662445068 seconds\n",
      "loop number 106 out of 500 took 0.9470334053039551 seconds\n",
      "loop number 107 out of 500 took 0.9772086143493652 seconds\n",
      "loop number 108 out of 500 took 0.9613330364227295 seconds\n",
      "loop number 109 out of 500 took 0.9408690929412842 seconds\n",
      "loop number 110 out of 500 took 0.9078607559204102 seconds\n",
      "loop number 111 out of 500 took 0.9199836254119873 seconds\n",
      "loop number 112 out of 500 took 0.9429960250854492 seconds\n",
      "loop number 113 out of 500 took 0.9264090061187744 seconds\n",
      "loop number 114 out of 500 took 0.9382801055908203 seconds\n",
      "loop number 115 out of 500 took 0.950587272644043 seconds\n",
      "loop number 116 out of 500 took 0.9748969078063965 seconds\n",
      "loop number 117 out of 500 took 0.9943721294403076 seconds\n",
      "loop number 118 out of 500 took 0.9587810039520264 seconds\n",
      "loop number 119 out of 500 took 0.9876842498779297 seconds\n",
      "loop number 120 out of 500 took 0.9869287014007568 seconds\n",
      "loop number 121 out of 500 took 0.9619297981262207 seconds\n",
      "loop number 122 out of 500 took 0.9658267498016357 seconds\n",
      "loop number 123 out of 500 took 0.9852197170257568 seconds\n",
      "loop number 124 out of 500 took 0.9448871612548828 seconds\n",
      "loop number 125 out of 500 took 0.9410572052001953 seconds\n",
      "loop number 126 out of 500 took 0.9990170001983643 seconds\n",
      "loop number 127 out of 500 took 0.9660096168518066 seconds\n",
      "loop number 128 out of 500 took 0.9636578559875488 seconds\n",
      "loop number 129 out of 500 took 0.971118688583374 seconds\n",
      "loop number 130 out of 500 took 0.989121675491333 seconds\n",
      "loop number 131 out of 500 took 0.9580836296081543 seconds\n",
      "loop number 132 out of 500 took 0.95870041847229 seconds\n",
      "loop number 133 out of 500 took 0.9440677165985107 seconds\n",
      "loop number 134 out of 500 took 0.93292236328125 seconds\n",
      "loop number 135 out of 500 took 0.9336390495300293 seconds\n",
      "loop number 136 out of 500 took 0.9493420124053955 seconds\n",
      "loop number 137 out of 500 took 0.9397671222686768 seconds\n",
      "loop number 138 out of 500 took 0.9397740364074707 seconds\n",
      "loop number 139 out of 500 took 0.9698448181152344 seconds\n",
      "loop number 140 out of 500 took 0.9597749710083008 seconds\n",
      "loop number 141 out of 500 took 1.0159404277801514 seconds\n",
      "loop number 142 out of 500 took 0.9759578704833984 seconds\n",
      "loop number 143 out of 500 took 0.9646317958831787 seconds\n",
      "loop number 144 out of 500 took 0.9597744941711426 seconds\n",
      "loop number 145 out of 500 took 0.9523143768310547 seconds\n",
      "loop number 146 out of 500 took 0.9614365100860596 seconds\n",
      "loop number 147 out of 500 took 0.9507639408111572 seconds\n",
      "loop number 148 out of 500 took 0.9779517650604248 seconds\n",
      "loop number 149 out of 500 took 0.9442822933197021 seconds\n",
      "loop number 150 out of 500 took 0.9791491031646729 seconds\n",
      "loop number 151 out of 500 took 0.9529104232788086 seconds\n",
      "loop number 152 out of 500 took 0.9792709350585938 seconds\n",
      "loop number 153 out of 500 took 0.9581332206726074 seconds\n",
      "loop number 154 out of 500 took 0.9099733829498291 seconds\n",
      "loop number 155 out of 500 took 0.9149229526519775 seconds\n",
      "loop number 156 out of 500 took 0.9270496368408203 seconds\n",
      "loop number 157 out of 500 took 0.9204552173614502 seconds\n",
      "loop number 158 out of 500 took 0.9254367351531982 seconds\n",
      "loop number 159 out of 500 took 0.9957058429718018 seconds\n",
      "loop number 160 out of 500 took 0.9123642444610596 seconds\n",
      "loop number 161 out of 500 took 0.9221839904785156 seconds\n",
      "loop number 162 out of 500 took 0.9162895679473877 seconds\n",
      "loop number 163 out of 500 took 0.9420368671417236 seconds\n",
      "loop number 164 out of 500 took 0.9362442493438721 seconds\n",
      "loop number 165 out of 500 took 0.9403884410858154 seconds\n",
      "loop number 166 out of 500 took 0.9164695739746094 seconds\n",
      "loop number 167 out of 500 took 0.9287574291229248 seconds\n",
      "loop number 168 out of 500 took 0.9216389656066895 seconds\n",
      "loop number 169 out of 500 took 0.9387757778167725 seconds\n",
      "loop number 170 out of 500 took 0.9390273094177246 seconds\n",
      "loop number 171 out of 500 took 0.9170241355895996 seconds\n",
      "loop number 172 out of 500 took 0.9436454772949219 seconds\n",
      "loop number 173 out of 500 took 0.9187576770782471 seconds\n",
      "loop number 174 out of 500 took 0.9167728424072266 seconds\n",
      "loop number 175 out of 500 took 0.9529552459716797 seconds\n",
      "loop number 176 out of 500 took 0.9734952449798584 seconds\n",
      "loop number 177 out of 500 took 0.9056336879730225 seconds\n",
      "loop number 178 out of 500 took 0.9075071811676025 seconds\n",
      "loop number 179 out of 500 took 0.9341237545013428 seconds\n",
      "loop number 180 out of 500 took 0.9249081611633301 seconds\n",
      "loop number 181 out of 500 took 0.9620778560638428 seconds\n",
      "loop number 182 out of 500 took 0.9186954498291016 seconds\n",
      "loop number 183 out of 500 took 0.9212250709533691 seconds\n",
      "loop number 184 out of 500 took 0.9251227378845215 seconds\n",
      "loop number 185 out of 500 took 0.914788007736206 seconds\n",
      "loop number 186 out of 500 took 0.9293899536132812 seconds\n",
      "loop number 187 out of 500 took 0.971193790435791 seconds\n",
      "loop number 188 out of 500 took 0.9948959350585938 seconds\n",
      "loop number 189 out of 500 took 0.9528477191925049 seconds\n",
      "loop number 190 out of 500 took 0.9583621025085449 seconds\n",
      "loop number 191 out of 500 took 1.0023038387298584 seconds\n",
      "loop number 192 out of 500 took 1.1306321620941162 seconds\n",
      "loop number 193 out of 500 took 0.9667110443115234 seconds\n",
      "loop number 194 out of 500 took 0.954775333404541 seconds\n",
      "loop number 195 out of 500 took 0.9358618259429932 seconds\n",
      "loop number 196 out of 500 took 0.9750940799713135 seconds\n",
      "loop number 197 out of 500 took 0.9543552398681641 seconds\n",
      "loop number 198 out of 500 took 0.9513721466064453 seconds\n",
      "loop number 199 out of 500 took 1.0335052013397217 seconds\n",
      "loop number 200 out of 500 took 1.0002291202545166 seconds\n",
      "loop number 201 out of 500 took 0.9682364463806152 seconds\n",
      "loop number 202 out of 500 took 0.9770781993865967 seconds\n",
      "loop number 203 out of 500 took 0.9517011642456055 seconds\n",
      "loop number 204 out of 500 took 0.9783022403717041 seconds\n",
      "loop number 205 out of 500 took 0.9708981513977051 seconds\n",
      "loop number 206 out of 500 took 0.9783272743225098 seconds\n",
      "loop number 207 out of 500 took 1.0036699771881104 seconds\n",
      "loop number 208 out of 500 took 0.9815618991851807 seconds\n",
      "loop number 209 out of 500 took 0.9688243865966797 seconds\n",
      "loop number 210 out of 500 took 0.9796702861785889 seconds\n",
      "loop number 211 out of 500 took 0.9652013778686523 seconds\n",
      "loop number 212 out of 500 took 0.9493861198425293 seconds\n",
      "loop number 213 out of 500 took 0.9413995742797852 seconds\n",
      "loop number 214 out of 500 took 0.9310476779937744 seconds\n",
      "loop number 215 out of 500 took 0.9380171298980713 seconds\n",
      "loop number 216 out of 500 took 0.9300785064697266 seconds\n",
      "loop number 217 out of 500 took 0.9334292411804199 seconds\n",
      "loop number 218 out of 500 took 0.9342377185821533 seconds\n",
      "loop number 219 out of 500 took 0.9463791847229004 seconds\n",
      "loop number 220 out of 500 took 0.9432106018066406 seconds\n",
      "loop number 221 out of 500 took 0.9529292583465576 seconds\n",
      "loop number 222 out of 500 took 1.0323896408081055 seconds\n",
      "loop number 223 out of 500 took 0.9982173442840576 seconds\n",
      "loop number 224 out of 500 took 1.1459414958953857 seconds\n",
      "loop number 225 out of 500 took 1.0118725299835205 seconds\n",
      "loop number 226 out of 500 took 1.01930832862854 seconds\n",
      "loop number 227 out of 500 took 0.9895529747009277 seconds\n",
      "loop number 228 out of 500 took 0.9859950542449951 seconds\n",
      "loop number 229 out of 500 took 0.9971983432769775 seconds\n",
      "loop number 230 out of 500 took 1.0090398788452148 seconds\n",
      "loop number 231 out of 500 took 0.9434592723846436 seconds\n",
      "loop number 232 out of 500 took 0.9428403377532959 seconds\n",
      "loop number 233 out of 500 took 0.9734625816345215 seconds\n",
      "loop number 234 out of 500 took 0.9262158870697021 seconds\n",
      "loop number 235 out of 500 took 0.9603033065795898 seconds\n",
      "loop number 236 out of 500 took 0.928990364074707 seconds\n",
      "loop number 237 out of 500 took 0.9598207473754883 seconds\n",
      "loop number 238 out of 500 took 0.9209709167480469 seconds\n",
      "loop number 239 out of 500 took 0.9137256145477295 seconds\n",
      "loop number 240 out of 500 took 0.9247775077819824 seconds\n",
      "loop number 241 out of 500 took 0.9246292114257812 seconds\n",
      "loop number 242 out of 500 took 0.9238708019256592 seconds\n",
      "loop number 243 out of 500 took 0.9284825325012207 seconds\n",
      "loop number 244 out of 500 took 0.9419159889221191 seconds\n",
      "loop number 245 out of 500 took 0.974107027053833 seconds\n",
      "loop number 246 out of 500 took 0.9463057518005371 seconds\n",
      "loop number 247 out of 500 took 0.9443438053131104 seconds\n",
      "loop number 248 out of 500 took 0.9438729286193848 seconds\n",
      "loop number 249 out of 500 took 0.9287075996398926 seconds\n",
      "loop number 250 out of 500 took 0.956794261932373 seconds\n",
      "loop number 251 out of 500 took 0.9396567344665527 seconds\n",
      "loop number 252 out of 500 took 0.9665346145629883 seconds\n",
      "loop number 253 out of 500 took 1.0088880062103271 seconds\n",
      "loop number 254 out of 500 took 0.9394593238830566 seconds\n",
      "loop number 255 out of 500 took 0.9352881908416748 seconds\n",
      "loop number 256 out of 500 took 1.0150012969970703 seconds\n",
      "loop number 257 out of 500 took 1.0045390129089355 seconds\n",
      "loop number 258 out of 500 took 0.9529280662536621 seconds\n",
      "loop number 259 out of 500 took 0.9315266609191895 seconds\n",
      "loop number 260 out of 500 took 0.931372880935669 seconds\n",
      "loop number 261 out of 500 took 0.9372162818908691 seconds\n",
      "loop number 262 out of 500 took 0.9284684658050537 seconds\n",
      "loop number 263 out of 500 took 0.923832893371582 seconds\n",
      "loop number 264 out of 500 took 0.9169769287109375 seconds\n",
      "loop number 265 out of 500 took 0.9280774593353271 seconds\n",
      "loop number 266 out of 500 took 0.9270954132080078 seconds\n",
      "loop number 267 out of 500 took 0.9305412769317627 seconds\n",
      "loop number 268 out of 500 took 0.9392549991607666 seconds\n",
      "loop number 269 out of 500 took 0.9061295986175537 seconds\n",
      "loop number 270 out of 500 took 0.9071006774902344 seconds\n",
      "loop number 271 out of 500 took 0.9085087776184082 seconds\n",
      "loop number 272 out of 500 took 0.9068701267242432 seconds\n",
      "loop number 273 out of 500 took 0.9020519256591797 seconds\n",
      "loop number 274 out of 500 took 0.8997716903686523 seconds\n",
      "loop number 275 out of 500 took 0.9035007953643799 seconds\n",
      "loop number 276 out of 500 took 0.9020206928253174 seconds\n",
      "loop number 277 out of 500 took 0.8943209648132324 seconds\n",
      "loop number 278 out of 500 took 0.9026651382446289 seconds\n",
      "loop number 279 out of 500 took 0.9044432640075684 seconds\n",
      "loop number 280 out of 500 took 0.9217569828033447 seconds\n",
      "loop number 281 out of 500 took 0.9035348892211914 seconds\n",
      "loop number 282 out of 500 took 0.9081552028656006 seconds\n",
      "loop number 283 out of 500 took 0.8931930065155029 seconds\n",
      "loop number 284 out of 500 took 0.9270422458648682 seconds\n",
      "loop number 285 out of 500 took 0.9109947681427002 seconds\n",
      "loop number 286 out of 500 took 0.8951835632324219 seconds\n",
      "loop number 287 out of 500 took 0.8993782997131348 seconds\n",
      "loop number 288 out of 500 took 0.9025437831878662 seconds\n",
      "loop number 289 out of 500 took 0.9043965339660645 seconds\n",
      "loop number 290 out of 500 took 0.9833114147186279 seconds\n",
      "loop number 291 out of 500 took 0.9472875595092773 seconds\n",
      "loop number 292 out of 500 took 0.9300103187561035 seconds\n",
      "loop number 293 out of 500 took 0.9001274108886719 seconds\n",
      "loop number 294 out of 500 took 0.9115903377532959 seconds\n",
      "loop number 295 out of 500 took 0.89697265625 seconds\n",
      "loop number 296 out of 500 took 0.8952517509460449 seconds\n",
      "loop number 297 out of 500 took 0.9068524837493896 seconds\n",
      "loop number 298 out of 500 took 0.9119906425476074 seconds\n",
      "loop number 299 out of 500 took 0.9012303352355957 seconds\n",
      "loop number 300 out of 500 took 0.888831615447998 seconds\n",
      "loop number 301 out of 500 took 0.9052772521972656 seconds\n",
      "loop number 302 out of 500 took 0.8994367122650146 seconds\n",
      "loop number 303 out of 500 took 0.8917391300201416 seconds\n",
      "loop number 304 out of 500 took 0.9322478771209717 seconds\n",
      "loop number 305 out of 500 took 0.9089138507843018 seconds\n",
      "loop number 306 out of 500 took 0.9126179218292236 seconds\n",
      "loop number 307 out of 500 took 0.9215133190155029 seconds\n",
      "loop number 308 out of 500 took 0.9091763496398926 seconds\n",
      "loop number 309 out of 500 took 0.9138412475585938 seconds\n",
      "loop number 310 out of 500 took 0.898085355758667 seconds\n",
      "loop number 311 out of 500 took 0.8883059024810791 seconds\n",
      "loop number 312 out of 500 took 0.8964159488677979 seconds\n",
      "loop number 313 out of 500 took 0.9022715091705322 seconds\n",
      "loop number 314 out of 500 took 0.8932125568389893 seconds\n",
      "loop number 315 out of 500 took 0.896303653717041 seconds\n",
      "loop number 316 out of 500 took 0.8993096351623535 seconds\n",
      "loop number 317 out of 500 took 0.9219613075256348 seconds\n",
      "loop number 318 out of 500 took 0.901116132736206 seconds\n",
      "loop number 319 out of 500 took 0.8912851810455322 seconds\n",
      "loop number 320 out of 500 took 0.8911788463592529 seconds\n",
      "loop number 321 out of 500 took 0.8998658657073975 seconds\n",
      "loop number 322 out of 500 took 0.9249513149261475 seconds\n",
      "loop number 323 out of 500 took 0.920710563659668 seconds\n",
      "loop number 324 out of 500 took 0.997175931930542 seconds\n",
      "loop number 325 out of 500 took 0.9390301704406738 seconds\n",
      "loop number 326 out of 500 took 0.9207336902618408 seconds\n",
      "loop number 327 out of 500 took 0.9232127666473389 seconds\n",
      "loop number 328 out of 500 took 0.8978197574615479 seconds\n",
      "loop number 329 out of 500 took 0.9275717735290527 seconds\n",
      "loop number 330 out of 500 took 0.8992280960083008 seconds\n",
      "loop number 331 out of 500 took 0.8924140930175781 seconds\n",
      "loop number 332 out of 500 took 0.8928871154785156 seconds\n",
      "loop number 333 out of 500 took 0.9248495101928711 seconds\n",
      "loop number 334 out of 500 took 0.9307191371917725 seconds\n",
      "loop number 335 out of 500 took 0.9150710105895996 seconds\n",
      "loop number 336 out of 500 took 0.9003963470458984 seconds\n",
      "loop number 337 out of 500 took 0.9065730571746826 seconds\n",
      "loop number 338 out of 500 took 0.9029150009155273 seconds\n",
      "loop number 339 out of 500 took 0.9243896007537842 seconds\n",
      "loop number 340 out of 500 took 0.9134411811828613 seconds\n",
      "loop number 341 out of 500 took 0.9157123565673828 seconds\n",
      "loop number 342 out of 500 took 0.8937554359436035 seconds\n",
      "loop number 343 out of 500 took 0.8907895088195801 seconds\n",
      "loop number 344 out of 500 took 0.8932836055755615 seconds\n",
      "loop number 345 out of 500 took 0.8886289596557617 seconds\n",
      "loop number 346 out of 500 took 0.9171857833862305 seconds\n",
      "loop number 347 out of 500 took 0.9044687747955322 seconds\n",
      "loop number 348 out of 500 took 0.9079930782318115 seconds\n",
      "loop number 349 out of 500 took 0.9285757541656494 seconds\n",
      "loop number 350 out of 500 took 0.9146113395690918 seconds\n",
      "loop number 351 out of 500 took 0.9098758697509766 seconds\n",
      "loop number 352 out of 500 took 0.9082865715026855 seconds\n",
      "loop number 353 out of 500 took 0.9336347579956055 seconds\n",
      "loop number 354 out of 500 took 0.9058523178100586 seconds\n",
      "loop number 355 out of 500 took 0.9134945869445801 seconds\n",
      "loop number 356 out of 500 took 0.9493002891540527 seconds\n",
      "loop number 357 out of 500 took 0.9647374153137207 seconds\n",
      "loop number 358 out of 500 took 1.0475635528564453 seconds\n",
      "loop number 359 out of 500 took 0.9431369304656982 seconds\n",
      "loop number 360 out of 500 took 0.9226436614990234 seconds\n",
      "loop number 361 out of 500 took 0.9065146446228027 seconds\n",
      "loop number 362 out of 500 took 0.9027690887451172 seconds\n",
      "loop number 363 out of 500 took 0.9313969612121582 seconds\n",
      "loop number 364 out of 500 took 0.9945235252380371 seconds\n",
      "loop number 365 out of 500 took 0.9257524013519287 seconds\n",
      "loop number 366 out of 500 took 0.9155504703521729 seconds\n",
      "loop number 367 out of 500 took 0.9371731281280518 seconds\n",
      "loop number 368 out of 500 took 0.9480917453765869 seconds\n",
      "loop number 369 out of 500 took 0.9286041259765625 seconds\n",
      "loop number 370 out of 500 took 0.9415743350982666 seconds\n",
      "loop number 371 out of 500 took 0.971019983291626 seconds\n",
      "loop number 372 out of 500 took 0.93330979347229 seconds\n",
      "loop number 373 out of 500 took 0.9124276638031006 seconds\n",
      "loop number 374 out of 500 took 0.9278056621551514 seconds\n",
      "loop number 375 out of 500 took 0.9508633613586426 seconds\n",
      "loop number 376 out of 500 took 0.962348461151123 seconds\n",
      "loop number 377 out of 500 took 0.926992654800415 seconds\n",
      "loop number 378 out of 500 took 0.9345865249633789 seconds\n",
      "loop number 379 out of 500 took 0.9475381374359131 seconds\n",
      "loop number 380 out of 500 took 0.9326965808868408 seconds\n",
      "loop number 381 out of 500 took 0.9723489284515381 seconds\n",
      "loop number 382 out of 500 took 0.9841070175170898 seconds\n",
      "loop number 383 out of 500 took 1.0128943920135498 seconds\n",
      "loop number 384 out of 500 took 0.9814341068267822 seconds\n",
      "loop number 385 out of 500 took 0.9710216522216797 seconds\n",
      "loop number 386 out of 500 took 0.9479048252105713 seconds\n",
      "loop number 387 out of 500 took 0.9870247840881348 seconds\n",
      "loop number 388 out of 500 took 1.0126025676727295 seconds\n",
      "loop number 389 out of 500 took 0.9685592651367188 seconds\n",
      "loop number 390 out of 500 took 0.972907304763794 seconds\n",
      "loop number 391 out of 500 took 0.9928927421569824 seconds\n",
      "loop number 392 out of 500 took 0.9765474796295166 seconds\n",
      "loop number 393 out of 500 took 0.9368174076080322 seconds\n",
      "loop number 394 out of 500 took 0.9181396961212158 seconds\n",
      "loop number 395 out of 500 took 0.9231066703796387 seconds\n",
      "loop number 396 out of 500 took 0.9571807384490967 seconds\n",
      "loop number 397 out of 500 took 0.947810173034668 seconds\n",
      "loop number 398 out of 500 took 0.9564228057861328 seconds\n",
      "loop number 399 out of 500 took 0.9733922481536865 seconds\n",
      "loop number 400 out of 500 took 0.949894905090332 seconds\n",
      "loop number 401 out of 500 took 0.9323928356170654 seconds\n",
      "loop number 402 out of 500 took 0.9598627090454102 seconds\n",
      "loop number 403 out of 500 took 0.9601495265960693 seconds\n",
      "loop number 404 out of 500 took 0.9509761333465576 seconds\n",
      "loop number 405 out of 500 took 0.9317080974578857 seconds\n",
      "loop number 406 out of 500 took 0.9429750442504883 seconds\n",
      "loop number 407 out of 500 took 0.9244487285614014 seconds\n",
      "loop number 408 out of 500 took 0.913628101348877 seconds\n",
      "loop number 409 out of 500 took 0.9026155471801758 seconds\n",
      "loop number 410 out of 500 took 0.8999011516571045 seconds\n",
      "loop number 411 out of 500 took 0.9279687404632568 seconds\n",
      "loop number 412 out of 500 took 0.9056861400604248 seconds\n",
      "loop number 413 out of 500 took 0.9190962314605713 seconds\n",
      "loop number 414 out of 500 took 0.9159793853759766 seconds\n",
      "loop number 415 out of 500 took 0.9112548828125 seconds\n",
      "loop number 416 out of 500 took 0.9037420749664307 seconds\n",
      "loop number 417 out of 500 took 0.901207447052002 seconds\n",
      "loop number 418 out of 500 took 0.9117107391357422 seconds\n",
      "loop number 419 out of 500 took 0.9062836170196533 seconds\n",
      "loop number 420 out of 500 took 0.936678409576416 seconds\n",
      "loop number 421 out of 500 took 0.9347875118255615 seconds\n",
      "loop number 422 out of 500 took 0.9229245185852051 seconds\n",
      "loop number 423 out of 500 took 0.9447762966156006 seconds\n",
      "loop number 424 out of 500 took 0.9883115291595459 seconds\n",
      "loop number 425 out of 500 took 1.0041131973266602 seconds\n",
      "loop number 426 out of 500 took 0.931098461151123 seconds\n",
      "loop number 427 out of 500 took 0.9156370162963867 seconds\n",
      "loop number 428 out of 500 took 0.9135849475860596 seconds\n",
      "loop number 429 out of 500 took 0.9206874370574951 seconds\n",
      "loop number 430 out of 500 took 0.9011201858520508 seconds\n",
      "loop number 431 out of 500 took 0.9054274559020996 seconds\n",
      "loop number 432 out of 500 took 0.9231643676757812 seconds\n",
      "loop number 433 out of 500 took 0.9010930061340332 seconds\n",
      "loop number 434 out of 500 took 0.9321320056915283 seconds\n",
      "loop number 435 out of 500 took 0.9703996181488037 seconds\n",
      "loop number 436 out of 500 took 0.951439380645752 seconds\n",
      "loop number 437 out of 500 took 0.9278292655944824 seconds\n",
      "loop number 438 out of 500 took 0.9065742492675781 seconds\n",
      "loop number 439 out of 500 took 0.9279999732971191 seconds\n",
      "loop number 440 out of 500 took 0.9234287738800049 seconds\n",
      "loop number 441 out of 500 took 0.9118621349334717 seconds\n",
      "loop number 442 out of 500 took 0.9370987415313721 seconds\n",
      "loop number 443 out of 500 took 0.9286637306213379 seconds\n",
      "loop number 444 out of 500 took 0.9144279956817627 seconds\n",
      "loop number 445 out of 500 took 0.9264495372772217 seconds\n",
      "loop number 446 out of 500 took 0.959197998046875 seconds\n",
      "loop number 447 out of 500 took 0.9456555843353271 seconds\n",
      "loop number 448 out of 500 took 0.9381060600280762 seconds\n",
      "loop number 449 out of 500 took 0.92777419090271 seconds\n",
      "loop number 450 out of 500 took 0.9122042655944824 seconds\n",
      "loop number 451 out of 500 took 0.9217941761016846 seconds\n",
      "loop number 452 out of 500 took 0.9193515777587891 seconds\n",
      "loop number 453 out of 500 took 0.9120078086853027 seconds\n",
      "loop number 454 out of 500 took 0.9295132160186768 seconds\n",
      "loop number 455 out of 500 took 0.9386186599731445 seconds\n",
      "loop number 456 out of 500 took 0.9405152797698975 seconds\n",
      "loop number 457 out of 500 took 0.9090807437896729 seconds\n",
      "loop number 458 out of 500 took 1.1210582256317139 seconds\n",
      "loop number 459 out of 500 took 0.9447543621063232 seconds\n",
      "loop number 460 out of 500 took 0.9491727352142334 seconds\n",
      "loop number 461 out of 500 took 0.9090046882629395 seconds\n",
      "loop number 462 out of 500 took 0.9053964614868164 seconds\n",
      "loop number 463 out of 500 took 0.9451489448547363 seconds\n",
      "loop number 464 out of 500 took 0.9009113311767578 seconds\n",
      "loop number 465 out of 500 took 0.9113616943359375 seconds\n",
      "loop number 466 out of 500 took 0.895601749420166 seconds\n",
      "loop number 467 out of 500 took 0.9177241325378418 seconds\n",
      "loop number 468 out of 500 took 0.9067497253417969 seconds\n",
      "loop number 469 out of 500 took 0.9224019050598145 seconds\n",
      "loop number 470 out of 500 took 0.9862537384033203 seconds\n",
      "loop number 471 out of 500 took 0.9362750053405762 seconds\n",
      "loop number 472 out of 500 took 0.9612371921539307 seconds\n",
      "loop number 473 out of 500 took 0.9423274993896484 seconds\n",
      "loop number 474 out of 500 took 0.932593584060669 seconds\n",
      "loop number 475 out of 500 took 0.9540731906890869 seconds\n",
      "loop number 476 out of 500 took 0.9264082908630371 seconds\n",
      "loop number 477 out of 500 took 0.9186406135559082 seconds\n",
      "loop number 478 out of 500 took 0.8996350765228271 seconds\n",
      "loop number 479 out of 500 took 0.9095470905303955 seconds\n",
      "loop number 480 out of 500 took 0.9102392196655273 seconds\n",
      "loop number 481 out of 500 took 0.9157955646514893 seconds\n",
      "loop number 482 out of 500 took 0.9352834224700928 seconds\n",
      "loop number 483 out of 500 took 0.9016973972320557 seconds\n",
      "loop number 484 out of 500 took 0.9448637962341309 seconds\n",
      "loop number 485 out of 500 took 0.9180614948272705 seconds\n",
      "loop number 486 out of 500 took 0.8985166549682617 seconds\n",
      "loop number 487 out of 500 took 0.9078013896942139 seconds\n",
      "loop number 488 out of 500 took 0.9079039096832275 seconds\n",
      "loop number 489 out of 500 took 0.9041578769683838 seconds\n",
      "loop number 490 out of 500 took 0.9064891338348389 seconds\n",
      "loop number 491 out of 500 took 0.9649069309234619 seconds\n",
      "loop number 492 out of 500 took 0.9062597751617432 seconds\n",
      "loop number 493 out of 500 took 0.911067008972168 seconds\n",
      "loop number 494 out of 500 took 0.9139056205749512 seconds\n",
      "loop number 495 out of 500 took 0.8940587043762207 seconds\n",
      "loop number 496 out of 500 took 0.9049904346466064 seconds\n",
      "loop number 497 out of 500 took 0.8934042453765869 seconds\n",
      "loop number 498 out of 500 took 0.8981518745422363 seconds\n",
      "loop number 499 out of 500 took 0.9069337844848633 seconds\n"
     ]
    }
   ],
   "source": [
    "estimators_repeater(estimators=[RandomForestClassifier(), AdaBoostClassifier(), SVC(),LogisticRegression()],X=X,y=y)"
   ]
  },
  {
   "cell_type": "code",
   "execution_count": 12,
   "id": "31a5210e",
   "metadata": {
    "execution": {
     "iopub.execute_input": "2022-09-07T09:34:33.962077Z",
     "iopub.status.busy": "2022-09-07T09:34:33.961666Z",
     "iopub.status.idle": "2022-09-07T09:34:33.985387Z",
     "shell.execute_reply": "2022-09-07T09:34:33.984090Z"
    },
    "papermill": {
     "duration": 0.072155,
     "end_time": "2022-09-07T09:34:33.987971",
     "exception": false,
     "start_time": "2022-09-07T09:34:33.915816",
     "status": "completed"
    },
    "tags": []
   },
   "outputs": [
    {
     "data": {
      "text/html": [
       "<div>\n",
       "<style scoped>\n",
       "    .dataframe tbody tr th:only-of-type {\n",
       "        vertical-align: middle;\n",
       "    }\n",
       "\n",
       "    .dataframe tbody tr th {\n",
       "        vertical-align: top;\n",
       "    }\n",
       "\n",
       "    .dataframe thead th {\n",
       "        text-align: right;\n",
       "    }\n",
       "</style>\n",
       "<table border=\"1\" class=\"dataframe\">\n",
       "  <thead>\n",
       "    <tr style=\"text-align: right;\">\n",
       "      <th></th>\n",
       "      <th>RandomForestClassifier</th>\n",
       "      <th>AdaBoostClassifier</th>\n",
       "      <th>SVC</th>\n",
       "      <th>LogisticRegression</th>\n",
       "    </tr>\n",
       "  </thead>\n",
       "  <tbody>\n",
       "    <tr>\n",
       "      <th>count</th>\n",
       "      <td>500.0</td>\n",
       "      <td>500.000000</td>\n",
       "      <td>500.000000</td>\n",
       "      <td>500.000000</td>\n",
       "    </tr>\n",
       "    <tr>\n",
       "      <th>mean</th>\n",
       "      <td>1.0</td>\n",
       "      <td>0.898992</td>\n",
       "      <td>0.950213</td>\n",
       "      <td>0.840451</td>\n",
       "    </tr>\n",
       "    <tr>\n",
       "      <th>std</th>\n",
       "      <td>0.0</td>\n",
       "      <td>0.009029</td>\n",
       "      <td>0.004435</td>\n",
       "      <td>0.008347</td>\n",
       "    </tr>\n",
       "    <tr>\n",
       "      <th>min</th>\n",
       "      <td>1.0</td>\n",
       "      <td>0.876000</td>\n",
       "      <td>0.936000</td>\n",
       "      <td>0.817333</td>\n",
       "    </tr>\n",
       "    <tr>\n",
       "      <th>25%</th>\n",
       "      <td>1.0</td>\n",
       "      <td>0.893333</td>\n",
       "      <td>0.946667</td>\n",
       "      <td>0.834667</td>\n",
       "    </tr>\n",
       "    <tr>\n",
       "      <th>50%</th>\n",
       "      <td>1.0</td>\n",
       "      <td>0.898667</td>\n",
       "      <td>0.950667</td>\n",
       "      <td>0.840667</td>\n",
       "    </tr>\n",
       "    <tr>\n",
       "      <th>75%</th>\n",
       "      <td>1.0</td>\n",
       "      <td>0.905333</td>\n",
       "      <td>0.953333</td>\n",
       "      <td>0.845333</td>\n",
       "    </tr>\n",
       "    <tr>\n",
       "      <th>max</th>\n",
       "      <td>1.0</td>\n",
       "      <td>0.926667</td>\n",
       "      <td>0.962667</td>\n",
       "      <td>0.868000</td>\n",
       "    </tr>\n",
       "  </tbody>\n",
       "</table>\n",
       "</div>"
      ],
      "text/plain": [
       "       RandomForestClassifier  AdaBoostClassifier         SVC  \\\n",
       "count                   500.0          500.000000  500.000000   \n",
       "mean                      1.0            0.898992    0.950213   \n",
       "std                       0.0            0.009029    0.004435   \n",
       "min                       1.0            0.876000    0.936000   \n",
       "25%                       1.0            0.893333    0.946667   \n",
       "50%                       1.0            0.898667    0.950667   \n",
       "75%                       1.0            0.905333    0.953333   \n",
       "max                       1.0            0.926667    0.962667   \n",
       "\n",
       "       LogisticRegression  \n",
       "count          500.000000  \n",
       "mean             0.840451  \n",
       "std              0.008347  \n",
       "min              0.817333  \n",
       "25%              0.834667  \n",
       "50%              0.840667  \n",
       "75%              0.845333  \n",
       "max              0.868000  "
      ]
     },
     "execution_count": 12,
     "metadata": {},
     "output_type": "execute_result"
    }
   ],
   "source": [
    "training_score_df.describe()"
   ]
  },
  {
   "cell_type": "markdown",
   "id": "500b4a43",
   "metadata": {
    "papermill": {
     "duration": 0.044276,
     "end_time": "2022-09-07T09:34:34.079035",
     "exception": false,
     "start_time": "2022-09-07T09:34:34.034759",
     "status": "completed"
    },
    "tags": []
   },
   "source": [
    "It seems for training score, randomforest rocks ( which is expected), folloed by SVC"
   ]
  },
  {
   "cell_type": "code",
   "execution_count": 13,
   "id": "da487478",
   "metadata": {
    "execution": {
     "iopub.execute_input": "2022-09-07T09:34:34.170385Z",
     "iopub.status.busy": "2022-09-07T09:34:34.169967Z",
     "iopub.status.idle": "2022-09-07T09:34:34.193151Z",
     "shell.execute_reply": "2022-09-07T09:34:34.191957Z"
    },
    "papermill": {
     "duration": 0.071802,
     "end_time": "2022-09-07T09:34:34.195518",
     "exception": false,
     "start_time": "2022-09-07T09:34:34.123716",
     "status": "completed"
    },
    "tags": []
   },
   "outputs": [
    {
     "data": {
      "text/html": [
       "<div>\n",
       "<style scoped>\n",
       "    .dataframe tbody tr th:only-of-type {\n",
       "        vertical-align: middle;\n",
       "    }\n",
       "\n",
       "    .dataframe tbody tr th {\n",
       "        vertical-align: top;\n",
       "    }\n",
       "\n",
       "    .dataframe thead th {\n",
       "        text-align: right;\n",
       "    }\n",
       "</style>\n",
       "<table border=\"1\" class=\"dataframe\">\n",
       "  <thead>\n",
       "    <tr style=\"text-align: right;\">\n",
       "      <th></th>\n",
       "      <th>RandomForestClassifier</th>\n",
       "      <th>AdaBoostClassifier</th>\n",
       "      <th>SVC</th>\n",
       "      <th>LogisticRegression</th>\n",
       "    </tr>\n",
       "  </thead>\n",
       "  <tbody>\n",
       "    <tr>\n",
       "      <th>count</th>\n",
       "      <td>500.000000</td>\n",
       "      <td>500.000000</td>\n",
       "      <td>500.000000</td>\n",
       "      <td>500.000000</td>\n",
       "    </tr>\n",
       "    <tr>\n",
       "      <th>mean</th>\n",
       "      <td>0.863096</td>\n",
       "      <td>0.780344</td>\n",
       "      <td>0.894472</td>\n",
       "      <td>0.813400</td>\n",
       "    </tr>\n",
       "    <tr>\n",
       "      <th>std</th>\n",
       "      <td>0.020355</td>\n",
       "      <td>0.024518</td>\n",
       "      <td>0.017924</td>\n",
       "      <td>0.021834</td>\n",
       "    </tr>\n",
       "    <tr>\n",
       "      <th>min</th>\n",
       "      <td>0.800000</td>\n",
       "      <td>0.696000</td>\n",
       "      <td>0.828000</td>\n",
       "      <td>0.752000</td>\n",
       "    </tr>\n",
       "    <tr>\n",
       "      <th>25%</th>\n",
       "      <td>0.848000</td>\n",
       "      <td>0.764000</td>\n",
       "      <td>0.884000</td>\n",
       "      <td>0.799000</td>\n",
       "    </tr>\n",
       "    <tr>\n",
       "      <th>50%</th>\n",
       "      <td>0.864000</td>\n",
       "      <td>0.780000</td>\n",
       "      <td>0.894000</td>\n",
       "      <td>0.812000</td>\n",
       "    </tr>\n",
       "    <tr>\n",
       "      <th>75%</th>\n",
       "      <td>0.880000</td>\n",
       "      <td>0.796000</td>\n",
       "      <td>0.908000</td>\n",
       "      <td>0.828000</td>\n",
       "    </tr>\n",
       "    <tr>\n",
       "      <th>max</th>\n",
       "      <td>0.920000</td>\n",
       "      <td>0.852000</td>\n",
       "      <td>0.936000</td>\n",
       "      <td>0.872000</td>\n",
       "    </tr>\n",
       "  </tbody>\n",
       "</table>\n",
       "</div>"
      ],
      "text/plain": [
       "       RandomForestClassifier  AdaBoostClassifier         SVC  \\\n",
       "count              500.000000          500.000000  500.000000   \n",
       "mean                 0.863096            0.780344    0.894472   \n",
       "std                  0.020355            0.024518    0.017924   \n",
       "min                  0.800000            0.696000    0.828000   \n",
       "25%                  0.848000            0.764000    0.884000   \n",
       "50%                  0.864000            0.780000    0.894000   \n",
       "75%                  0.880000            0.796000    0.908000   \n",
       "max                  0.920000            0.852000    0.936000   \n",
       "\n",
       "       LogisticRegression  \n",
       "count          500.000000  \n",
       "mean             0.813400  \n",
       "std              0.021834  \n",
       "min              0.752000  \n",
       "25%              0.799000  \n",
       "50%              0.812000  \n",
       "75%              0.828000  \n",
       "max              0.872000  "
      ]
     },
     "execution_count": 13,
     "metadata": {},
     "output_type": "execute_result"
    }
   ],
   "source": [
    "testing_score_df.describe()"
   ]
  },
  {
   "cell_type": "markdown",
   "id": "ca9487e6",
   "metadata": {
    "papermill": {
     "duration": 0.045745,
     "end_time": "2022-09-07T09:34:34.286124",
     "exception": false,
     "start_time": "2022-09-07T09:34:34.240379",
     "status": "completed"
    },
    "tags": []
   },
   "source": [
    "As for testing score, it seems SVC is the best with average score of 0.894472"
   ]
  },
  {
   "cell_type": "code",
   "execution_count": 14,
   "id": "484248a7",
   "metadata": {
    "execution": {
     "iopub.execute_input": "2022-09-07T09:34:34.378575Z",
     "iopub.status.busy": "2022-09-07T09:34:34.377893Z",
     "iopub.status.idle": "2022-09-07T09:34:34.399592Z",
     "shell.execute_reply": "2022-09-07T09:34:34.398803Z"
    },
    "papermill": {
     "duration": 0.070694,
     "end_time": "2022-09-07T09:34:34.401798",
     "exception": false,
     "start_time": "2022-09-07T09:34:34.331104",
     "status": "completed"
    },
    "tags": []
   },
   "outputs": [
    {
     "data": {
      "text/html": [
       "<div>\n",
       "<style scoped>\n",
       "    .dataframe tbody tr th:only-of-type {\n",
       "        vertical-align: middle;\n",
       "    }\n",
       "\n",
       "    .dataframe tbody tr th {\n",
       "        vertical-align: top;\n",
       "    }\n",
       "\n",
       "    .dataframe thead th {\n",
       "        text-align: right;\n",
       "    }\n",
       "</style>\n",
       "<table border=\"1\" class=\"dataframe\">\n",
       "  <thead>\n",
       "    <tr style=\"text-align: right;\">\n",
       "      <th></th>\n",
       "      <th>RandomForestClassifier</th>\n",
       "      <th>AdaBoostClassifier</th>\n",
       "      <th>SVC</th>\n",
       "      <th>LogisticRegression</th>\n",
       "    </tr>\n",
       "  </thead>\n",
       "  <tbody>\n",
       "    <tr>\n",
       "      <th>count</th>\n",
       "      <td>500.000000</td>\n",
       "      <td>500.000000</td>\n",
       "      <td>500.000000</td>\n",
       "      <td>500.000000</td>\n",
       "    </tr>\n",
       "    <tr>\n",
       "      <th>mean</th>\n",
       "      <td>0.519239</td>\n",
       "      <td>0.313106</td>\n",
       "      <td>0.063908</td>\n",
       "      <td>0.037177</td>\n",
       "    </tr>\n",
       "    <tr>\n",
       "      <th>std</th>\n",
       "      <td>0.019644</td>\n",
       "      <td>0.010491</td>\n",
       "      <td>0.003073</td>\n",
       "      <td>0.009725</td>\n",
       "    </tr>\n",
       "    <tr>\n",
       "      <th>min</th>\n",
       "      <td>0.440644</td>\n",
       "      <td>0.294351</td>\n",
       "      <td>0.058333</td>\n",
       "      <td>0.023252</td>\n",
       "    </tr>\n",
       "    <tr>\n",
       "      <th>25%</th>\n",
       "      <td>0.505325</td>\n",
       "      <td>0.305269</td>\n",
       "      <td>0.062066</td>\n",
       "      <td>0.033314</td>\n",
       "    </tr>\n",
       "    <tr>\n",
       "      <th>50%</th>\n",
       "      <td>0.515764</td>\n",
       "      <td>0.311266</td>\n",
       "      <td>0.063432</td>\n",
       "      <td>0.034977</td>\n",
       "    </tr>\n",
       "    <tr>\n",
       "      <th>75%</th>\n",
       "      <td>0.528916</td>\n",
       "      <td>0.318853</td>\n",
       "      <td>0.065182</td>\n",
       "      <td>0.037404</td>\n",
       "    </tr>\n",
       "    <tr>\n",
       "      <th>max</th>\n",
       "      <td>0.644900</td>\n",
       "      <td>0.375808</td>\n",
       "      <td>0.090582</td>\n",
       "      <td>0.109035</td>\n",
       "    </tr>\n",
       "  </tbody>\n",
       "</table>\n",
       "</div>"
      ],
      "text/plain": [
       "       RandomForestClassifier  AdaBoostClassifier         SVC  \\\n",
       "count              500.000000          500.000000  500.000000   \n",
       "mean                 0.519239            0.313106    0.063908   \n",
       "std                  0.019644            0.010491    0.003073   \n",
       "min                  0.440644            0.294351    0.058333   \n",
       "25%                  0.505325            0.305269    0.062066   \n",
       "50%                  0.515764            0.311266    0.063432   \n",
       "75%                  0.528916            0.318853    0.065182   \n",
       "max                  0.644900            0.375808    0.090582   \n",
       "\n",
       "       LogisticRegression  \n",
       "count          500.000000  \n",
       "mean             0.037177  \n",
       "std              0.009725  \n",
       "min              0.023252  \n",
       "25%              0.033314  \n",
       "50%              0.034977  \n",
       "75%              0.037404  \n",
       "max              0.109035  "
      ]
     },
     "execution_count": 14,
     "metadata": {},
     "output_type": "execute_result"
    }
   ],
   "source": [
    "timing_df.describe()"
   ]
  },
  {
   "cell_type": "markdown",
   "id": "bd54402b",
   "metadata": {
    "papermill": {
     "duration": 0.04478,
     "end_time": "2022-09-07T09:34:34.492706",
     "exception": false,
     "start_time": "2022-09-07T09:34:34.447926",
     "status": "completed"
    },
    "tags": []
   },
   "source": [
    "it seems randomforest classifier took average of 0.5 second per fit,predict cycle, while adaboost took 0.3 second while SVC took 0.06 second ! "
   ]
  },
  {
   "cell_type": "markdown",
   "id": "b94fdeff",
   "metadata": {
    "papermill": {
     "duration": 0.045583,
     "end_time": "2022-09-07T09:34:34.584833",
     "exception": false,
     "start_time": "2022-09-07T09:34:34.539250",
     "status": "completed"
    },
    "tags": []
   },
   "source": [
    "So i will use SVC for final submission"
   ]
  },
  {
   "cell_type": "code",
   "execution_count": 15,
   "id": "752c71c6",
   "metadata": {
    "execution": {
     "iopub.execute_input": "2022-09-07T09:34:34.677499Z",
     "iopub.status.busy": "2022-09-07T09:34:34.676758Z",
     "iopub.status.idle": "2022-09-07T09:34:34.692721Z",
     "shell.execute_reply": "2022-09-07T09:34:34.691520Z"
    },
    "papermill": {
     "duration": 0.06509,
     "end_time": "2022-09-07T09:34:34.695330",
     "exception": false,
     "start_time": "2022-09-07T09:34:34.630240",
     "status": "completed"
    },
    "tags": []
   },
   "outputs": [
    {
     "data": {
      "text/html": [
       "<div>\n",
       "<style scoped>\n",
       "    .dataframe tbody tr th:only-of-type {\n",
       "        vertical-align: middle;\n",
       "    }\n",
       "\n",
       "    .dataframe tbody tr th {\n",
       "        vertical-align: top;\n",
       "    }\n",
       "\n",
       "    .dataframe thead th {\n",
       "        text-align: right;\n",
       "    }\n",
       "</style>\n",
       "<table border=\"1\" class=\"dataframe\">\n",
       "  <thead>\n",
       "    <tr style=\"text-align: right;\">\n",
       "      <th></th>\n",
       "      <th>RandomForestClassifier</th>\n",
       "      <th>AdaBoostClassifier</th>\n",
       "      <th>SVC</th>\n",
       "      <th>LogisticRegression</th>\n",
       "    </tr>\n",
       "  </thead>\n",
       "  <tbody>\n",
       "    <tr>\n",
       "      <th>303</th>\n",
       "      <td>0.892</td>\n",
       "      <td>0.792</td>\n",
       "      <td>0.936</td>\n",
       "      <td>0.852</td>\n",
       "    </tr>\n",
       "    <tr>\n",
       "      <th>194</th>\n",
       "      <td>0.920</td>\n",
       "      <td>0.808</td>\n",
       "      <td>0.936</td>\n",
       "      <td>0.848</td>\n",
       "    </tr>\n",
       "    <tr>\n",
       "      <th>179</th>\n",
       "      <td>0.908</td>\n",
       "      <td>0.820</td>\n",
       "      <td>0.936</td>\n",
       "      <td>0.836</td>\n",
       "    </tr>\n",
       "    <tr>\n",
       "      <th>82</th>\n",
       "      <td>0.896</td>\n",
       "      <td>0.812</td>\n",
       "      <td>0.936</td>\n",
       "      <td>0.828</td>\n",
       "    </tr>\n",
       "    <tr>\n",
       "      <th>190</th>\n",
       "      <td>0.888</td>\n",
       "      <td>0.780</td>\n",
       "      <td>0.932</td>\n",
       "      <td>0.836</td>\n",
       "    </tr>\n",
       "    <tr>\n",
       "      <th>...</th>\n",
       "      <td>...</td>\n",
       "      <td>...</td>\n",
       "      <td>...</td>\n",
       "      <td>...</td>\n",
       "    </tr>\n",
       "    <tr>\n",
       "      <th>406</th>\n",
       "      <td>0.836</td>\n",
       "      <td>0.756</td>\n",
       "      <td>0.852</td>\n",
       "      <td>0.796</td>\n",
       "    </tr>\n",
       "    <tr>\n",
       "      <th>174</th>\n",
       "      <td>0.836</td>\n",
       "      <td>0.792</td>\n",
       "      <td>0.852</td>\n",
       "      <td>0.808</td>\n",
       "    </tr>\n",
       "    <tr>\n",
       "      <th>33</th>\n",
       "      <td>0.804</td>\n",
       "      <td>0.728</td>\n",
       "      <td>0.852</td>\n",
       "      <td>0.764</td>\n",
       "    </tr>\n",
       "    <tr>\n",
       "      <th>35</th>\n",
       "      <td>0.820</td>\n",
       "      <td>0.752</td>\n",
       "      <td>0.848</td>\n",
       "      <td>0.808</td>\n",
       "    </tr>\n",
       "    <tr>\n",
       "      <th>208</th>\n",
       "      <td>0.800</td>\n",
       "      <td>0.768</td>\n",
       "      <td>0.828</td>\n",
       "      <td>0.752</td>\n",
       "    </tr>\n",
       "  </tbody>\n",
       "</table>\n",
       "<p>500 rows × 4 columns</p>\n",
       "</div>"
      ],
      "text/plain": [
       "     RandomForestClassifier  AdaBoostClassifier    SVC  LogisticRegression\n",
       "303                   0.892               0.792  0.936               0.852\n",
       "194                   0.920               0.808  0.936               0.848\n",
       "179                   0.908               0.820  0.936               0.836\n",
       "82                    0.896               0.812  0.936               0.828\n",
       "190                   0.888               0.780  0.932               0.836\n",
       "..                      ...                 ...    ...                 ...\n",
       "406                   0.836               0.756  0.852               0.796\n",
       "174                   0.836               0.792  0.852               0.808\n",
       "33                    0.804               0.728  0.852               0.764\n",
       "35                    0.820               0.752  0.848               0.808\n",
       "208                   0.800               0.768  0.828               0.752\n",
       "\n",
       "[500 rows x 4 columns]"
      ]
     },
     "execution_count": 15,
     "metadata": {},
     "output_type": "execute_result"
    }
   ],
   "source": [
    "testing_score_df.sort_values(by='SVC',ascending=False)"
   ]
  },
  {
   "cell_type": "code",
   "execution_count": 16,
   "id": "3ce21cf5",
   "metadata": {
    "execution": {
     "iopub.execute_input": "2022-09-07T09:34:34.788179Z",
     "iopub.status.busy": "2022-09-07T09:34:34.787444Z",
     "iopub.status.idle": "2022-09-07T09:34:34.792340Z",
     "shell.execute_reply": "2022-09-07T09:34:34.791278Z"
    },
    "papermill": {
     "duration": 0.05414,
     "end_time": "2022-09-07T09:34:34.794903",
     "exception": false,
     "start_time": "2022-09-07T09:34:34.740763",
     "status": "completed"
    },
    "tags": []
   },
   "outputs": [],
   "source": [
    "# initiate SVC instance with random_state that get the most svc score from the predefined function\n",
    "prediction=SVC(random_state=303)"
   ]
  },
  {
   "cell_type": "code",
   "execution_count": 17,
   "id": "5f0ddfc1",
   "metadata": {
    "execution": {
     "iopub.execute_input": "2022-09-07T09:34:34.887921Z",
     "iopub.status.busy": "2022-09-07T09:34:34.887111Z",
     "iopub.status.idle": "2022-09-07T09:34:34.932462Z",
     "shell.execute_reply": "2022-09-07T09:34:34.931705Z"
    },
    "papermill": {
     "duration": 0.094769,
     "end_time": "2022-09-07T09:34:34.934608",
     "exception": false,
     "start_time": "2022-09-07T09:34:34.839839",
     "status": "completed"
    },
    "tags": []
   },
   "outputs": [
    {
     "data": {
      "text/plain": [
       "SVC(random_state=303)"
      ]
     },
     "execution_count": 17,
     "metadata": {},
     "output_type": "execute_result"
    }
   ],
   "source": [
    "# fitting whole test.csv and trainlabel.csv\n",
    "prediction.fit(X,y)"
   ]
  },
  {
   "cell_type": "code",
   "execution_count": 18,
   "id": "9864f7e3",
   "metadata": {
    "execution": {
     "iopub.execute_input": "2022-09-07T09:34:35.028274Z",
     "iopub.status.busy": "2022-09-07T09:34:35.027573Z",
     "iopub.status.idle": "2022-09-07T09:34:35.205117Z",
     "shell.execute_reply": "2022-09-07T09:34:35.203873Z"
    },
    "papermill": {
     "duration": 0.228141,
     "end_time": "2022-09-07T09:34:35.207846",
     "exception": false,
     "start_time": "2022-09-07T09:34:34.979705",
     "status": "completed"
    },
    "tags": []
   },
   "outputs": [],
   "source": [
    "# defining test data that will be predicted for submission\n",
    "test_data= pd.read_csv('../input/data-science-london-scikit-learn/test.csv',header=None)"
   ]
  },
  {
   "cell_type": "code",
   "execution_count": 19,
   "id": "2b3c7261",
   "metadata": {
    "execution": {
     "iopub.execute_input": "2022-09-07T09:34:35.301792Z",
     "iopub.status.busy": "2022-09-07T09:34:35.301023Z",
     "iopub.status.idle": "2022-09-07T09:34:35.664304Z",
     "shell.execute_reply": "2022-09-07T09:34:35.662931Z"
    },
    "papermill": {
     "duration": 0.413389,
     "end_time": "2022-09-07T09:34:35.666981",
     "exception": false,
     "start_time": "2022-09-07T09:34:35.253592",
     "status": "completed"
    },
    "tags": []
   },
   "outputs": [],
   "source": [
    "predictions=prediction.predict(test_data)"
   ]
  },
  {
   "cell_type": "code",
   "execution_count": 20,
   "id": "f8012e12",
   "metadata": {
    "execution": {
     "iopub.execute_input": "2022-09-07T09:34:35.759081Z",
     "iopub.status.busy": "2022-09-07T09:34:35.758678Z",
     "iopub.status.idle": "2022-09-07T09:34:35.772762Z",
     "shell.execute_reply": "2022-09-07T09:34:35.771573Z"
    },
    "papermill": {
     "duration": 0.0632,
     "end_time": "2022-09-07T09:34:35.775302",
     "exception": false,
     "start_time": "2022-09-07T09:34:35.712102",
     "status": "completed"
    },
    "tags": []
   },
   "outputs": [],
   "source": [
    "# constructing of submission dataframe\n",
    "df=pd.DataFrame()\n",
    "df['Id']=[i for i in range(1,9001)]\n",
    "df['Solution']=predictions"
   ]
  },
  {
   "cell_type": "code",
   "execution_count": 21,
   "id": "dc017c7b",
   "metadata": {
    "execution": {
     "iopub.execute_input": "2022-09-07T09:34:35.870331Z",
     "iopub.status.busy": "2022-09-07T09:34:35.869565Z",
     "iopub.status.idle": "2022-09-07T09:34:35.879792Z",
     "shell.execute_reply": "2022-09-07T09:34:35.878660Z"
    },
    "papermill": {
     "duration": 0.060728,
     "end_time": "2022-09-07T09:34:35.882088",
     "exception": false,
     "start_time": "2022-09-07T09:34:35.821360",
     "status": "completed"
    },
    "tags": []
   },
   "outputs": [
    {
     "data": {
      "text/html": [
       "<div>\n",
       "<style scoped>\n",
       "    .dataframe tbody tr th:only-of-type {\n",
       "        vertical-align: middle;\n",
       "    }\n",
       "\n",
       "    .dataframe tbody tr th {\n",
       "        vertical-align: top;\n",
       "    }\n",
       "\n",
       "    .dataframe thead th {\n",
       "        text-align: right;\n",
       "    }\n",
       "</style>\n",
       "<table border=\"1\" class=\"dataframe\">\n",
       "  <thead>\n",
       "    <tr style=\"text-align: right;\">\n",
       "      <th></th>\n",
       "      <th>Id</th>\n",
       "      <th>Solution</th>\n",
       "    </tr>\n",
       "  </thead>\n",
       "  <tbody>\n",
       "    <tr>\n",
       "      <th>8995</th>\n",
       "      <td>8996</td>\n",
       "      <td>1</td>\n",
       "    </tr>\n",
       "    <tr>\n",
       "      <th>8996</th>\n",
       "      <td>8997</td>\n",
       "      <td>1</td>\n",
       "    </tr>\n",
       "    <tr>\n",
       "      <th>8997</th>\n",
       "      <td>8998</td>\n",
       "      <td>1</td>\n",
       "    </tr>\n",
       "    <tr>\n",
       "      <th>8998</th>\n",
       "      <td>8999</td>\n",
       "      <td>0</td>\n",
       "    </tr>\n",
       "    <tr>\n",
       "      <th>8999</th>\n",
       "      <td>9000</td>\n",
       "      <td>1</td>\n",
       "    </tr>\n",
       "  </tbody>\n",
       "</table>\n",
       "</div>"
      ],
      "text/plain": [
       "        Id  Solution\n",
       "8995  8996         1\n",
       "8996  8997         1\n",
       "8997  8998         1\n",
       "8998  8999         0\n",
       "8999  9000         1"
      ]
     },
     "execution_count": 21,
     "metadata": {},
     "output_type": "execute_result"
    }
   ],
   "source": [
    "df.tail()"
   ]
  },
  {
   "cell_type": "code",
   "execution_count": 22,
   "id": "52f2cb84",
   "metadata": {
    "execution": {
     "iopub.execute_input": "2022-09-07T09:34:35.975729Z",
     "iopub.status.busy": "2022-09-07T09:34:35.974957Z",
     "iopub.status.idle": "2022-09-07T09:34:35.991865Z",
     "shell.execute_reply": "2022-09-07T09:34:35.990877Z"
    },
    "papermill": {
     "duration": 0.066501,
     "end_time": "2022-09-07T09:34:35.994741",
     "exception": false,
     "start_time": "2022-09-07T09:34:35.928240",
     "status": "completed"
    },
    "tags": []
   },
   "outputs": [],
   "source": [
    "df.to_csv('submission.csv',index=False)"
   ]
  },
  {
   "cell_type": "markdown",
   "id": "486637a2",
   "metadata": {
    "papermill": {
     "duration": 0.044984,
     "end_time": "2022-09-07T09:34:36.086166",
     "exception": false,
     "start_time": "2022-09-07T09:34:36.041182",
     "status": "completed"
    },
    "tags": []
   },
   "source": [
    "Final submission get me **0.89819** which consider good, as i didn't use gridsearch"
   ]
  }
 ],
 "metadata": {
  "kernelspec": {
   "display_name": "Python 3",
   "language": "python",
   "name": "python3"
  },
  "language_info": {
   "codemirror_mode": {
    "name": "ipython",
    "version": 3
   },
   "file_extension": ".py",
   "mimetype": "text/x-python",
   "name": "python",
   "nbconvert_exporter": "python",
   "pygments_lexer": "ipython3",
   "version": "3.7.12"
  },
  "papermill": {
   "default_parameters": {},
   "duration": 491.994943,
   "end_time": "2022-09-07T09:34:36.955680",
   "environment_variables": {},
   "exception": null,
   "input_path": "__notebook__.ipynb",
   "output_path": "__notebook__.ipynb",
   "parameters": {},
   "start_time": "2022-09-07T09:26:24.960737",
   "version": "2.3.4"
  }
 },
 "nbformat": 4,
 "nbformat_minor": 5
}

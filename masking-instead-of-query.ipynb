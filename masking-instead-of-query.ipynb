{
 "cells": [
  {
   "cell_type": "code",
   "execution_count": 1,
   "id": "90814123",
   "metadata": {
    "execution": {
     "iopub.execute_input": "2022-03-07T21:52:01.695095Z",
     "iopub.status.busy": "2022-03-07T21:52:01.694443Z",
     "iopub.status.idle": "2022-03-07T21:52:01.714402Z",
     "shell.execute_reply": "2022-03-07T21:52:01.714941Z",
     "shell.execute_reply.started": "2022-03-07T21:49:05.482368Z"
    },
    "papermill": {
     "duration": 0.062881,
     "end_time": "2022-03-07T21:52:01.715221",
     "exception": false,
     "start_time": "2022-03-07T21:52:01.652340",
     "status": "completed"
    },
    "tags": []
   },
   "outputs": [
    {
     "data": {
      "text/html": [
       "<div>\n",
       "<style scoped>\n",
       "    .dataframe tbody tr th:only-of-type {\n",
       "        vertical-align: middle;\n",
       "    }\n",
       "\n",
       "    .dataframe tbody tr th {\n",
       "        vertical-align: top;\n",
       "    }\n",
       "\n",
       "    .dataframe thead th {\n",
       "        text-align: right;\n",
       "    }\n",
       "</style>\n",
       "<table border=\"1\" class=\"dataframe\">\n",
       "  <thead>\n",
       "    <tr style=\"text-align: right;\">\n",
       "      <th></th>\n",
       "      <th>A</th>\n",
       "      <th>B</th>\n",
       "      <th>C</th>\n",
       "      <th>D</th>\n",
       "      <th>E</th>\n",
       "      <th>F</th>\n",
       "    </tr>\n",
       "  </thead>\n",
       "  <tbody>\n",
       "    <tr>\n",
       "      <th>0</th>\n",
       "      <td>7</td>\n",
       "      <td>4</td>\n",
       "      <td>1</td>\n",
       "      <td>4</td>\n",
       "      <td>2</td>\n",
       "      <td>7</td>\n",
       "    </tr>\n",
       "    <tr>\n",
       "      <th>1</th>\n",
       "      <td>7</td>\n",
       "      <td>5</td>\n",
       "      <td>4</td>\n",
       "      <td>1</td>\n",
       "      <td>4</td>\n",
       "      <td>5</td>\n",
       "    </tr>\n",
       "    <tr>\n",
       "      <th>2</th>\n",
       "      <td>7</td>\n",
       "      <td>1</td>\n",
       "      <td>1</td>\n",
       "      <td>9</td>\n",
       "      <td>3</td>\n",
       "      <td>8</td>\n",
       "    </tr>\n",
       "    <tr>\n",
       "      <th>3</th>\n",
       "      <td>6</td>\n",
       "      <td>8</td>\n",
       "      <td>2</td>\n",
       "      <td>8</td>\n",
       "      <td>1</td>\n",
       "      <td>0</td>\n",
       "    </tr>\n",
       "    <tr>\n",
       "      <th>4</th>\n",
       "      <td>1</td>\n",
       "      <td>8</td>\n",
       "      <td>4</td>\n",
       "      <td>1</td>\n",
       "      <td>3</td>\n",
       "      <td>6</td>\n",
       "    </tr>\n",
       "  </tbody>\n",
       "</table>\n",
       "</div>"
      ],
      "text/plain": [
       "   A  B  C  D  E  F\n",
       "0  7  4  1  4  2  7\n",
       "1  7  5  4  1  4  5\n",
       "2  7  1  1  9  3  8\n",
       "3  6  8  2  8  1  0\n",
       "4  1  8  4  1  3  6"
      ]
     },
     "execution_count": 1,
     "metadata": {},
     "output_type": "execute_result"
    }
   ],
   "source": [
    "import numpy as np\n",
    "import pandas as pd\n",
    "df = pd.DataFrame(np.random.randint(10, size=(5,6)), columns=list(\"ABCDEF\"))\n",
    "df"
   ]
  },
  {
   "cell_type": "markdown",
   "id": "307f1f75",
   "metadata": {
    "papermill": {
     "duration": 0.030635,
     "end_time": "2022-03-07T21:52:01.779952",
     "exception": false,
     "start_time": "2022-03-07T21:52:01.749317",
     "status": "completed"
    },
    "tags": []
   },
   "source": [
    "# EXAMPLE 1"
   ]
  },
  {
   "cell_type": "code",
   "execution_count": 2,
   "id": "33af594d",
   "metadata": {
    "execution": {
     "iopub.execute_input": "2022-03-07T21:52:01.845789Z",
     "iopub.status.busy": "2022-03-07T21:52:01.845127Z",
     "iopub.status.idle": "2022-03-07T21:52:01.862719Z",
     "shell.execute_reply": "2022-03-07T21:52:01.863259Z",
     "shell.execute_reply.started": "2022-03-07T21:49:05.529435Z"
    },
    "papermill": {
     "duration": 0.051869,
     "end_time": "2022-03-07T21:52:01.863422",
     "exception": false,
     "start_time": "2022-03-07T21:52:01.811553",
     "status": "completed"
    },
    "tags": []
   },
   "outputs": [
    {
     "data": {
      "text/html": [
       "<div>\n",
       "<style scoped>\n",
       "    .dataframe tbody tr th:only-of-type {\n",
       "        vertical-align: middle;\n",
       "    }\n",
       "\n",
       "    .dataframe tbody tr th {\n",
       "        vertical-align: top;\n",
       "    }\n",
       "\n",
       "    .dataframe thead th {\n",
       "        text-align: right;\n",
       "    }\n",
       "</style>\n",
       "<table border=\"1\" class=\"dataframe\">\n",
       "  <thead>\n",
       "    <tr style=\"text-align: right;\">\n",
       "      <th></th>\n",
       "      <th>A</th>\n",
       "      <th>B</th>\n",
       "      <th>C</th>\n",
       "      <th>D</th>\n",
       "      <th>E</th>\n",
       "      <th>F</th>\n",
       "    </tr>\n",
       "  </thead>\n",
       "  <tbody>\n",
       "    <tr>\n",
       "      <th>0</th>\n",
       "      <td>7</td>\n",
       "      <td>4</td>\n",
       "      <td>1</td>\n",
       "      <td>4</td>\n",
       "      <td>2</td>\n",
       "      <td>7</td>\n",
       "    </tr>\n",
       "    <tr>\n",
       "      <th>1</th>\n",
       "      <td>7</td>\n",
       "      <td>5</td>\n",
       "      <td>4</td>\n",
       "      <td>1</td>\n",
       "      <td>4</td>\n",
       "      <td>5</td>\n",
       "    </tr>\n",
       "    <tr>\n",
       "      <th>2</th>\n",
       "      <td>7</td>\n",
       "      <td>1</td>\n",
       "      <td>1</td>\n",
       "      <td>9</td>\n",
       "      <td>3</td>\n",
       "      <td>8</td>\n",
       "    </tr>\n",
       "    <tr>\n",
       "      <th>3</th>\n",
       "      <td>6</td>\n",
       "      <td>8</td>\n",
       "      <td>2</td>\n",
       "      <td>8</td>\n",
       "      <td>1</td>\n",
       "      <td>0</td>\n",
       "    </tr>\n",
       "  </tbody>\n",
       "</table>\n",
       "</div>"
      ],
      "text/plain": [
       "   A  B  C  D  E  F\n",
       "0  7  4  1  4  2  7\n",
       "1  7  5  4  1  4  5\n",
       "2  7  1  1  9  3  8\n",
       "3  6  8  2  8  1  0"
      ]
     },
     "execution_count": 2,
     "metadata": {},
     "output_type": "execute_result"
    }
   ],
   "source": [
    "df.query(\"A > 4\")"
   ]
  },
  {
   "cell_type": "code",
   "execution_count": 3,
   "id": "b9442da2",
   "metadata": {
    "execution": {
     "iopub.execute_input": "2022-03-07T21:52:01.929401Z",
     "iopub.status.busy": "2022-03-07T21:52:01.928730Z",
     "iopub.status.idle": "2022-03-07T21:52:01.937906Z",
     "shell.execute_reply": "2022-03-07T21:52:01.938371Z",
     "shell.execute_reply.started": "2022-03-07T21:49:05.552588Z"
    },
    "papermill": {
     "duration": 0.043799,
     "end_time": "2022-03-07T21:52:01.938540",
     "exception": false,
     "start_time": "2022-03-07T21:52:01.894741",
     "status": "completed"
    },
    "tags": []
   },
   "outputs": [
    {
     "data": {
      "text/html": [
       "<div>\n",
       "<style scoped>\n",
       "    .dataframe tbody tr th:only-of-type {\n",
       "        vertical-align: middle;\n",
       "    }\n",
       "\n",
       "    .dataframe tbody tr th {\n",
       "        vertical-align: top;\n",
       "    }\n",
       "\n",
       "    .dataframe thead th {\n",
       "        text-align: right;\n",
       "    }\n",
       "</style>\n",
       "<table border=\"1\" class=\"dataframe\">\n",
       "  <thead>\n",
       "    <tr style=\"text-align: right;\">\n",
       "      <th></th>\n",
       "      <th>A</th>\n",
       "      <th>B</th>\n",
       "      <th>C</th>\n",
       "      <th>D</th>\n",
       "      <th>E</th>\n",
       "      <th>F</th>\n",
       "    </tr>\n",
       "  </thead>\n",
       "  <tbody>\n",
       "    <tr>\n",
       "      <th>0</th>\n",
       "      <td>7</td>\n",
       "      <td>4</td>\n",
       "      <td>1</td>\n",
       "      <td>4</td>\n",
       "      <td>2</td>\n",
       "      <td>7</td>\n",
       "    </tr>\n",
       "    <tr>\n",
       "      <th>1</th>\n",
       "      <td>7</td>\n",
       "      <td>5</td>\n",
       "      <td>4</td>\n",
       "      <td>1</td>\n",
       "      <td>4</td>\n",
       "      <td>5</td>\n",
       "    </tr>\n",
       "    <tr>\n",
       "      <th>2</th>\n",
       "      <td>7</td>\n",
       "      <td>1</td>\n",
       "      <td>1</td>\n",
       "      <td>9</td>\n",
       "      <td>3</td>\n",
       "      <td>8</td>\n",
       "    </tr>\n",
       "    <tr>\n",
       "      <th>3</th>\n",
       "      <td>6</td>\n",
       "      <td>8</td>\n",
       "      <td>2</td>\n",
       "      <td>8</td>\n",
       "      <td>1</td>\n",
       "      <td>0</td>\n",
       "    </tr>\n",
       "  </tbody>\n",
       "</table>\n",
       "</div>"
      ],
      "text/plain": [
       "   A  B  C  D  E  F\n",
       "0  7  4  1  4  2  7\n",
       "1  7  5  4  1  4  5\n",
       "2  7  1  1  9  3  8\n",
       "3  6  8  2  8  1  0"
      ]
     },
     "execution_count": 3,
     "metadata": {},
     "output_type": "execute_result"
    }
   ],
   "source": [
    "df[df['A']>4]"
   ]
  },
  {
   "cell_type": "markdown",
   "id": "bf0088f4",
   "metadata": {
    "papermill": {
     "duration": 0.032906,
     "end_time": "2022-03-07T21:52:02.004446",
     "exception": false,
     "start_time": "2022-03-07T21:52:01.971540",
     "status": "completed"
    },
    "tags": []
   },
   "source": [
    "# EXAMPLE 2"
   ]
  },
  {
   "cell_type": "code",
   "execution_count": 4,
   "id": "594fad4b",
   "metadata": {
    "execution": {
     "iopub.execute_input": "2022-03-07T21:52:02.083532Z",
     "iopub.status.busy": "2022-03-07T21:52:02.082783Z",
     "iopub.status.idle": "2022-03-07T21:52:02.085904Z",
     "shell.execute_reply": "2022-03-07T21:52:02.086402Z",
     "shell.execute_reply.started": "2022-03-07T21:49:05.564585Z"
    },
    "papermill": {
     "duration": 0.047989,
     "end_time": "2022-03-07T21:52:02.086572",
     "exception": false,
     "start_time": "2022-03-07T21:52:02.038583",
     "status": "completed"
    },
    "tags": []
   },
   "outputs": [
    {
     "data": {
      "text/html": [
       "<div>\n",
       "<style scoped>\n",
       "    .dataframe tbody tr th:only-of-type {\n",
       "        vertical-align: middle;\n",
       "    }\n",
       "\n",
       "    .dataframe tbody tr th {\n",
       "        vertical-align: top;\n",
       "    }\n",
       "\n",
       "    .dataframe thead th {\n",
       "        text-align: right;\n",
       "    }\n",
       "</style>\n",
       "<table border=\"1\" class=\"dataframe\">\n",
       "  <thead>\n",
       "    <tr style=\"text-align: right;\">\n",
       "      <th></th>\n",
       "      <th>A</th>\n",
       "      <th>B</th>\n",
       "      <th>C</th>\n",
       "      <th>D</th>\n",
       "      <th>E</th>\n",
       "      <th>F</th>\n",
       "    </tr>\n",
       "  </thead>\n",
       "  <tbody>\n",
       "    <tr>\n",
       "      <th>3</th>\n",
       "      <td>6</td>\n",
       "      <td>8</td>\n",
       "      <td>2</td>\n",
       "      <td>8</td>\n",
       "      <td>1</td>\n",
       "      <td>0</td>\n",
       "    </tr>\n",
       "  </tbody>\n",
       "</table>\n",
       "</div>"
      ],
      "text/plain": [
       "   A  B  C  D  E  F\n",
       "3  6  8  2  8  1  0"
      ]
     },
     "execution_count": 4,
     "metadata": {},
     "output_type": "execute_result"
    }
   ],
   "source": [
    "df.query(\"A > 4 and E == 1\")"
   ]
  },
  {
   "cell_type": "code",
   "execution_count": 5,
   "id": "52694950",
   "metadata": {
    "execution": {
     "iopub.execute_input": "2022-03-07T21:52:02.155820Z",
     "iopub.status.busy": "2022-03-07T21:52:02.154855Z",
     "iopub.status.idle": "2022-03-07T21:52:02.165368Z",
     "shell.execute_reply": "2022-03-07T21:52:02.165924Z",
     "shell.execute_reply.started": "2022-03-07T21:49:05.580977Z"
    },
    "papermill": {
     "duration": 0.04673,
     "end_time": "2022-03-07T21:52:02.166094",
     "exception": false,
     "start_time": "2022-03-07T21:52:02.119364",
     "status": "completed"
    },
    "tags": []
   },
   "outputs": [
    {
     "data": {
      "text/html": [
       "<div>\n",
       "<style scoped>\n",
       "    .dataframe tbody tr th:only-of-type {\n",
       "        vertical-align: middle;\n",
       "    }\n",
       "\n",
       "    .dataframe tbody tr th {\n",
       "        vertical-align: top;\n",
       "    }\n",
       "\n",
       "    .dataframe thead th {\n",
       "        text-align: right;\n",
       "    }\n",
       "</style>\n",
       "<table border=\"1\" class=\"dataframe\">\n",
       "  <thead>\n",
       "    <tr style=\"text-align: right;\">\n",
       "      <th></th>\n",
       "      <th>A</th>\n",
       "      <th>B</th>\n",
       "      <th>C</th>\n",
       "      <th>D</th>\n",
       "      <th>E</th>\n",
       "      <th>F</th>\n",
       "    </tr>\n",
       "  </thead>\n",
       "  <tbody>\n",
       "    <tr>\n",
       "      <th>3</th>\n",
       "      <td>6</td>\n",
       "      <td>8</td>\n",
       "      <td>2</td>\n",
       "      <td>8</td>\n",
       "      <td>1</td>\n",
       "      <td>0</td>\n",
       "    </tr>\n",
       "  </tbody>\n",
       "</table>\n",
       "</div>"
      ],
      "text/plain": [
       "   A  B  C  D  E  F\n",
       "3  6  8  2  8  1  0"
      ]
     },
     "execution_count": 5,
     "metadata": {},
     "output_type": "execute_result"
    }
   ],
   "source": [
    "df[(df['A']>4) & (df['E']==1)]"
   ]
  },
  {
   "cell_type": "markdown",
   "id": "3d5dd274",
   "metadata": {
    "papermill": {
     "duration": 0.032792,
     "end_time": "2022-03-07T21:52:02.232004",
     "exception": false,
     "start_time": "2022-03-07T21:52:02.199212",
     "status": "completed"
    },
    "tags": []
   },
   "source": [
    "# EXAMPLE 3"
   ]
  },
  {
   "cell_type": "code",
   "execution_count": 6,
   "id": "b9057e33",
   "metadata": {
    "execution": {
     "iopub.execute_input": "2022-03-07T21:52:02.302667Z",
     "iopub.status.busy": "2022-03-07T21:52:02.301729Z",
     "iopub.status.idle": "2022-03-07T21:52:02.314484Z",
     "shell.execute_reply": "2022-03-07T21:52:02.315077Z",
     "shell.execute_reply.started": "2022-03-07T21:49:05.595013Z"
    },
    "papermill": {
     "duration": 0.050095,
     "end_time": "2022-03-07T21:52:02.315249",
     "exception": false,
     "start_time": "2022-03-07T21:52:02.265154",
     "status": "completed"
    },
    "tags": []
   },
   "outputs": [
    {
     "data": {
      "text/html": [
       "<div>\n",
       "<style scoped>\n",
       "    .dataframe tbody tr th:only-of-type {\n",
       "        vertical-align: middle;\n",
       "    }\n",
       "\n",
       "    .dataframe tbody tr th {\n",
       "        vertical-align: top;\n",
       "    }\n",
       "\n",
       "    .dataframe thead th {\n",
       "        text-align: right;\n",
       "    }\n",
       "</style>\n",
       "<table border=\"1\" class=\"dataframe\">\n",
       "  <thead>\n",
       "    <tr style=\"text-align: right;\">\n",
       "      <th></th>\n",
       "      <th>A</th>\n",
       "      <th>B</th>\n",
       "      <th>C</th>\n",
       "      <th>D</th>\n",
       "      <th>E</th>\n",
       "      <th>F</th>\n",
       "    </tr>\n",
       "  </thead>\n",
       "  <tbody>\n",
       "    <tr>\n",
       "      <th>0</th>\n",
       "      <td>7</td>\n",
       "      <td>4</td>\n",
       "      <td>1</td>\n",
       "      <td>4</td>\n",
       "      <td>2</td>\n",
       "      <td>7</td>\n",
       "    </tr>\n",
       "    <tr>\n",
       "      <th>1</th>\n",
       "      <td>7</td>\n",
       "      <td>5</td>\n",
       "      <td>4</td>\n",
       "      <td>1</td>\n",
       "      <td>4</td>\n",
       "      <td>5</td>\n",
       "    </tr>\n",
       "    <tr>\n",
       "      <th>2</th>\n",
       "      <td>7</td>\n",
       "      <td>1</td>\n",
       "      <td>1</td>\n",
       "      <td>9</td>\n",
       "      <td>3</td>\n",
       "      <td>8</td>\n",
       "    </tr>\n",
       "    <tr>\n",
       "      <th>3</th>\n",
       "      <td>6</td>\n",
       "      <td>8</td>\n",
       "      <td>2</td>\n",
       "      <td>8</td>\n",
       "      <td>1</td>\n",
       "      <td>0</td>\n",
       "    </tr>\n",
       "    <tr>\n",
       "      <th>4</th>\n",
       "      <td>1</td>\n",
       "      <td>8</td>\n",
       "      <td>4</td>\n",
       "      <td>1</td>\n",
       "      <td>3</td>\n",
       "      <td>6</td>\n",
       "    </tr>\n",
       "  </tbody>\n",
       "</table>\n",
       "</div>"
      ],
      "text/plain": [
       "   A  B  C  D  E  F\n",
       "0  7  4  1  4  2  7\n",
       "1  7  5  4  1  4  5\n",
       "2  7  1  1  9  3  8\n",
       "3  6  8  2  8  1  0\n",
       "4  1  8  4  1  3  6"
      ]
     },
     "execution_count": 6,
     "metadata": {},
     "output_type": "execute_result"
    }
   ],
   "source": [
    "df.query(\"A > 2 or F > 4\")"
   ]
  },
  {
   "cell_type": "code",
   "execution_count": 7,
   "id": "4072bfd7",
   "metadata": {
    "execution": {
     "iopub.execute_input": "2022-03-07T21:52:02.387090Z",
     "iopub.status.busy": "2022-03-07T21:52:02.386114Z",
     "iopub.status.idle": "2022-03-07T21:52:02.397044Z",
     "shell.execute_reply": "2022-03-07T21:52:02.397714Z",
     "shell.execute_reply.started": "2022-03-07T21:49:05.613469Z"
    },
    "papermill": {
     "duration": 0.048188,
     "end_time": "2022-03-07T21:52:02.397895",
     "exception": false,
     "start_time": "2022-03-07T21:52:02.349707",
     "status": "completed"
    },
    "tags": []
   },
   "outputs": [
    {
     "data": {
      "text/html": [
       "<div>\n",
       "<style scoped>\n",
       "    .dataframe tbody tr th:only-of-type {\n",
       "        vertical-align: middle;\n",
       "    }\n",
       "\n",
       "    .dataframe tbody tr th {\n",
       "        vertical-align: top;\n",
       "    }\n",
       "\n",
       "    .dataframe thead th {\n",
       "        text-align: right;\n",
       "    }\n",
       "</style>\n",
       "<table border=\"1\" class=\"dataframe\">\n",
       "  <thead>\n",
       "    <tr style=\"text-align: right;\">\n",
       "      <th></th>\n",
       "      <th>A</th>\n",
       "      <th>B</th>\n",
       "      <th>C</th>\n",
       "      <th>D</th>\n",
       "      <th>E</th>\n",
       "      <th>F</th>\n",
       "    </tr>\n",
       "  </thead>\n",
       "  <tbody>\n",
       "    <tr>\n",
       "      <th>0</th>\n",
       "      <td>7</td>\n",
       "      <td>4</td>\n",
       "      <td>1</td>\n",
       "      <td>4</td>\n",
       "      <td>2</td>\n",
       "      <td>7</td>\n",
       "    </tr>\n",
       "    <tr>\n",
       "      <th>1</th>\n",
       "      <td>7</td>\n",
       "      <td>5</td>\n",
       "      <td>4</td>\n",
       "      <td>1</td>\n",
       "      <td>4</td>\n",
       "      <td>5</td>\n",
       "    </tr>\n",
       "    <tr>\n",
       "      <th>2</th>\n",
       "      <td>7</td>\n",
       "      <td>1</td>\n",
       "      <td>1</td>\n",
       "      <td>9</td>\n",
       "      <td>3</td>\n",
       "      <td>8</td>\n",
       "    </tr>\n",
       "    <tr>\n",
       "      <th>3</th>\n",
       "      <td>6</td>\n",
       "      <td>8</td>\n",
       "      <td>2</td>\n",
       "      <td>8</td>\n",
       "      <td>1</td>\n",
       "      <td>0</td>\n",
       "    </tr>\n",
       "    <tr>\n",
       "      <th>4</th>\n",
       "      <td>1</td>\n",
       "      <td>8</td>\n",
       "      <td>4</td>\n",
       "      <td>1</td>\n",
       "      <td>3</td>\n",
       "      <td>6</td>\n",
       "    </tr>\n",
       "  </tbody>\n",
       "</table>\n",
       "</div>"
      ],
      "text/plain": [
       "   A  B  C  D  E  F\n",
       "0  7  4  1  4  2  7\n",
       "1  7  5  4  1  4  5\n",
       "2  7  1  1  9  3  8\n",
       "3  6  8  2  8  1  0\n",
       "4  1  8  4  1  3  6"
      ]
     },
     "execution_count": 7,
     "metadata": {},
     "output_type": "execute_result"
    }
   ],
   "source": [
    "df[(df['A']>2) | (df['F']>4)]"
   ]
  },
  {
   "cell_type": "markdown",
   "id": "9feb1367",
   "metadata": {
    "papermill": {
     "duration": 0.034253,
     "end_time": "2022-03-07T21:52:02.466284",
     "exception": false,
     "start_time": "2022-03-07T21:52:02.432031",
     "status": "completed"
    },
    "tags": []
   },
   "source": [
    "# EXAMPLE 4"
   ]
  },
  {
   "cell_type": "code",
   "execution_count": 8,
   "id": "a4851eea",
   "metadata": {
    "execution": {
     "iopub.execute_input": "2022-03-07T21:52:02.538638Z",
     "iopub.status.busy": "2022-03-07T21:52:02.537690Z",
     "iopub.status.idle": "2022-03-07T21:52:02.550523Z",
     "shell.execute_reply": "2022-03-07T21:52:02.551009Z",
     "shell.execute_reply.started": "2022-03-07T21:49:05.628909Z"
    },
    "papermill": {
     "duration": 0.050948,
     "end_time": "2022-03-07T21:52:02.551185",
     "exception": false,
     "start_time": "2022-03-07T21:52:02.500237",
     "status": "completed"
    },
    "tags": []
   },
   "outputs": [
    {
     "data": {
      "text/html": [
       "<div>\n",
       "<style scoped>\n",
       "    .dataframe tbody tr th:only-of-type {\n",
       "        vertical-align: middle;\n",
       "    }\n",
       "\n",
       "    .dataframe tbody tr th {\n",
       "        vertical-align: top;\n",
       "    }\n",
       "\n",
       "    .dataframe thead th {\n",
       "        text-align: right;\n",
       "    }\n",
       "</style>\n",
       "<table border=\"1\" class=\"dataframe\">\n",
       "  <thead>\n",
       "    <tr style=\"text-align: right;\">\n",
       "      <th></th>\n",
       "      <th>A</th>\n",
       "      <th>B</th>\n",
       "      <th>C</th>\n",
       "      <th>D</th>\n",
       "      <th>E</th>\n",
       "      <th>F</th>\n",
       "    </tr>\n",
       "  </thead>\n",
       "  <tbody>\n",
       "  </tbody>\n",
       "</table>\n",
       "</div>"
      ],
      "text/plain": [
       "Empty DataFrame\n",
       "Columns: [A, B, C, D, E, F]\n",
       "Index: []"
      ]
     },
     "execution_count": 8,
     "metadata": {},
     "output_type": "execute_result"
    }
   ],
   "source": [
    "df.query(\"not (A > 2 or F > 4)\")"
   ]
  },
  {
   "cell_type": "code",
   "execution_count": 9,
   "id": "260bbc6e",
   "metadata": {
    "execution": {
     "iopub.execute_input": "2022-03-07T21:52:02.624262Z",
     "iopub.status.busy": "2022-03-07T21:52:02.623251Z",
     "iopub.status.idle": "2022-03-07T21:52:02.633457Z",
     "shell.execute_reply": "2022-03-07T21:52:02.632832Z",
     "shell.execute_reply.started": "2022-03-07T21:49:05.647097Z"
    },
    "papermill": {
     "duration": 0.0476,
     "end_time": "2022-03-07T21:52:02.633588",
     "exception": false,
     "start_time": "2022-03-07T21:52:02.585988",
     "status": "completed"
    },
    "tags": []
   },
   "outputs": [
    {
     "data": {
      "text/html": [
       "<div>\n",
       "<style scoped>\n",
       "    .dataframe tbody tr th:only-of-type {\n",
       "        vertical-align: middle;\n",
       "    }\n",
       "\n",
       "    .dataframe tbody tr th {\n",
       "        vertical-align: top;\n",
       "    }\n",
       "\n",
       "    .dataframe thead th {\n",
       "        text-align: right;\n",
       "    }\n",
       "</style>\n",
       "<table border=\"1\" class=\"dataframe\">\n",
       "  <thead>\n",
       "    <tr style=\"text-align: right;\">\n",
       "      <th></th>\n",
       "      <th>A</th>\n",
       "      <th>B</th>\n",
       "      <th>C</th>\n",
       "      <th>D</th>\n",
       "      <th>E</th>\n",
       "      <th>F</th>\n",
       "    </tr>\n",
       "  </thead>\n",
       "  <tbody>\n",
       "  </tbody>\n",
       "</table>\n",
       "</div>"
      ],
      "text/plain": [
       "Empty DataFrame\n",
       "Columns: [A, B, C, D, E, F]\n",
       "Index: []"
      ]
     },
     "execution_count": 9,
     "metadata": {},
     "output_type": "execute_result"
    }
   ],
   "source": [
    "df[~((df['A']>2) | (df['F']>4))]"
   ]
  },
  {
   "cell_type": "markdown",
   "id": "af42caac",
   "metadata": {
    "papermill": {
     "duration": 0.035067,
     "end_time": "2022-03-07T21:52:02.703725",
     "exception": false,
     "start_time": "2022-03-07T21:52:02.668658",
     "status": "completed"
    },
    "tags": []
   },
   "source": [
    "# EXAMPLE 5"
   ]
  },
  {
   "cell_type": "code",
   "execution_count": 10,
   "id": "58fcac48",
   "metadata": {
    "execution": {
     "iopub.execute_input": "2022-03-07T21:52:02.776994Z",
     "iopub.status.busy": "2022-03-07T21:52:02.776323Z",
     "iopub.status.idle": "2022-03-07T21:52:02.788085Z",
     "shell.execute_reply": "2022-03-07T21:52:02.788619Z",
     "shell.execute_reply.started": "2022-03-07T21:49:05.659507Z"
    },
    "papermill": {
     "duration": 0.050023,
     "end_time": "2022-03-07T21:52:02.788784",
     "exception": false,
     "start_time": "2022-03-07T21:52:02.738761",
     "status": "completed"
    },
    "tags": []
   },
   "outputs": [
    {
     "data": {
      "text/html": [
       "<div>\n",
       "<style scoped>\n",
       "    .dataframe tbody tr th:only-of-type {\n",
       "        vertical-align: middle;\n",
       "    }\n",
       "\n",
       "    .dataframe tbody tr th {\n",
       "        vertical-align: top;\n",
       "    }\n",
       "\n",
       "    .dataframe thead th {\n",
       "        text-align: right;\n",
       "    }\n",
       "</style>\n",
       "<table border=\"1\" class=\"dataframe\">\n",
       "  <thead>\n",
       "    <tr style=\"text-align: right;\">\n",
       "      <th></th>\n",
       "      <th>A</th>\n",
       "      <th>B</th>\n",
       "      <th>C</th>\n",
       "      <th>D</th>\n",
       "      <th>E</th>\n",
       "      <th>F</th>\n",
       "    </tr>\n",
       "  </thead>\n",
       "  <tbody>\n",
       "    <tr>\n",
       "      <th>4</th>\n",
       "      <td>1</td>\n",
       "      <td>8</td>\n",
       "      <td>4</td>\n",
       "      <td>1</td>\n",
       "      <td>3</td>\n",
       "      <td>6</td>\n",
       "    </tr>\n",
       "  </tbody>\n",
       "</table>\n",
       "</div>"
      ],
      "text/plain": [
       "   A  B  C  D  E  F\n",
       "4  1  8  4  1  3  6"
      ]
     },
     "execution_count": 10,
     "metadata": {},
     "output_type": "execute_result"
    }
   ],
   "source": [
    "df.query(\"A*2 < 5\")"
   ]
  },
  {
   "cell_type": "code",
   "execution_count": 11,
   "id": "eef0831b",
   "metadata": {
    "execution": {
     "iopub.execute_input": "2022-03-07T21:52:02.863146Z",
     "iopub.status.busy": "2022-03-07T21:52:02.862521Z",
     "iopub.status.idle": "2022-03-07T21:52:02.871733Z",
     "shell.execute_reply": "2022-03-07T21:52:02.872320Z",
     "shell.execute_reply.started": "2022-03-07T21:49:05.730299Z"
    },
    "papermill": {
     "duration": 0.048032,
     "end_time": "2022-03-07T21:52:02.872478",
     "exception": false,
     "start_time": "2022-03-07T21:52:02.824446",
     "status": "completed"
    },
    "tags": []
   },
   "outputs": [
    {
     "data": {
      "text/html": [
       "<div>\n",
       "<style scoped>\n",
       "    .dataframe tbody tr th:only-of-type {\n",
       "        vertical-align: middle;\n",
       "    }\n",
       "\n",
       "    .dataframe tbody tr th {\n",
       "        vertical-align: top;\n",
       "    }\n",
       "\n",
       "    .dataframe thead th {\n",
       "        text-align: right;\n",
       "    }\n",
       "</style>\n",
       "<table border=\"1\" class=\"dataframe\">\n",
       "  <thead>\n",
       "    <tr style=\"text-align: right;\">\n",
       "      <th></th>\n",
       "      <th>A</th>\n",
       "      <th>B</th>\n",
       "      <th>C</th>\n",
       "      <th>D</th>\n",
       "      <th>E</th>\n",
       "      <th>F</th>\n",
       "    </tr>\n",
       "  </thead>\n",
       "  <tbody>\n",
       "    <tr>\n",
       "      <th>4</th>\n",
       "      <td>1</td>\n",
       "      <td>8</td>\n",
       "      <td>4</td>\n",
       "      <td>1</td>\n",
       "      <td>3</td>\n",
       "      <td>6</td>\n",
       "    </tr>\n",
       "  </tbody>\n",
       "</table>\n",
       "</div>"
      ],
      "text/plain": [
       "   A  B  C  D  E  F\n",
       "4  1  8  4  1  3  6"
      ]
     },
     "execution_count": 11,
     "metadata": {},
     "output_type": "execute_result"
    }
   ],
   "source": [
    "df[df['A']*2<5]"
   ]
  },
  {
   "cell_type": "markdown",
   "id": "e18b1b28",
   "metadata": {
    "papermill": {
     "duration": 0.036559,
     "end_time": "2022-03-07T21:52:02.944767",
     "exception": false,
     "start_time": "2022-03-07T21:52:02.908208",
     "status": "completed"
    },
    "tags": []
   },
   "source": [
    "# EXAMPLE 6"
   ]
  },
  {
   "cell_type": "code",
   "execution_count": 12,
   "id": "388ab05a",
   "metadata": {
    "execution": {
     "iopub.execute_input": "2022-03-07T21:52:03.021037Z",
     "iopub.status.busy": "2022-03-07T21:52:03.020384Z",
     "iopub.status.idle": "2022-03-07T21:52:03.024058Z",
     "shell.execute_reply": "2022-03-07T21:52:03.024570Z",
     "shell.execute_reply.started": "2022-03-07T21:49:05.743874Z"
    },
    "papermill": {
     "duration": 0.043531,
     "end_time": "2022-03-07T21:52:03.024731",
     "exception": false,
     "start_time": "2022-03-07T21:52:02.981200",
     "status": "completed"
    },
    "tags": []
   },
   "outputs": [],
   "source": [
    "df.F = -1 * df.F # convertig F column to negayive values"
   ]
  },
  {
   "cell_type": "code",
   "execution_count": 13,
   "id": "db4ad9a7",
   "metadata": {
    "execution": {
     "iopub.execute_input": "2022-03-07T21:52:03.099427Z",
     "iopub.status.busy": "2022-03-07T21:52:03.098786Z",
     "iopub.status.idle": "2022-03-07T21:52:03.110163Z",
     "shell.execute_reply": "2022-03-07T21:52:03.110750Z",
     "shell.execute_reply.started": "2022-03-07T21:49:05.751012Z"
    },
    "papermill": {
     "duration": 0.05015,
     "end_time": "2022-03-07T21:52:03.110927",
     "exception": false,
     "start_time": "2022-03-07T21:52:03.060777",
     "status": "completed"
    },
    "tags": []
   },
   "outputs": [
    {
     "data": {
      "text/html": [
       "<div>\n",
       "<style scoped>\n",
       "    .dataframe tbody tr th:only-of-type {\n",
       "        vertical-align: middle;\n",
       "    }\n",
       "\n",
       "    .dataframe tbody tr th {\n",
       "        vertical-align: top;\n",
       "    }\n",
       "\n",
       "    .dataframe thead th {\n",
       "        text-align: right;\n",
       "    }\n",
       "</style>\n",
       "<table border=\"1\" class=\"dataframe\">\n",
       "  <thead>\n",
       "    <tr style=\"text-align: right;\">\n",
       "      <th></th>\n",
       "      <th>A</th>\n",
       "      <th>B</th>\n",
       "      <th>C</th>\n",
       "      <th>D</th>\n",
       "      <th>E</th>\n",
       "      <th>F</th>\n",
       "    </tr>\n",
       "  </thead>\n",
       "  <tbody>\n",
       "    <tr>\n",
       "      <th>0</th>\n",
       "      <td>7</td>\n",
       "      <td>4</td>\n",
       "      <td>1</td>\n",
       "      <td>4</td>\n",
       "      <td>2</td>\n",
       "      <td>-7</td>\n",
       "    </tr>\n",
       "    <tr>\n",
       "      <th>2</th>\n",
       "      <td>7</td>\n",
       "      <td>1</td>\n",
       "      <td>1</td>\n",
       "      <td>9</td>\n",
       "      <td>3</td>\n",
       "      <td>-8</td>\n",
       "    </tr>\n",
       "    <tr>\n",
       "      <th>4</th>\n",
       "      <td>1</td>\n",
       "      <td>8</td>\n",
       "      <td>4</td>\n",
       "      <td>1</td>\n",
       "      <td>3</td>\n",
       "      <td>-6</td>\n",
       "    </tr>\n",
       "  </tbody>\n",
       "</table>\n",
       "</div>"
      ],
      "text/plain": [
       "   A  B  C  D  E  F\n",
       "0  7  4  1  4  2 -7\n",
       "2  7  1  1  9  3 -8\n",
       "4  1  8  4  1  3 -6"
      ]
     },
     "execution_count": 13,
     "metadata": {},
     "output_type": "execute_result"
    }
   ],
   "source": [
    "df.query(\"abs(F) > 5\")"
   ]
  },
  {
   "cell_type": "code",
   "execution_count": 14,
   "id": "c6bc57f2",
   "metadata": {
    "execution": {
     "iopub.execute_input": "2022-03-07T21:52:03.186516Z",
     "iopub.status.busy": "2022-03-07T21:52:03.185911Z",
     "iopub.status.idle": "2022-03-07T21:52:03.195895Z",
     "shell.execute_reply": "2022-03-07T21:52:03.196456Z",
     "shell.execute_reply.started": "2022-03-07T21:49:05.771841Z"
    },
    "papermill": {
     "duration": 0.049428,
     "end_time": "2022-03-07T21:52:03.196629",
     "exception": false,
     "start_time": "2022-03-07T21:52:03.147201",
     "status": "completed"
    },
    "tags": []
   },
   "outputs": [
    {
     "data": {
      "text/html": [
       "<div>\n",
       "<style scoped>\n",
       "    .dataframe tbody tr th:only-of-type {\n",
       "        vertical-align: middle;\n",
       "    }\n",
       "\n",
       "    .dataframe tbody tr th {\n",
       "        vertical-align: top;\n",
       "    }\n",
       "\n",
       "    .dataframe thead th {\n",
       "        text-align: right;\n",
       "    }\n",
       "</style>\n",
       "<table border=\"1\" class=\"dataframe\">\n",
       "  <thead>\n",
       "    <tr style=\"text-align: right;\">\n",
       "      <th></th>\n",
       "      <th>A</th>\n",
       "      <th>B</th>\n",
       "      <th>C</th>\n",
       "      <th>D</th>\n",
       "      <th>E</th>\n",
       "      <th>F</th>\n",
       "    </tr>\n",
       "  </thead>\n",
       "  <tbody>\n",
       "    <tr>\n",
       "      <th>0</th>\n",
       "      <td>7</td>\n",
       "      <td>4</td>\n",
       "      <td>1</td>\n",
       "      <td>4</td>\n",
       "      <td>2</td>\n",
       "      <td>-7</td>\n",
       "    </tr>\n",
       "    <tr>\n",
       "      <th>2</th>\n",
       "      <td>7</td>\n",
       "      <td>1</td>\n",
       "      <td>1</td>\n",
       "      <td>9</td>\n",
       "      <td>3</td>\n",
       "      <td>-8</td>\n",
       "    </tr>\n",
       "    <tr>\n",
       "      <th>4</th>\n",
       "      <td>1</td>\n",
       "      <td>8</td>\n",
       "      <td>4</td>\n",
       "      <td>1</td>\n",
       "      <td>3</td>\n",
       "      <td>-6</td>\n",
       "    </tr>\n",
       "  </tbody>\n",
       "</table>\n",
       "</div>"
      ],
      "text/plain": [
       "   A  B  C  D  E  F\n",
       "0  7  4  1  4  2 -7\n",
       "2  7  1  1  9  3 -8\n",
       "4  1  8  4  1  3 -6"
      ]
     },
     "execution_count": 14,
     "metadata": {},
     "output_type": "execute_result"
    }
   ],
   "source": [
    "df[df['F'].apply(abs)>5]"
   ]
  },
  {
   "cell_type": "markdown",
   "id": "66e0a291",
   "metadata": {
    "papermill": {
     "duration": 0.037014,
     "end_time": "2022-03-07T21:52:03.270729",
     "exception": false,
     "start_time": "2022-03-07T21:52:03.233715",
     "status": "completed"
    },
    "tags": []
   },
   "source": [
    "# EXAMPLE 7"
   ]
  },
  {
   "cell_type": "code",
   "execution_count": 15,
   "id": "b5a1cfd7",
   "metadata": {
    "execution": {
     "iopub.execute_input": "2022-03-07T21:52:03.348549Z",
     "iopub.status.busy": "2022-03-07T21:52:03.347924Z",
     "iopub.status.idle": "2022-03-07T21:52:03.360702Z",
     "shell.execute_reply": "2022-03-07T21:52:03.360178Z",
     "shell.execute_reply.started": "2022-03-07T21:49:05.790546Z"
    },
    "papermill": {
     "duration": 0.052911,
     "end_time": "2022-03-07T21:52:03.360853",
     "exception": false,
     "start_time": "2022-03-07T21:52:03.307942",
     "status": "completed"
    },
    "tags": []
   },
   "outputs": [
    {
     "data": {
      "text/html": [
       "<div>\n",
       "<style scoped>\n",
       "    .dataframe tbody tr th:only-of-type {\n",
       "        vertical-align: middle;\n",
       "    }\n",
       "\n",
       "    .dataframe tbody tr th {\n",
       "        vertical-align: top;\n",
       "    }\n",
       "\n",
       "    .dataframe thead th {\n",
       "        text-align: right;\n",
       "    }\n",
       "</style>\n",
       "<table border=\"1\" class=\"dataframe\">\n",
       "  <thead>\n",
       "    <tr style=\"text-align: right;\">\n",
       "      <th></th>\n",
       "      <th>A</th>\n",
       "      <th>B</th>\n",
       "      <th>C</th>\n",
       "      <th>D</th>\n",
       "      <th>E</th>\n",
       "      <th>F</th>\n",
       "    </tr>\n",
       "  </thead>\n",
       "  <tbody>\n",
       "    <tr>\n",
       "      <th>0</th>\n",
       "      <td>7</td>\n",
       "      <td>4</td>\n",
       "      <td>1</td>\n",
       "      <td>4</td>\n",
       "      <td>2</td>\n",
       "      <td>-7</td>\n",
       "    </tr>\n",
       "    <tr>\n",
       "      <th>1</th>\n",
       "      <td>7</td>\n",
       "      <td>5</td>\n",
       "      <td>4</td>\n",
       "      <td>1</td>\n",
       "      <td>4</td>\n",
       "      <td>-5</td>\n",
       "    </tr>\n",
       "    <tr>\n",
       "      <th>2</th>\n",
       "      <td>7</td>\n",
       "      <td>1</td>\n",
       "      <td>1</td>\n",
       "      <td>9</td>\n",
       "      <td>3</td>\n",
       "      <td>-8</td>\n",
       "    </tr>\n",
       "    <tr>\n",
       "      <th>3</th>\n",
       "      <td>6</td>\n",
       "      <td>8</td>\n",
       "      <td>2</td>\n",
       "      <td>8</td>\n",
       "      <td>1</td>\n",
       "      <td>0</td>\n",
       "    </tr>\n",
       "  </tbody>\n",
       "</table>\n",
       "</div>"
      ],
      "text/plain": [
       "   A  B  C  D  E  F\n",
       "0  7  4  1  4  2 -7\n",
       "1  7  5  4  1  4 -5\n",
       "2  7  1  1  9  3 -8\n",
       "3  6  8  2  8  1  0"
      ]
     },
     "execution_count": 15,
     "metadata": {},
     "output_type": "execute_result"
    }
   ],
   "source": [
    "df.query(\"sqrt(A) > 2\")"
   ]
  },
  {
   "cell_type": "code",
   "execution_count": 16,
   "id": "7edc730c",
   "metadata": {
    "execution": {
     "iopub.execute_input": "2022-03-07T21:52:03.447001Z",
     "iopub.status.busy": "2022-03-07T21:52:03.446222Z",
     "iopub.status.idle": "2022-03-07T21:52:03.449269Z",
     "shell.execute_reply": "2022-03-07T21:52:03.449752Z",
     "shell.execute_reply.started": "2022-03-07T21:49:05.807732Z"
    },
    "papermill": {
     "duration": 0.051439,
     "end_time": "2022-03-07T21:52:03.449945",
     "exception": false,
     "start_time": "2022-03-07T21:52:03.398506",
     "status": "completed"
    },
    "tags": []
   },
   "outputs": [
    {
     "data": {
      "text/html": [
       "<div>\n",
       "<style scoped>\n",
       "    .dataframe tbody tr th:only-of-type {\n",
       "        vertical-align: middle;\n",
       "    }\n",
       "\n",
       "    .dataframe tbody tr th {\n",
       "        vertical-align: top;\n",
       "    }\n",
       "\n",
       "    .dataframe thead th {\n",
       "        text-align: right;\n",
       "    }\n",
       "</style>\n",
       "<table border=\"1\" class=\"dataframe\">\n",
       "  <thead>\n",
       "    <tr style=\"text-align: right;\">\n",
       "      <th></th>\n",
       "      <th>A</th>\n",
       "      <th>B</th>\n",
       "      <th>C</th>\n",
       "      <th>D</th>\n",
       "      <th>E</th>\n",
       "      <th>F</th>\n",
       "    </tr>\n",
       "  </thead>\n",
       "  <tbody>\n",
       "    <tr>\n",
       "      <th>0</th>\n",
       "      <td>7</td>\n",
       "      <td>4</td>\n",
       "      <td>1</td>\n",
       "      <td>4</td>\n",
       "      <td>2</td>\n",
       "      <td>-7</td>\n",
       "    </tr>\n",
       "    <tr>\n",
       "      <th>1</th>\n",
       "      <td>7</td>\n",
       "      <td>5</td>\n",
       "      <td>4</td>\n",
       "      <td>1</td>\n",
       "      <td>4</td>\n",
       "      <td>-5</td>\n",
       "    </tr>\n",
       "    <tr>\n",
       "      <th>2</th>\n",
       "      <td>7</td>\n",
       "      <td>1</td>\n",
       "      <td>1</td>\n",
       "      <td>9</td>\n",
       "      <td>3</td>\n",
       "      <td>-8</td>\n",
       "    </tr>\n",
       "    <tr>\n",
       "      <th>3</th>\n",
       "      <td>6</td>\n",
       "      <td>8</td>\n",
       "      <td>2</td>\n",
       "      <td>8</td>\n",
       "      <td>1</td>\n",
       "      <td>0</td>\n",
       "    </tr>\n",
       "  </tbody>\n",
       "</table>\n",
       "</div>"
      ],
      "text/plain": [
       "   A  B  C  D  E  F\n",
       "0  7  4  1  4  2 -7\n",
       "1  7  5  4  1  4 -5\n",
       "2  7  1  1  9  3 -8\n",
       "3  6  8  2  8  1  0"
      ]
     },
     "execution_count": 16,
     "metadata": {},
     "output_type": "execute_result"
    }
   ],
   "source": [
    "df[df['A'].apply(np.sqrt)>2]"
   ]
  },
  {
   "cell_type": "markdown",
   "id": "9bad9b43",
   "metadata": {
    "papermill": {
     "duration": 0.037739,
     "end_time": "2022-03-07T21:52:03.525961",
     "exception": false,
     "start_time": "2022-03-07T21:52:03.488222",
     "status": "completed"
    },
    "tags": []
   },
   "source": [
    "# EXAMPLE 8"
   ]
  },
  {
   "cell_type": "code",
   "execution_count": 17,
   "id": "7379158c",
   "metadata": {
    "execution": {
     "iopub.execute_input": "2022-03-07T21:52:03.609274Z",
     "iopub.status.busy": "2022-03-07T21:52:03.608272Z",
     "iopub.status.idle": "2022-03-07T21:52:03.621938Z",
     "shell.execute_reply": "2022-03-07T21:52:03.622472Z",
     "shell.execute_reply.started": "2022-03-07T21:49:05.819188Z"
    },
    "papermill": {
     "duration": 0.056688,
     "end_time": "2022-03-07T21:52:03.622647",
     "exception": false,
     "start_time": "2022-03-07T21:52:03.565959",
     "status": "completed"
    },
    "tags": []
   },
   "outputs": [
    {
     "data": {
      "text/html": [
       "<div>\n",
       "<style scoped>\n",
       "    .dataframe tbody tr th:only-of-type {\n",
       "        vertical-align: middle;\n",
       "    }\n",
       "\n",
       "    .dataframe tbody tr th {\n",
       "        vertical-align: top;\n",
       "    }\n",
       "\n",
       "    .dataframe thead th {\n",
       "        text-align: right;\n",
       "    }\n",
       "</style>\n",
       "<table border=\"1\" class=\"dataframe\">\n",
       "  <thead>\n",
       "    <tr style=\"text-align: right;\">\n",
       "      <th></th>\n",
       "      <th>A</th>\n",
       "      <th>B</th>\n",
       "      <th>C</th>\n",
       "      <th>D</th>\n",
       "      <th>E</th>\n",
       "      <th>F</th>\n",
       "      <th>G</th>\n",
       "    </tr>\n",
       "  </thead>\n",
       "  <tbody>\n",
       "    <tr>\n",
       "      <th>0</th>\n",
       "      <td>7</td>\n",
       "      <td>4</td>\n",
       "      <td>1</td>\n",
       "      <td>4</td>\n",
       "      <td>2</td>\n",
       "      <td>-7</td>\n",
       "      <td>John</td>\n",
       "    </tr>\n",
       "    <tr>\n",
       "      <th>3</th>\n",
       "      <td>6</td>\n",
       "      <td>8</td>\n",
       "      <td>2</td>\n",
       "      <td>8</td>\n",
       "      <td>1</td>\n",
       "      <td>0</td>\n",
       "      <td>Luke</td>\n",
       "    </tr>\n",
       "    <tr>\n",
       "      <th>4</th>\n",
       "      <td>1</td>\n",
       "      <td>8</td>\n",
       "      <td>4</td>\n",
       "      <td>1</td>\n",
       "      <td>3</td>\n",
       "      <td>-6</td>\n",
       "      <td>Michael</td>\n",
       "    </tr>\n",
       "  </tbody>\n",
       "</table>\n",
       "</div>"
      ],
      "text/plain": [
       "   A  B  C  D  E  F        G\n",
       "0  7  4  1  4  2 -7     John\n",
       "3  6  8  2  8  1  0     Luke\n",
       "4  1  8  4  1  3 -6  Michael"
      ]
     },
     "execution_count": 17,
     "metadata": {},
     "output_type": "execute_result"
    }
   ],
   "source": [
    "df[\"G\"] = [\"John\", \"Jane\", \"Ashley\", \"Luke\", \"Michael\"] # adding string column to the data frame\n",
    "df.query(\"G > 'Jo'\")"
   ]
  },
  {
   "cell_type": "code",
   "execution_count": 18,
   "id": "cc6e95a3",
   "metadata": {
    "execution": {
     "iopub.execute_input": "2022-03-07T21:52:03.703964Z",
     "iopub.status.busy": "2022-03-07T21:52:03.703021Z",
     "iopub.status.idle": "2022-03-07T21:52:03.713857Z",
     "shell.execute_reply": "2022-03-07T21:52:03.714391Z",
     "shell.execute_reply.started": "2022-03-07T21:49:05.840578Z"
    },
    "papermill": {
     "duration": 0.053139,
     "end_time": "2022-03-07T21:52:03.714552",
     "exception": false,
     "start_time": "2022-03-07T21:52:03.661413",
     "status": "completed"
    },
    "tags": []
   },
   "outputs": [
    {
     "data": {
      "text/html": [
       "<div>\n",
       "<style scoped>\n",
       "    .dataframe tbody tr th:only-of-type {\n",
       "        vertical-align: middle;\n",
       "    }\n",
       "\n",
       "    .dataframe tbody tr th {\n",
       "        vertical-align: top;\n",
       "    }\n",
       "\n",
       "    .dataframe thead th {\n",
       "        text-align: right;\n",
       "    }\n",
       "</style>\n",
       "<table border=\"1\" class=\"dataframe\">\n",
       "  <thead>\n",
       "    <tr style=\"text-align: right;\">\n",
       "      <th></th>\n",
       "      <th>A</th>\n",
       "      <th>B</th>\n",
       "      <th>C</th>\n",
       "      <th>D</th>\n",
       "      <th>E</th>\n",
       "      <th>F</th>\n",
       "      <th>G</th>\n",
       "    </tr>\n",
       "  </thead>\n",
       "  <tbody>\n",
       "    <tr>\n",
       "      <th>0</th>\n",
       "      <td>7</td>\n",
       "      <td>4</td>\n",
       "      <td>1</td>\n",
       "      <td>4</td>\n",
       "      <td>2</td>\n",
       "      <td>-7</td>\n",
       "      <td>John</td>\n",
       "    </tr>\n",
       "    <tr>\n",
       "      <th>3</th>\n",
       "      <td>6</td>\n",
       "      <td>8</td>\n",
       "      <td>2</td>\n",
       "      <td>8</td>\n",
       "      <td>1</td>\n",
       "      <td>0</td>\n",
       "      <td>Luke</td>\n",
       "    </tr>\n",
       "    <tr>\n",
       "      <th>4</th>\n",
       "      <td>1</td>\n",
       "      <td>8</td>\n",
       "      <td>4</td>\n",
       "      <td>1</td>\n",
       "      <td>3</td>\n",
       "      <td>-6</td>\n",
       "      <td>Michael</td>\n",
       "    </tr>\n",
       "  </tbody>\n",
       "</table>\n",
       "</div>"
      ],
      "text/plain": [
       "   A  B  C  D  E  F        G\n",
       "0  7  4  1  4  2 -7     John\n",
       "3  6  8  2  8  1  0     Luke\n",
       "4  1  8  4  1  3 -6  Michael"
      ]
     },
     "execution_count": 18,
     "metadata": {},
     "output_type": "execute_result"
    }
   ],
   "source": [
    "df[df['G']>'Jo']"
   ]
  },
  {
   "cell_type": "markdown",
   "id": "8ed01076",
   "metadata": {
    "papermill": {
     "duration": 0.039783,
     "end_time": "2022-03-07T21:52:03.793775",
     "exception": false,
     "start_time": "2022-03-07T21:52:03.753992",
     "status": "completed"
    },
    "tags": []
   },
   "source": [
    "# EXAMPLE 9"
   ]
  },
  {
   "cell_type": "code",
   "execution_count": 19,
   "id": "2686da99",
   "metadata": {
    "execution": {
     "iopub.execute_input": "2022-03-07T21:52:03.877638Z",
     "iopub.status.busy": "2022-03-07T21:52:03.876655Z",
     "iopub.status.idle": "2022-03-07T21:52:03.893350Z",
     "shell.execute_reply": "2022-03-07T21:52:03.893855Z",
     "shell.execute_reply.started": "2022-03-07T21:49:05.851459Z"
    },
    "papermill": {
     "duration": 0.060698,
     "end_time": "2022-03-07T21:52:03.894025",
     "exception": false,
     "start_time": "2022-03-07T21:52:03.833327",
     "status": "completed"
    },
    "tags": []
   },
   "outputs": [
    {
     "data": {
      "text/html": [
       "<div>\n",
       "<style scoped>\n",
       "    .dataframe tbody tr th:only-of-type {\n",
       "        vertical-align: middle;\n",
       "    }\n",
       "\n",
       "    .dataframe tbody tr th {\n",
       "        vertical-align: top;\n",
       "    }\n",
       "\n",
       "    .dataframe thead th {\n",
       "        text-align: right;\n",
       "    }\n",
       "</style>\n",
       "<table border=\"1\" class=\"dataframe\">\n",
       "  <thead>\n",
       "    <tr style=\"text-align: right;\">\n",
       "      <th></th>\n",
       "      <th>A</th>\n",
       "      <th>B</th>\n",
       "      <th>C</th>\n",
       "      <th>D</th>\n",
       "      <th>E</th>\n",
       "      <th>F</th>\n",
       "      <th>G</th>\n",
       "      <th>Date</th>\n",
       "    </tr>\n",
       "  </thead>\n",
       "  <tbody>\n",
       "    <tr>\n",
       "      <th>0</th>\n",
       "      <td>7</td>\n",
       "      <td>4</td>\n",
       "      <td>1</td>\n",
       "      <td>4</td>\n",
       "      <td>2</td>\n",
       "      <td>-7</td>\n",
       "      <td>John</td>\n",
       "      <td>2021-04-30</td>\n",
       "    </tr>\n",
       "    <tr>\n",
       "      <th>1</th>\n",
       "      <td>7</td>\n",
       "      <td>5</td>\n",
       "      <td>4</td>\n",
       "      <td>1</td>\n",
       "      <td>4</td>\n",
       "      <td>-5</td>\n",
       "      <td>Jane</td>\n",
       "      <td>2021-05-31</td>\n",
       "    </tr>\n",
       "    <tr>\n",
       "      <th>2</th>\n",
       "      <td>7</td>\n",
       "      <td>1</td>\n",
       "      <td>1</td>\n",
       "      <td>9</td>\n",
       "      <td>3</td>\n",
       "      <td>-8</td>\n",
       "      <td>Ashley</td>\n",
       "      <td>2021-06-30</td>\n",
       "    </tr>\n",
       "    <tr>\n",
       "      <th>3</th>\n",
       "      <td>6</td>\n",
       "      <td>8</td>\n",
       "      <td>2</td>\n",
       "      <td>8</td>\n",
       "      <td>1</td>\n",
       "      <td>0</td>\n",
       "      <td>Luke</td>\n",
       "      <td>2021-07-31</td>\n",
       "    </tr>\n",
       "    <tr>\n",
       "      <th>4</th>\n",
       "      <td>1</td>\n",
       "      <td>8</td>\n",
       "      <td>4</td>\n",
       "      <td>1</td>\n",
       "      <td>3</td>\n",
       "      <td>-6</td>\n",
       "      <td>Michael</td>\n",
       "      <td>2021-08-31</td>\n",
       "    </tr>\n",
       "  </tbody>\n",
       "</table>\n",
       "</div>"
      ],
      "text/plain": [
       "   A  B  C  D  E  F        G       Date\n",
       "0  7  4  1  4  2 -7     John 2021-04-30\n",
       "1  7  5  4  1  4 -5     Jane 2021-05-31\n",
       "2  7  1  1  9  3 -8   Ashley 2021-06-30\n",
       "3  6  8  2  8  1  0     Luke 2021-07-31\n",
       "4  1  8  4  1  3 -6  Michael 2021-08-31"
      ]
     },
     "execution_count": 19,
     "metadata": {},
     "output_type": "execute_result"
    }
   ],
   "source": [
    "df[\"Date\"] = pd.date_range(start=\"2021-04-05\", periods=5, freq=\"M\") # adding datetime column to the function\n",
    "df"
   ]
  },
  {
   "cell_type": "code",
   "execution_count": 20,
   "id": "484ce318",
   "metadata": {
    "execution": {
     "iopub.execute_input": "2022-03-07T21:52:03.982205Z",
     "iopub.status.busy": "2022-03-07T21:52:03.981172Z",
     "iopub.status.idle": "2022-03-07T21:52:03.994727Z",
     "shell.execute_reply": "2022-03-07T21:52:03.995232Z",
     "shell.execute_reply.started": "2022-03-07T21:49:05.877164Z"
    },
    "papermill": {
     "duration": 0.059376,
     "end_time": "2022-03-07T21:52:03.995406",
     "exception": false,
     "start_time": "2022-03-07T21:52:03.936030",
     "status": "completed"
    },
    "tags": []
   },
   "outputs": [
    {
     "data": {
      "text/html": [
       "<div>\n",
       "<style scoped>\n",
       "    .dataframe tbody tr th:only-of-type {\n",
       "        vertical-align: middle;\n",
       "    }\n",
       "\n",
       "    .dataframe tbody tr th {\n",
       "        vertical-align: top;\n",
       "    }\n",
       "\n",
       "    .dataframe thead th {\n",
       "        text-align: right;\n",
       "    }\n",
       "</style>\n",
       "<table border=\"1\" class=\"dataframe\">\n",
       "  <thead>\n",
       "    <tr style=\"text-align: right;\">\n",
       "      <th></th>\n",
       "      <th>A</th>\n",
       "      <th>B</th>\n",
       "      <th>C</th>\n",
       "      <th>D</th>\n",
       "      <th>E</th>\n",
       "      <th>F</th>\n",
       "      <th>G</th>\n",
       "      <th>Date</th>\n",
       "    </tr>\n",
       "  </thead>\n",
       "  <tbody>\n",
       "    <tr>\n",
       "      <th>3</th>\n",
       "      <td>6</td>\n",
       "      <td>8</td>\n",
       "      <td>2</td>\n",
       "      <td>8</td>\n",
       "      <td>1</td>\n",
       "      <td>0</td>\n",
       "      <td>Luke</td>\n",
       "      <td>2021-07-31</td>\n",
       "    </tr>\n",
       "    <tr>\n",
       "      <th>4</th>\n",
       "      <td>1</td>\n",
       "      <td>8</td>\n",
       "      <td>4</td>\n",
       "      <td>1</td>\n",
       "      <td>3</td>\n",
       "      <td>-6</td>\n",
       "      <td>Michael</td>\n",
       "      <td>2021-08-31</td>\n",
       "    </tr>\n",
       "  </tbody>\n",
       "</table>\n",
       "</div>"
      ],
      "text/plain": [
       "   A  B  C  D  E  F        G       Date\n",
       "3  6  8  2  8  1  0     Luke 2021-07-31\n",
       "4  1  8  4  1  3 -6  Michael 2021-08-31"
      ]
     },
     "execution_count": 20,
     "metadata": {},
     "output_type": "execute_result"
    }
   ],
   "source": [
    "df.query(\"Date.dt.month > 6\")"
   ]
  },
  {
   "cell_type": "code",
   "execution_count": 21,
   "id": "ca22b850",
   "metadata": {
    "execution": {
     "iopub.execute_input": "2022-03-07T21:52:04.081008Z",
     "iopub.status.busy": "2022-03-07T21:52:04.080307Z",
     "iopub.status.idle": "2022-03-07T21:52:04.091368Z",
     "shell.execute_reply": "2022-03-07T21:52:04.091876Z",
     "shell.execute_reply.started": "2022-03-07T21:49:05.897370Z"
    },
    "papermill": {
     "duration": 0.054933,
     "end_time": "2022-03-07T21:52:04.092042",
     "exception": false,
     "start_time": "2022-03-07T21:52:04.037109",
     "status": "completed"
    },
    "tags": []
   },
   "outputs": [
    {
     "data": {
      "text/html": [
       "<div>\n",
       "<style scoped>\n",
       "    .dataframe tbody tr th:only-of-type {\n",
       "        vertical-align: middle;\n",
       "    }\n",
       "\n",
       "    .dataframe tbody tr th {\n",
       "        vertical-align: top;\n",
       "    }\n",
       "\n",
       "    .dataframe thead th {\n",
       "        text-align: right;\n",
       "    }\n",
       "</style>\n",
       "<table border=\"1\" class=\"dataframe\">\n",
       "  <thead>\n",
       "    <tr style=\"text-align: right;\">\n",
       "      <th></th>\n",
       "      <th>A</th>\n",
       "      <th>B</th>\n",
       "      <th>C</th>\n",
       "      <th>D</th>\n",
       "      <th>E</th>\n",
       "      <th>F</th>\n",
       "      <th>G</th>\n",
       "      <th>Date</th>\n",
       "    </tr>\n",
       "  </thead>\n",
       "  <tbody>\n",
       "    <tr>\n",
       "      <th>3</th>\n",
       "      <td>6</td>\n",
       "      <td>8</td>\n",
       "      <td>2</td>\n",
       "      <td>8</td>\n",
       "      <td>1</td>\n",
       "      <td>0</td>\n",
       "      <td>Luke</td>\n",
       "      <td>2021-07-31</td>\n",
       "    </tr>\n",
       "    <tr>\n",
       "      <th>4</th>\n",
       "      <td>1</td>\n",
       "      <td>8</td>\n",
       "      <td>4</td>\n",
       "      <td>1</td>\n",
       "      <td>3</td>\n",
       "      <td>-6</td>\n",
       "      <td>Michael</td>\n",
       "      <td>2021-08-31</td>\n",
       "    </tr>\n",
       "  </tbody>\n",
       "</table>\n",
       "</div>"
      ],
      "text/plain": [
       "   A  B  C  D  E  F        G       Date\n",
       "3  6  8  2  8  1  0     Luke 2021-07-31\n",
       "4  1  8  4  1  3 -6  Michael 2021-08-31"
      ]
     },
     "execution_count": 21,
     "metadata": {},
     "output_type": "execute_result"
    }
   ],
   "source": [
    "df[df['Date'].dt.month>6]"
   ]
  },
  {
   "cell_type": "markdown",
   "id": "4631fa9d",
   "metadata": {
    "papermill": {
     "duration": 0.041049,
     "end_time": "2022-03-07T21:52:04.175335",
     "exception": false,
     "start_time": "2022-03-07T21:52:04.134286",
     "status": "completed"
    },
    "tags": []
   },
   "source": [
    "# EXAMPLE 10"
   ]
  },
  {
   "cell_type": "code",
   "execution_count": 22,
   "id": "b389c0bc",
   "metadata": {
    "execution": {
     "iopub.execute_input": "2022-03-07T21:52:04.260886Z",
     "iopub.status.busy": "2022-03-07T21:52:04.260191Z",
     "iopub.status.idle": "2022-03-07T21:52:04.270342Z",
     "shell.execute_reply": "2022-03-07T21:52:04.270780Z",
     "shell.execute_reply.started": "2022-03-07T21:49:05.920558Z"
    },
    "papermill": {
     "duration": 0.054501,
     "end_time": "2022-03-07T21:52:04.270963",
     "exception": false,
     "start_time": "2022-03-07T21:52:04.216462",
     "status": "completed"
    },
    "tags": []
   },
   "outputs": [
    {
     "data": {
      "text/html": [
       "<div>\n",
       "<style scoped>\n",
       "    .dataframe tbody tr th:only-of-type {\n",
       "        vertical-align: middle;\n",
       "    }\n",
       "\n",
       "    .dataframe tbody tr th {\n",
       "        vertical-align: top;\n",
       "    }\n",
       "\n",
       "    .dataframe thead th {\n",
       "        text-align: right;\n",
       "    }\n",
       "</style>\n",
       "<table border=\"1\" class=\"dataframe\">\n",
       "  <thead>\n",
       "    <tr style=\"text-align: right;\">\n",
       "      <th></th>\n",
       "      <th>A</th>\n",
       "      <th>B</th>\n",
       "      <th>C</th>\n",
       "      <th>D</th>\n",
       "      <th>E</th>\n",
       "      <th>F</th>\n",
       "      <th>G</th>\n",
       "      <th>Date</th>\n",
       "    </tr>\n",
       "  </thead>\n",
       "  <tbody>\n",
       "  </tbody>\n",
       "</table>\n",
       "</div>"
      ],
      "text/plain": [
       "Empty DataFrame\n",
       "Columns: [A, B, C, D, E, F, G, Date]\n",
       "Index: []"
      ]
     },
     "execution_count": 22,
     "metadata": {},
     "output_type": "execute_result"
    }
   ],
   "source": [
    "df.query(\"A + B < C\")"
   ]
  },
  {
   "cell_type": "code",
   "execution_count": 23,
   "id": "1b520b9b",
   "metadata": {
    "execution": {
     "iopub.execute_input": "2022-03-07T21:52:04.357661Z",
     "iopub.status.busy": "2022-03-07T21:52:04.357022Z",
     "iopub.status.idle": "2022-03-07T21:52:04.365201Z",
     "shell.execute_reply": "2022-03-07T21:52:04.365686Z",
     "shell.execute_reply.started": "2022-03-07T21:49:05.938227Z"
    },
    "papermill": {
     "duration": 0.053192,
     "end_time": "2022-03-07T21:52:04.365865",
     "exception": false,
     "start_time": "2022-03-07T21:52:04.312673",
     "status": "completed"
    },
    "tags": []
   },
   "outputs": [
    {
     "data": {
      "text/html": [
       "<div>\n",
       "<style scoped>\n",
       "    .dataframe tbody tr th:only-of-type {\n",
       "        vertical-align: middle;\n",
       "    }\n",
       "\n",
       "    .dataframe tbody tr th {\n",
       "        vertical-align: top;\n",
       "    }\n",
       "\n",
       "    .dataframe thead th {\n",
       "        text-align: right;\n",
       "    }\n",
       "</style>\n",
       "<table border=\"1\" class=\"dataframe\">\n",
       "  <thead>\n",
       "    <tr style=\"text-align: right;\">\n",
       "      <th></th>\n",
       "      <th>A</th>\n",
       "      <th>B</th>\n",
       "      <th>C</th>\n",
       "      <th>D</th>\n",
       "      <th>E</th>\n",
       "      <th>F</th>\n",
       "      <th>G</th>\n",
       "      <th>Date</th>\n",
       "    </tr>\n",
       "  </thead>\n",
       "  <tbody>\n",
       "  </tbody>\n",
       "</table>\n",
       "</div>"
      ],
      "text/plain": [
       "Empty DataFrame\n",
       "Columns: [A, B, C, D, E, F, G, Date]\n",
       "Index: []"
      ]
     },
     "execution_count": 23,
     "metadata": {},
     "output_type": "execute_result"
    }
   ],
   "source": [
    "df[df['A']+df['B']<df['C']]"
   ]
  },
  {
   "cell_type": "markdown",
   "id": "49ab0bb6",
   "metadata": {
    "papermill": {
     "duration": 0.041564,
     "end_time": "2022-03-07T21:52:04.449554",
     "exception": false,
     "start_time": "2022-03-07T21:52:04.407990",
     "status": "completed"
    },
    "tags": []
   },
   "source": [
    "# Through all the above examples, we saw that we can use Masking instead of query"
   ]
  },
  {
   "cell_type": "code",
   "execution_count": null,
   "id": "264634d5",
   "metadata": {
    "papermill": {
     "duration": 0.041228,
     "end_time": "2022-03-07T21:52:04.532487",
     "exception": false,
     "start_time": "2022-03-07T21:52:04.491259",
     "status": "completed"
    },
    "tags": []
   },
   "outputs": [],
   "source": []
  }
 ],
 "metadata": {
  "kernelspec": {
   "display_name": "Python 3",
   "language": "python",
   "name": "python3"
  },
  "language_info": {
   "codemirror_mode": {
    "name": "ipython",
    "version": 3
   },
   "file_extension": ".py",
   "mimetype": "text/x-python",
   "name": "python",
   "nbconvert_exporter": "python",
   "pygments_lexer": "ipython3",
   "version": "3.7.12"
  },
  "papermill": {
   "default_parameters": {},
   "duration": 13.285992,
   "end_time": "2022-03-07T21:52:05.184337",
   "environment_variables": {},
   "exception": null,
   "input_path": "__notebook__.ipynb",
   "output_path": "__notebook__.ipynb",
   "parameters": {},
   "start_time": "2022-03-07T21:51:51.898345",
   "version": "2.3.3"
  }
 },
 "nbformat": 4,
 "nbformat_minor": 5
}

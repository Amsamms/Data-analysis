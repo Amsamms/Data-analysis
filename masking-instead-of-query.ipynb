{
 "cells": [
  {
   "cell_type": "code",
   "execution_count": 1,
   "id": "de2679ca",
   "metadata": {
    "execution": {
     "iopub.execute_input": "2022-03-09T17:19:54.461847Z",
     "iopub.status.busy": "2022-03-09T17:19:54.460213Z",
     "iopub.status.idle": "2022-03-09T17:19:54.491698Z",
     "shell.execute_reply": "2022-03-09T17:19:54.492277Z",
     "shell.execute_reply.started": "2022-03-09T17:18:14.062169Z"
    },
    "papermill": {
     "duration": 0.067632,
     "end_time": "2022-03-09T17:19:54.492634",
     "exception": false,
     "start_time": "2022-03-09T17:19:54.425002",
     "status": "completed"
    },
    "tags": []
   },
   "outputs": [
    {
     "data": {
      "text/html": [
       "<div>\n",
       "<style scoped>\n",
       "    .dataframe tbody tr th:only-of-type {\n",
       "        vertical-align: middle;\n",
       "    }\n",
       "\n",
       "    .dataframe tbody tr th {\n",
       "        vertical-align: top;\n",
       "    }\n",
       "\n",
       "    .dataframe thead th {\n",
       "        text-align: right;\n",
       "    }\n",
       "</style>\n",
       "<table border=\"1\" class=\"dataframe\">\n",
       "  <thead>\n",
       "    <tr style=\"text-align: right;\">\n",
       "      <th></th>\n",
       "      <th>A</th>\n",
       "      <th>B</th>\n",
       "      <th>C</th>\n",
       "      <th>D</th>\n",
       "      <th>E</th>\n",
       "      <th>F</th>\n",
       "    </tr>\n",
       "  </thead>\n",
       "  <tbody>\n",
       "    <tr>\n",
       "      <th>0</th>\n",
       "      <td>5</td>\n",
       "      <td>8</td>\n",
       "      <td>7</td>\n",
       "      <td>5</td>\n",
       "      <td>7</td>\n",
       "      <td>0</td>\n",
       "    </tr>\n",
       "    <tr>\n",
       "      <th>1</th>\n",
       "      <td>7</td>\n",
       "      <td>3</td>\n",
       "      <td>2</td>\n",
       "      <td>0</td>\n",
       "      <td>0</td>\n",
       "      <td>5</td>\n",
       "    </tr>\n",
       "    <tr>\n",
       "      <th>2</th>\n",
       "      <td>1</td>\n",
       "      <td>5</td>\n",
       "      <td>8</td>\n",
       "      <td>8</td>\n",
       "      <td>8</td>\n",
       "      <td>8</td>\n",
       "    </tr>\n",
       "    <tr>\n",
       "      <th>3</th>\n",
       "      <td>2</td>\n",
       "      <td>6</td>\n",
       "      <td>1</td>\n",
       "      <td>3</td>\n",
       "      <td>3</td>\n",
       "      <td>8</td>\n",
       "    </tr>\n",
       "    <tr>\n",
       "      <th>4</th>\n",
       "      <td>8</td>\n",
       "      <td>1</td>\n",
       "      <td>4</td>\n",
       "      <td>5</td>\n",
       "      <td>5</td>\n",
       "      <td>2</td>\n",
       "    </tr>\n",
       "  </tbody>\n",
       "</table>\n",
       "</div>"
      ],
      "text/plain": [
       "   A  B  C  D  E  F\n",
       "0  5  8  7  5  7  0\n",
       "1  7  3  2  0  0  5\n",
       "2  1  5  8  8  8  8\n",
       "3  2  6  1  3  3  8\n",
       "4  8  1  4  5  5  2"
      ]
     },
     "execution_count": 1,
     "metadata": {},
     "output_type": "execute_result"
    }
   ],
   "source": [
    "import numpy as np\n",
    "import pandas as pd\n",
    "df = pd.DataFrame(np.random.randint(10, size=(5,6)), columns=list(\"ABCDEF\"))\n",
    "df"
   ]
  },
  {
   "cell_type": "markdown",
   "id": "77321bdf",
   "metadata": {
    "papermill": {
     "duration": 0.031977,
     "end_time": "2022-03-09T17:19:54.558384",
     "exception": false,
     "start_time": "2022-03-09T17:19:54.526407",
     "status": "completed"
    },
    "tags": []
   },
   "source": [
    "# EXAMPLE 1"
   ]
  },
  {
   "cell_type": "code",
   "execution_count": 2,
   "id": "71d89da5",
   "metadata": {
    "execution": {
     "iopub.execute_input": "2022-03-09T17:19:54.624144Z",
     "iopub.status.busy": "2022-03-09T17:19:54.623471Z",
     "iopub.status.idle": "2022-03-09T17:19:54.642228Z",
     "shell.execute_reply": "2022-03-09T17:19:54.642787Z",
     "shell.execute_reply.started": "2022-03-09T17:18:14.115289Z"
    },
    "papermill": {
     "duration": 0.053691,
     "end_time": "2022-03-09T17:19:54.642971",
     "exception": false,
     "start_time": "2022-03-09T17:19:54.589280",
     "status": "completed"
    },
    "tags": []
   },
   "outputs": [
    {
     "data": {
      "text/html": [
       "<div>\n",
       "<style scoped>\n",
       "    .dataframe tbody tr th:only-of-type {\n",
       "        vertical-align: middle;\n",
       "    }\n",
       "\n",
       "    .dataframe tbody tr th {\n",
       "        vertical-align: top;\n",
       "    }\n",
       "\n",
       "    .dataframe thead th {\n",
       "        text-align: right;\n",
       "    }\n",
       "</style>\n",
       "<table border=\"1\" class=\"dataframe\">\n",
       "  <thead>\n",
       "    <tr style=\"text-align: right;\">\n",
       "      <th></th>\n",
       "      <th>A</th>\n",
       "      <th>B</th>\n",
       "      <th>C</th>\n",
       "      <th>D</th>\n",
       "      <th>E</th>\n",
       "      <th>F</th>\n",
       "    </tr>\n",
       "  </thead>\n",
       "  <tbody>\n",
       "    <tr>\n",
       "      <th>0</th>\n",
       "      <td>5</td>\n",
       "      <td>8</td>\n",
       "      <td>7</td>\n",
       "      <td>5</td>\n",
       "      <td>7</td>\n",
       "      <td>0</td>\n",
       "    </tr>\n",
       "    <tr>\n",
       "      <th>1</th>\n",
       "      <td>7</td>\n",
       "      <td>3</td>\n",
       "      <td>2</td>\n",
       "      <td>0</td>\n",
       "      <td>0</td>\n",
       "      <td>5</td>\n",
       "    </tr>\n",
       "    <tr>\n",
       "      <th>4</th>\n",
       "      <td>8</td>\n",
       "      <td>1</td>\n",
       "      <td>4</td>\n",
       "      <td>5</td>\n",
       "      <td>5</td>\n",
       "      <td>2</td>\n",
       "    </tr>\n",
       "  </tbody>\n",
       "</table>\n",
       "</div>"
      ],
      "text/plain": [
       "   A  B  C  D  E  F\n",
       "0  5  8  7  5  7  0\n",
       "1  7  3  2  0  0  5\n",
       "4  8  1  4  5  5  2"
      ]
     },
     "execution_count": 2,
     "metadata": {},
     "output_type": "execute_result"
    }
   ],
   "source": [
    "df.query(\"A > 4\")"
   ]
  },
  {
   "cell_type": "code",
   "execution_count": 3,
   "id": "934b4d06",
   "metadata": {
    "execution": {
     "iopub.execute_input": "2022-03-09T17:19:54.709425Z",
     "iopub.status.busy": "2022-03-09T17:19:54.708771Z",
     "iopub.status.idle": "2022-03-09T17:19:54.720474Z",
     "shell.execute_reply": "2022-03-09T17:19:54.720986Z",
     "shell.execute_reply.started": "2022-03-09T17:18:14.136851Z"
    },
    "papermill": {
     "duration": 0.046674,
     "end_time": "2022-03-09T17:19:54.721171",
     "exception": false,
     "start_time": "2022-03-09T17:19:54.674497",
     "status": "completed"
    },
    "tags": []
   },
   "outputs": [
    {
     "data": {
      "text/html": [
       "<div>\n",
       "<style scoped>\n",
       "    .dataframe tbody tr th:only-of-type {\n",
       "        vertical-align: middle;\n",
       "    }\n",
       "\n",
       "    .dataframe tbody tr th {\n",
       "        vertical-align: top;\n",
       "    }\n",
       "\n",
       "    .dataframe thead th {\n",
       "        text-align: right;\n",
       "    }\n",
       "</style>\n",
       "<table border=\"1\" class=\"dataframe\">\n",
       "  <thead>\n",
       "    <tr style=\"text-align: right;\">\n",
       "      <th></th>\n",
       "      <th>A</th>\n",
       "      <th>B</th>\n",
       "      <th>C</th>\n",
       "      <th>D</th>\n",
       "      <th>E</th>\n",
       "      <th>F</th>\n",
       "    </tr>\n",
       "  </thead>\n",
       "  <tbody>\n",
       "    <tr>\n",
       "      <th>0</th>\n",
       "      <td>5</td>\n",
       "      <td>8</td>\n",
       "      <td>7</td>\n",
       "      <td>5</td>\n",
       "      <td>7</td>\n",
       "      <td>0</td>\n",
       "    </tr>\n",
       "    <tr>\n",
       "      <th>1</th>\n",
       "      <td>7</td>\n",
       "      <td>3</td>\n",
       "      <td>2</td>\n",
       "      <td>0</td>\n",
       "      <td>0</td>\n",
       "      <td>5</td>\n",
       "    </tr>\n",
       "    <tr>\n",
       "      <th>4</th>\n",
       "      <td>8</td>\n",
       "      <td>1</td>\n",
       "      <td>4</td>\n",
       "      <td>5</td>\n",
       "      <td>5</td>\n",
       "      <td>2</td>\n",
       "    </tr>\n",
       "  </tbody>\n",
       "</table>\n",
       "</div>"
      ],
      "text/plain": [
       "   A  B  C  D  E  F\n",
       "0  5  8  7  5  7  0\n",
       "1  7  3  2  0  0  5\n",
       "4  8  1  4  5  5  2"
      ]
     },
     "execution_count": 3,
     "metadata": {},
     "output_type": "execute_result"
    }
   ],
   "source": [
    "df[df['A']>4]"
   ]
  },
  {
   "cell_type": "markdown",
   "id": "8bc9a84d",
   "metadata": {
    "papermill": {
     "duration": 0.032087,
     "end_time": "2022-03-09T17:19:54.787114",
     "exception": false,
     "start_time": "2022-03-09T17:19:54.755027",
     "status": "completed"
    },
    "tags": []
   },
   "source": [
    "# EXAMPLE 2"
   ]
  },
  {
   "cell_type": "code",
   "execution_count": 4,
   "id": "1985bd0f",
   "metadata": {
    "execution": {
     "iopub.execute_input": "2022-03-09T17:19:54.864851Z",
     "iopub.status.busy": "2022-03-09T17:19:54.856185Z",
     "iopub.status.idle": "2022-03-09T17:19:54.868699Z",
     "shell.execute_reply": "2022-03-09T17:19:54.869202Z",
     "shell.execute_reply.started": "2022-03-09T17:18:14.158939Z"
    },
    "papermill": {
     "duration": 0.048197,
     "end_time": "2022-03-09T17:19:54.869390",
     "exception": false,
     "start_time": "2022-03-09T17:19:54.821193",
     "status": "completed"
    },
    "tags": []
   },
   "outputs": [
    {
     "data": {
      "text/html": [
       "<div>\n",
       "<style scoped>\n",
       "    .dataframe tbody tr th:only-of-type {\n",
       "        vertical-align: middle;\n",
       "    }\n",
       "\n",
       "    .dataframe tbody tr th {\n",
       "        vertical-align: top;\n",
       "    }\n",
       "\n",
       "    .dataframe thead th {\n",
       "        text-align: right;\n",
       "    }\n",
       "</style>\n",
       "<table border=\"1\" class=\"dataframe\">\n",
       "  <thead>\n",
       "    <tr style=\"text-align: right;\">\n",
       "      <th></th>\n",
       "      <th>A</th>\n",
       "      <th>B</th>\n",
       "      <th>C</th>\n",
       "      <th>D</th>\n",
       "      <th>E</th>\n",
       "      <th>F</th>\n",
       "    </tr>\n",
       "  </thead>\n",
       "  <tbody>\n",
       "  </tbody>\n",
       "</table>\n",
       "</div>"
      ],
      "text/plain": [
       "Empty DataFrame\n",
       "Columns: [A, B, C, D, E, F]\n",
       "Index: []"
      ]
     },
     "execution_count": 4,
     "metadata": {},
     "output_type": "execute_result"
    }
   ],
   "source": [
    "df.query(\"A > 4 and E == 1\")"
   ]
  },
  {
   "cell_type": "code",
   "execution_count": 5,
   "id": "ba40d5b8",
   "metadata": {
    "execution": {
     "iopub.execute_input": "2022-03-09T17:19:54.946714Z",
     "iopub.status.busy": "2022-03-09T17:19:54.945754Z",
     "iopub.status.idle": "2022-03-09T17:19:54.949923Z",
     "shell.execute_reply": "2022-03-09T17:19:54.949359Z",
     "shell.execute_reply.started": "2022-03-09T17:18:14.183248Z"
    },
    "papermill": {
     "duration": 0.047313,
     "end_time": "2022-03-09T17:19:54.950086",
     "exception": false,
     "start_time": "2022-03-09T17:19:54.902773",
     "status": "completed"
    },
    "tags": []
   },
   "outputs": [
    {
     "data": {
      "text/html": [
       "<div>\n",
       "<style scoped>\n",
       "    .dataframe tbody tr th:only-of-type {\n",
       "        vertical-align: middle;\n",
       "    }\n",
       "\n",
       "    .dataframe tbody tr th {\n",
       "        vertical-align: top;\n",
       "    }\n",
       "\n",
       "    .dataframe thead th {\n",
       "        text-align: right;\n",
       "    }\n",
       "</style>\n",
       "<table border=\"1\" class=\"dataframe\">\n",
       "  <thead>\n",
       "    <tr style=\"text-align: right;\">\n",
       "      <th></th>\n",
       "      <th>A</th>\n",
       "      <th>B</th>\n",
       "      <th>C</th>\n",
       "      <th>D</th>\n",
       "      <th>E</th>\n",
       "      <th>F</th>\n",
       "    </tr>\n",
       "  </thead>\n",
       "  <tbody>\n",
       "  </tbody>\n",
       "</table>\n",
       "</div>"
      ],
      "text/plain": [
       "Empty DataFrame\n",
       "Columns: [A, B, C, D, E, F]\n",
       "Index: []"
      ]
     },
     "execution_count": 5,
     "metadata": {},
     "output_type": "execute_result"
    }
   ],
   "source": [
    "df[(df['A']>4) & (df['E']==1)]"
   ]
  },
  {
   "cell_type": "markdown",
   "id": "d6844f0a",
   "metadata": {
    "papermill": {
     "duration": 0.03303,
     "end_time": "2022-03-09T17:19:55.016079",
     "exception": false,
     "start_time": "2022-03-09T17:19:54.983049",
     "status": "completed"
    },
    "tags": []
   },
   "source": [
    "# EXAMPLE 3"
   ]
  },
  {
   "cell_type": "code",
   "execution_count": 6,
   "id": "bc3cf3ce",
   "metadata": {
    "execution": {
     "iopub.execute_input": "2022-03-09T17:19:55.096858Z",
     "iopub.status.busy": "2022-03-09T17:19:55.095840Z",
     "iopub.status.idle": "2022-03-09T17:19:55.099207Z",
     "shell.execute_reply": "2022-03-09T17:19:55.099732Z",
     "shell.execute_reply.started": "2022-03-09T17:18:14.196952Z"
    },
    "papermill": {
     "duration": 0.050642,
     "end_time": "2022-03-09T17:19:55.099920",
     "exception": false,
     "start_time": "2022-03-09T17:19:55.049278",
     "status": "completed"
    },
    "tags": []
   },
   "outputs": [
    {
     "data": {
      "text/html": [
       "<div>\n",
       "<style scoped>\n",
       "    .dataframe tbody tr th:only-of-type {\n",
       "        vertical-align: middle;\n",
       "    }\n",
       "\n",
       "    .dataframe tbody tr th {\n",
       "        vertical-align: top;\n",
       "    }\n",
       "\n",
       "    .dataframe thead th {\n",
       "        text-align: right;\n",
       "    }\n",
       "</style>\n",
       "<table border=\"1\" class=\"dataframe\">\n",
       "  <thead>\n",
       "    <tr style=\"text-align: right;\">\n",
       "      <th></th>\n",
       "      <th>A</th>\n",
       "      <th>B</th>\n",
       "      <th>C</th>\n",
       "      <th>D</th>\n",
       "      <th>E</th>\n",
       "      <th>F</th>\n",
       "    </tr>\n",
       "  </thead>\n",
       "  <tbody>\n",
       "    <tr>\n",
       "      <th>0</th>\n",
       "      <td>5</td>\n",
       "      <td>8</td>\n",
       "      <td>7</td>\n",
       "      <td>5</td>\n",
       "      <td>7</td>\n",
       "      <td>0</td>\n",
       "    </tr>\n",
       "    <tr>\n",
       "      <th>1</th>\n",
       "      <td>7</td>\n",
       "      <td>3</td>\n",
       "      <td>2</td>\n",
       "      <td>0</td>\n",
       "      <td>0</td>\n",
       "      <td>5</td>\n",
       "    </tr>\n",
       "    <tr>\n",
       "      <th>2</th>\n",
       "      <td>1</td>\n",
       "      <td>5</td>\n",
       "      <td>8</td>\n",
       "      <td>8</td>\n",
       "      <td>8</td>\n",
       "      <td>8</td>\n",
       "    </tr>\n",
       "    <tr>\n",
       "      <th>3</th>\n",
       "      <td>2</td>\n",
       "      <td>6</td>\n",
       "      <td>1</td>\n",
       "      <td>3</td>\n",
       "      <td>3</td>\n",
       "      <td>8</td>\n",
       "    </tr>\n",
       "    <tr>\n",
       "      <th>4</th>\n",
       "      <td>8</td>\n",
       "      <td>1</td>\n",
       "      <td>4</td>\n",
       "      <td>5</td>\n",
       "      <td>5</td>\n",
       "      <td>2</td>\n",
       "    </tr>\n",
       "  </tbody>\n",
       "</table>\n",
       "</div>"
      ],
      "text/plain": [
       "   A  B  C  D  E  F\n",
       "0  5  8  7  5  7  0\n",
       "1  7  3  2  0  0  5\n",
       "2  1  5  8  8  8  8\n",
       "3  2  6  1  3  3  8\n",
       "4  8  1  4  5  5  2"
      ]
     },
     "execution_count": 6,
     "metadata": {},
     "output_type": "execute_result"
    }
   ],
   "source": [
    "df.query(\"A > 2 or F > 4\")"
   ]
  },
  {
   "cell_type": "code",
   "execution_count": 7,
   "id": "b62e3a7b",
   "metadata": {
    "execution": {
     "iopub.execute_input": "2022-03-09T17:19:55.179086Z",
     "iopub.status.busy": "2022-03-09T17:19:55.177865Z",
     "iopub.status.idle": "2022-03-09T17:19:55.182245Z",
     "shell.execute_reply": "2022-03-09T17:19:55.181629Z",
     "shell.execute_reply.started": "2022-03-09T17:18:14.221626Z"
    },
    "papermill": {
     "duration": 0.048898,
     "end_time": "2022-03-09T17:19:55.182396",
     "exception": false,
     "start_time": "2022-03-09T17:19:55.133498",
     "status": "completed"
    },
    "tags": []
   },
   "outputs": [
    {
     "data": {
      "text/html": [
       "<div>\n",
       "<style scoped>\n",
       "    .dataframe tbody tr th:only-of-type {\n",
       "        vertical-align: middle;\n",
       "    }\n",
       "\n",
       "    .dataframe tbody tr th {\n",
       "        vertical-align: top;\n",
       "    }\n",
       "\n",
       "    .dataframe thead th {\n",
       "        text-align: right;\n",
       "    }\n",
       "</style>\n",
       "<table border=\"1\" class=\"dataframe\">\n",
       "  <thead>\n",
       "    <tr style=\"text-align: right;\">\n",
       "      <th></th>\n",
       "      <th>A</th>\n",
       "      <th>B</th>\n",
       "      <th>C</th>\n",
       "      <th>D</th>\n",
       "      <th>E</th>\n",
       "      <th>F</th>\n",
       "    </tr>\n",
       "  </thead>\n",
       "  <tbody>\n",
       "    <tr>\n",
       "      <th>0</th>\n",
       "      <td>5</td>\n",
       "      <td>8</td>\n",
       "      <td>7</td>\n",
       "      <td>5</td>\n",
       "      <td>7</td>\n",
       "      <td>0</td>\n",
       "    </tr>\n",
       "    <tr>\n",
       "      <th>1</th>\n",
       "      <td>7</td>\n",
       "      <td>3</td>\n",
       "      <td>2</td>\n",
       "      <td>0</td>\n",
       "      <td>0</td>\n",
       "      <td>5</td>\n",
       "    </tr>\n",
       "    <tr>\n",
       "      <th>2</th>\n",
       "      <td>1</td>\n",
       "      <td>5</td>\n",
       "      <td>8</td>\n",
       "      <td>8</td>\n",
       "      <td>8</td>\n",
       "      <td>8</td>\n",
       "    </tr>\n",
       "    <tr>\n",
       "      <th>3</th>\n",
       "      <td>2</td>\n",
       "      <td>6</td>\n",
       "      <td>1</td>\n",
       "      <td>3</td>\n",
       "      <td>3</td>\n",
       "      <td>8</td>\n",
       "    </tr>\n",
       "    <tr>\n",
       "      <th>4</th>\n",
       "      <td>8</td>\n",
       "      <td>1</td>\n",
       "      <td>4</td>\n",
       "      <td>5</td>\n",
       "      <td>5</td>\n",
       "      <td>2</td>\n",
       "    </tr>\n",
       "  </tbody>\n",
       "</table>\n",
       "</div>"
      ],
      "text/plain": [
       "   A  B  C  D  E  F\n",
       "0  5  8  7  5  7  0\n",
       "1  7  3  2  0  0  5\n",
       "2  1  5  8  8  8  8\n",
       "3  2  6  1  3  3  8\n",
       "4  8  1  4  5  5  2"
      ]
     },
     "execution_count": 7,
     "metadata": {},
     "output_type": "execute_result"
    }
   ],
   "source": [
    "df[(df['A']>2) | (df['F']>4)]"
   ]
  },
  {
   "cell_type": "markdown",
   "id": "b57c115b",
   "metadata": {
    "papermill": {
     "duration": 0.034088,
     "end_time": "2022-03-09T17:19:55.251041",
     "exception": false,
     "start_time": "2022-03-09T17:19:55.216953",
     "status": "completed"
    },
    "tags": []
   },
   "source": [
    "# EXAMPLE 4"
   ]
  },
  {
   "cell_type": "code",
   "execution_count": 8,
   "id": "30fec3da",
   "metadata": {
    "execution": {
     "iopub.execute_input": "2022-03-09T17:19:55.331560Z",
     "iopub.status.busy": "2022-03-09T17:19:55.330604Z",
     "iopub.status.idle": "2022-03-09T17:19:55.334585Z",
     "shell.execute_reply": "2022-03-09T17:19:55.334035Z",
     "shell.execute_reply.started": "2022-03-09T17:18:14.245609Z"
    },
    "papermill": {
     "duration": 0.04932,
     "end_time": "2022-03-09T17:19:55.334728",
     "exception": false,
     "start_time": "2022-03-09T17:19:55.285408",
     "status": "completed"
    },
    "tags": []
   },
   "outputs": [
    {
     "data": {
      "text/html": [
       "<div>\n",
       "<style scoped>\n",
       "    .dataframe tbody tr th:only-of-type {\n",
       "        vertical-align: middle;\n",
       "    }\n",
       "\n",
       "    .dataframe tbody tr th {\n",
       "        vertical-align: top;\n",
       "    }\n",
       "\n",
       "    .dataframe thead th {\n",
       "        text-align: right;\n",
       "    }\n",
       "</style>\n",
       "<table border=\"1\" class=\"dataframe\">\n",
       "  <thead>\n",
       "    <tr style=\"text-align: right;\">\n",
       "      <th></th>\n",
       "      <th>A</th>\n",
       "      <th>B</th>\n",
       "      <th>C</th>\n",
       "      <th>D</th>\n",
       "      <th>E</th>\n",
       "      <th>F</th>\n",
       "    </tr>\n",
       "  </thead>\n",
       "  <tbody>\n",
       "  </tbody>\n",
       "</table>\n",
       "</div>"
      ],
      "text/plain": [
       "Empty DataFrame\n",
       "Columns: [A, B, C, D, E, F]\n",
       "Index: []"
      ]
     },
     "execution_count": 8,
     "metadata": {},
     "output_type": "execute_result"
    }
   ],
   "source": [
    "df.query(\"not (A > 2 or F > 4)\")"
   ]
  },
  {
   "cell_type": "code",
   "execution_count": 9,
   "id": "1f034630",
   "metadata": {
    "execution": {
     "iopub.execute_input": "2022-03-09T17:19:55.413846Z",
     "iopub.status.busy": "2022-03-09T17:19:55.413172Z",
     "iopub.status.idle": "2022-03-09T17:19:55.415771Z",
     "shell.execute_reply": "2022-03-09T17:19:55.416257Z",
     "shell.execute_reply.started": "2022-03-09T17:18:14.262562Z"
    },
    "papermill": {
     "duration": 0.04708,
     "end_time": "2022-03-09T17:19:55.416423",
     "exception": false,
     "start_time": "2022-03-09T17:19:55.369343",
     "status": "completed"
    },
    "tags": []
   },
   "outputs": [
    {
     "data": {
      "text/html": [
       "<div>\n",
       "<style scoped>\n",
       "    .dataframe tbody tr th:only-of-type {\n",
       "        vertical-align: middle;\n",
       "    }\n",
       "\n",
       "    .dataframe tbody tr th {\n",
       "        vertical-align: top;\n",
       "    }\n",
       "\n",
       "    .dataframe thead th {\n",
       "        text-align: right;\n",
       "    }\n",
       "</style>\n",
       "<table border=\"1\" class=\"dataframe\">\n",
       "  <thead>\n",
       "    <tr style=\"text-align: right;\">\n",
       "      <th></th>\n",
       "      <th>A</th>\n",
       "      <th>B</th>\n",
       "      <th>C</th>\n",
       "      <th>D</th>\n",
       "      <th>E</th>\n",
       "      <th>F</th>\n",
       "    </tr>\n",
       "  </thead>\n",
       "  <tbody>\n",
       "  </tbody>\n",
       "</table>\n",
       "</div>"
      ],
      "text/plain": [
       "Empty DataFrame\n",
       "Columns: [A, B, C, D, E, F]\n",
       "Index: []"
      ]
     },
     "execution_count": 9,
     "metadata": {},
     "output_type": "execute_result"
    }
   ],
   "source": [
    "df[~((df['A']>2) | (df['F']>4))]"
   ]
  },
  {
   "cell_type": "markdown",
   "id": "83f12848",
   "metadata": {
    "papermill": {
     "duration": 0.035592,
     "end_time": "2022-03-09T17:19:55.487056",
     "exception": false,
     "start_time": "2022-03-09T17:19:55.451464",
     "status": "completed"
    },
    "tags": []
   },
   "source": [
    "# EXAMPLE 5"
   ]
  },
  {
   "cell_type": "code",
   "execution_count": 10,
   "id": "05047ba6",
   "metadata": {
    "execution": {
     "iopub.execute_input": "2022-03-09T17:19:55.570585Z",
     "iopub.status.busy": "2022-03-09T17:19:55.569877Z",
     "iopub.status.idle": "2022-03-09T17:19:55.573329Z",
     "shell.execute_reply": "2022-03-09T17:19:55.572756Z",
     "shell.execute_reply.started": "2022-03-09T17:18:14.277366Z"
    },
    "papermill": {
     "duration": 0.051132,
     "end_time": "2022-03-09T17:19:55.573494",
     "exception": false,
     "start_time": "2022-03-09T17:19:55.522362",
     "status": "completed"
    },
    "tags": []
   },
   "outputs": [
    {
     "data": {
      "text/html": [
       "<div>\n",
       "<style scoped>\n",
       "    .dataframe tbody tr th:only-of-type {\n",
       "        vertical-align: middle;\n",
       "    }\n",
       "\n",
       "    .dataframe tbody tr th {\n",
       "        vertical-align: top;\n",
       "    }\n",
       "\n",
       "    .dataframe thead th {\n",
       "        text-align: right;\n",
       "    }\n",
       "</style>\n",
       "<table border=\"1\" class=\"dataframe\">\n",
       "  <thead>\n",
       "    <tr style=\"text-align: right;\">\n",
       "      <th></th>\n",
       "      <th>A</th>\n",
       "      <th>B</th>\n",
       "      <th>C</th>\n",
       "      <th>D</th>\n",
       "      <th>E</th>\n",
       "      <th>F</th>\n",
       "    </tr>\n",
       "  </thead>\n",
       "  <tbody>\n",
       "    <tr>\n",
       "      <th>2</th>\n",
       "      <td>1</td>\n",
       "      <td>5</td>\n",
       "      <td>8</td>\n",
       "      <td>8</td>\n",
       "      <td>8</td>\n",
       "      <td>8</td>\n",
       "    </tr>\n",
       "    <tr>\n",
       "      <th>3</th>\n",
       "      <td>2</td>\n",
       "      <td>6</td>\n",
       "      <td>1</td>\n",
       "      <td>3</td>\n",
       "      <td>3</td>\n",
       "      <td>8</td>\n",
       "    </tr>\n",
       "  </tbody>\n",
       "</table>\n",
       "</div>"
      ],
      "text/plain": [
       "   A  B  C  D  E  F\n",
       "2  1  5  8  8  8  8\n",
       "3  2  6  1  3  3  8"
      ]
     },
     "execution_count": 10,
     "metadata": {},
     "output_type": "execute_result"
    }
   ],
   "source": [
    "df.query(\"A*2 < 5\")"
   ]
  },
  {
   "cell_type": "code",
   "execution_count": 11,
   "id": "75473f60",
   "metadata": {
    "execution": {
     "iopub.execute_input": "2022-03-09T17:19:55.655994Z",
     "iopub.status.busy": "2022-03-09T17:19:55.655285Z",
     "iopub.status.idle": "2022-03-09T17:19:55.658602Z",
     "shell.execute_reply": "2022-03-09T17:19:55.657996Z",
     "shell.execute_reply.started": "2022-03-09T17:18:14.294115Z"
    },
    "papermill": {
     "duration": 0.048501,
     "end_time": "2022-03-09T17:19:55.658743",
     "exception": false,
     "start_time": "2022-03-09T17:19:55.610242",
     "status": "completed"
    },
    "tags": []
   },
   "outputs": [
    {
     "data": {
      "text/html": [
       "<div>\n",
       "<style scoped>\n",
       "    .dataframe tbody tr th:only-of-type {\n",
       "        vertical-align: middle;\n",
       "    }\n",
       "\n",
       "    .dataframe tbody tr th {\n",
       "        vertical-align: top;\n",
       "    }\n",
       "\n",
       "    .dataframe thead th {\n",
       "        text-align: right;\n",
       "    }\n",
       "</style>\n",
       "<table border=\"1\" class=\"dataframe\">\n",
       "  <thead>\n",
       "    <tr style=\"text-align: right;\">\n",
       "      <th></th>\n",
       "      <th>A</th>\n",
       "      <th>B</th>\n",
       "      <th>C</th>\n",
       "      <th>D</th>\n",
       "      <th>E</th>\n",
       "      <th>F</th>\n",
       "    </tr>\n",
       "  </thead>\n",
       "  <tbody>\n",
       "    <tr>\n",
       "      <th>2</th>\n",
       "      <td>1</td>\n",
       "      <td>5</td>\n",
       "      <td>8</td>\n",
       "      <td>8</td>\n",
       "      <td>8</td>\n",
       "      <td>8</td>\n",
       "    </tr>\n",
       "    <tr>\n",
       "      <th>3</th>\n",
       "      <td>2</td>\n",
       "      <td>6</td>\n",
       "      <td>1</td>\n",
       "      <td>3</td>\n",
       "      <td>3</td>\n",
       "      <td>8</td>\n",
       "    </tr>\n",
       "  </tbody>\n",
       "</table>\n",
       "</div>"
      ],
      "text/plain": [
       "   A  B  C  D  E  F\n",
       "2  1  5  8  8  8  8\n",
       "3  2  6  1  3  3  8"
      ]
     },
     "execution_count": 11,
     "metadata": {},
     "output_type": "execute_result"
    }
   ],
   "source": [
    "df[df['A']*2<5]"
   ]
  },
  {
   "cell_type": "markdown",
   "id": "de8b778e",
   "metadata": {
    "papermill": {
     "duration": 0.035765,
     "end_time": "2022-03-09T17:19:55.731235",
     "exception": false,
     "start_time": "2022-03-09T17:19:55.695470",
     "status": "completed"
    },
    "tags": []
   },
   "source": [
    "# EXAMPLE 6"
   ]
  },
  {
   "cell_type": "code",
   "execution_count": 12,
   "id": "71ecc985",
   "metadata": {
    "execution": {
     "iopub.execute_input": "2022-03-09T17:19:55.808626Z",
     "iopub.status.busy": "2022-03-09T17:19:55.807919Z",
     "iopub.status.idle": "2022-03-09T17:19:55.810332Z",
     "shell.execute_reply": "2022-03-09T17:19:55.809705Z",
     "shell.execute_reply.started": "2022-03-09T17:18:14.306813Z"
    },
    "papermill": {
     "duration": 0.042983,
     "end_time": "2022-03-09T17:19:55.810491",
     "exception": false,
     "start_time": "2022-03-09T17:19:55.767508",
     "status": "completed"
    },
    "tags": []
   },
   "outputs": [],
   "source": [
    "df.F = -1 * df.F # convertig F column to negayive values"
   ]
  },
  {
   "cell_type": "code",
   "execution_count": 13,
   "id": "fae8cb9b",
   "metadata": {
    "execution": {
     "iopub.execute_input": "2022-03-09T17:19:55.887229Z",
     "iopub.status.busy": "2022-03-09T17:19:55.886594Z",
     "iopub.status.idle": "2022-03-09T17:19:55.898965Z",
     "shell.execute_reply": "2022-03-09T17:19:55.899539Z",
     "shell.execute_reply.started": "2022-03-09T17:18:14.315552Z"
    },
    "papermill": {
     "duration": 0.053222,
     "end_time": "2022-03-09T17:19:55.899723",
     "exception": false,
     "start_time": "2022-03-09T17:19:55.846501",
     "status": "completed"
    },
    "tags": []
   },
   "outputs": [
    {
     "data": {
      "text/html": [
       "<div>\n",
       "<style scoped>\n",
       "    .dataframe tbody tr th:only-of-type {\n",
       "        vertical-align: middle;\n",
       "    }\n",
       "\n",
       "    .dataframe tbody tr th {\n",
       "        vertical-align: top;\n",
       "    }\n",
       "\n",
       "    .dataframe thead th {\n",
       "        text-align: right;\n",
       "    }\n",
       "</style>\n",
       "<table border=\"1\" class=\"dataframe\">\n",
       "  <thead>\n",
       "    <tr style=\"text-align: right;\">\n",
       "      <th></th>\n",
       "      <th>A</th>\n",
       "      <th>B</th>\n",
       "      <th>C</th>\n",
       "      <th>D</th>\n",
       "      <th>E</th>\n",
       "      <th>F</th>\n",
       "    </tr>\n",
       "  </thead>\n",
       "  <tbody>\n",
       "    <tr>\n",
       "      <th>2</th>\n",
       "      <td>1</td>\n",
       "      <td>5</td>\n",
       "      <td>8</td>\n",
       "      <td>8</td>\n",
       "      <td>8</td>\n",
       "      <td>-8</td>\n",
       "    </tr>\n",
       "    <tr>\n",
       "      <th>3</th>\n",
       "      <td>2</td>\n",
       "      <td>6</td>\n",
       "      <td>1</td>\n",
       "      <td>3</td>\n",
       "      <td>3</td>\n",
       "      <td>-8</td>\n",
       "    </tr>\n",
       "  </tbody>\n",
       "</table>\n",
       "</div>"
      ],
      "text/plain": [
       "   A  B  C  D  E  F\n",
       "2  1  5  8  8  8 -8\n",
       "3  2  6  1  3  3 -8"
      ]
     },
     "execution_count": 13,
     "metadata": {},
     "output_type": "execute_result"
    }
   ],
   "source": [
    "df.query(\"abs(F) > 5\")"
   ]
  },
  {
   "cell_type": "code",
   "execution_count": 14,
   "id": "55023980",
   "metadata": {
    "execution": {
     "iopub.execute_input": "2022-03-09T17:19:55.980972Z",
     "iopub.status.busy": "2022-03-09T17:19:55.980250Z",
     "iopub.status.idle": "2022-03-09T17:19:55.990349Z",
     "shell.execute_reply": "2022-03-09T17:19:55.990908Z",
     "shell.execute_reply.started": "2022-03-09T17:18:14.338256Z"
    },
    "papermill": {
     "duration": 0.053585,
     "end_time": "2022-03-09T17:19:55.991081",
     "exception": false,
     "start_time": "2022-03-09T17:19:55.937496",
     "status": "completed"
    },
    "tags": []
   },
   "outputs": [
    {
     "data": {
      "text/html": [
       "<div>\n",
       "<style scoped>\n",
       "    .dataframe tbody tr th:only-of-type {\n",
       "        vertical-align: middle;\n",
       "    }\n",
       "\n",
       "    .dataframe tbody tr th {\n",
       "        vertical-align: top;\n",
       "    }\n",
       "\n",
       "    .dataframe thead th {\n",
       "        text-align: right;\n",
       "    }\n",
       "</style>\n",
       "<table border=\"1\" class=\"dataframe\">\n",
       "  <thead>\n",
       "    <tr style=\"text-align: right;\">\n",
       "      <th></th>\n",
       "      <th>A</th>\n",
       "      <th>B</th>\n",
       "      <th>C</th>\n",
       "      <th>D</th>\n",
       "      <th>E</th>\n",
       "      <th>F</th>\n",
       "    </tr>\n",
       "  </thead>\n",
       "  <tbody>\n",
       "    <tr>\n",
       "      <th>2</th>\n",
       "      <td>1</td>\n",
       "      <td>5</td>\n",
       "      <td>8</td>\n",
       "      <td>8</td>\n",
       "      <td>8</td>\n",
       "      <td>-8</td>\n",
       "    </tr>\n",
       "    <tr>\n",
       "      <th>3</th>\n",
       "      <td>2</td>\n",
       "      <td>6</td>\n",
       "      <td>1</td>\n",
       "      <td>3</td>\n",
       "      <td>3</td>\n",
       "      <td>-8</td>\n",
       "    </tr>\n",
       "  </tbody>\n",
       "</table>\n",
       "</div>"
      ],
      "text/plain": [
       "   A  B  C  D  E  F\n",
       "2  1  5  8  8  8 -8\n",
       "3  2  6  1  3  3 -8"
      ]
     },
     "execution_count": 14,
     "metadata": {},
     "output_type": "execute_result"
    }
   ],
   "source": [
    "df[df['F'].apply(abs)>5]"
   ]
  },
  {
   "cell_type": "markdown",
   "id": "cd8b410f",
   "metadata": {
    "papermill": {
     "duration": 0.037788,
     "end_time": "2022-03-09T17:19:56.065996",
     "exception": false,
     "start_time": "2022-03-09T17:19:56.028208",
     "status": "completed"
    },
    "tags": []
   },
   "source": [
    "# EXAMPLE 7"
   ]
  },
  {
   "cell_type": "code",
   "execution_count": 15,
   "id": "fdfad7a2",
   "metadata": {
    "execution": {
     "iopub.execute_input": "2022-03-09T17:19:56.153397Z",
     "iopub.status.busy": "2022-03-09T17:19:56.143150Z",
     "iopub.status.idle": "2022-03-09T17:19:56.156218Z",
     "shell.execute_reply": "2022-03-09T17:19:56.156858Z",
     "shell.execute_reply.started": "2022-03-09T17:18:14.350015Z"
    },
    "papermill": {
     "duration": 0.053993,
     "end_time": "2022-03-09T17:19:56.157047",
     "exception": false,
     "start_time": "2022-03-09T17:19:56.103054",
     "status": "completed"
    },
    "tags": []
   },
   "outputs": [
    {
     "data": {
      "text/html": [
       "<div>\n",
       "<style scoped>\n",
       "    .dataframe tbody tr th:only-of-type {\n",
       "        vertical-align: middle;\n",
       "    }\n",
       "\n",
       "    .dataframe tbody tr th {\n",
       "        vertical-align: top;\n",
       "    }\n",
       "\n",
       "    .dataframe thead th {\n",
       "        text-align: right;\n",
       "    }\n",
       "</style>\n",
       "<table border=\"1\" class=\"dataframe\">\n",
       "  <thead>\n",
       "    <tr style=\"text-align: right;\">\n",
       "      <th></th>\n",
       "      <th>A</th>\n",
       "      <th>B</th>\n",
       "      <th>C</th>\n",
       "      <th>D</th>\n",
       "      <th>E</th>\n",
       "      <th>F</th>\n",
       "    </tr>\n",
       "  </thead>\n",
       "  <tbody>\n",
       "    <tr>\n",
       "      <th>0</th>\n",
       "      <td>5</td>\n",
       "      <td>8</td>\n",
       "      <td>7</td>\n",
       "      <td>5</td>\n",
       "      <td>7</td>\n",
       "      <td>0</td>\n",
       "    </tr>\n",
       "    <tr>\n",
       "      <th>1</th>\n",
       "      <td>7</td>\n",
       "      <td>3</td>\n",
       "      <td>2</td>\n",
       "      <td>0</td>\n",
       "      <td>0</td>\n",
       "      <td>-5</td>\n",
       "    </tr>\n",
       "    <tr>\n",
       "      <th>4</th>\n",
       "      <td>8</td>\n",
       "      <td>1</td>\n",
       "      <td>4</td>\n",
       "      <td>5</td>\n",
       "      <td>5</td>\n",
       "      <td>-2</td>\n",
       "    </tr>\n",
       "  </tbody>\n",
       "</table>\n",
       "</div>"
      ],
      "text/plain": [
       "   A  B  C  D  E  F\n",
       "0  5  8  7  5  7  0\n",
       "1  7  3  2  0  0 -5\n",
       "4  8  1  4  5  5 -2"
      ]
     },
     "execution_count": 15,
     "metadata": {},
     "output_type": "execute_result"
    }
   ],
   "source": [
    "df.query(\"sqrt(A) > 2\")"
   ]
  },
  {
   "cell_type": "code",
   "execution_count": 16,
   "id": "147b3bd6",
   "metadata": {
    "execution": {
     "iopub.execute_input": "2022-03-09T17:19:56.246577Z",
     "iopub.status.busy": "2022-03-09T17:19:56.245735Z",
     "iopub.status.idle": "2022-03-09T17:19:56.248678Z",
     "shell.execute_reply": "2022-03-09T17:19:56.249177Z",
     "shell.execute_reply.started": "2022-03-09T17:18:14.368148Z"
    },
    "papermill": {
     "duration": 0.053231,
     "end_time": "2022-03-09T17:19:56.249350",
     "exception": false,
     "start_time": "2022-03-09T17:19:56.196119",
     "status": "completed"
    },
    "tags": []
   },
   "outputs": [
    {
     "data": {
      "text/html": [
       "<div>\n",
       "<style scoped>\n",
       "    .dataframe tbody tr th:only-of-type {\n",
       "        vertical-align: middle;\n",
       "    }\n",
       "\n",
       "    .dataframe tbody tr th {\n",
       "        vertical-align: top;\n",
       "    }\n",
       "\n",
       "    .dataframe thead th {\n",
       "        text-align: right;\n",
       "    }\n",
       "</style>\n",
       "<table border=\"1\" class=\"dataframe\">\n",
       "  <thead>\n",
       "    <tr style=\"text-align: right;\">\n",
       "      <th></th>\n",
       "      <th>A</th>\n",
       "      <th>B</th>\n",
       "      <th>C</th>\n",
       "      <th>D</th>\n",
       "      <th>E</th>\n",
       "      <th>F</th>\n",
       "    </tr>\n",
       "  </thead>\n",
       "  <tbody>\n",
       "    <tr>\n",
       "      <th>0</th>\n",
       "      <td>5</td>\n",
       "      <td>8</td>\n",
       "      <td>7</td>\n",
       "      <td>5</td>\n",
       "      <td>7</td>\n",
       "      <td>0</td>\n",
       "    </tr>\n",
       "    <tr>\n",
       "      <th>1</th>\n",
       "      <td>7</td>\n",
       "      <td>3</td>\n",
       "      <td>2</td>\n",
       "      <td>0</td>\n",
       "      <td>0</td>\n",
       "      <td>-5</td>\n",
       "    </tr>\n",
       "    <tr>\n",
       "      <th>4</th>\n",
       "      <td>8</td>\n",
       "      <td>1</td>\n",
       "      <td>4</td>\n",
       "      <td>5</td>\n",
       "      <td>5</td>\n",
       "      <td>-2</td>\n",
       "    </tr>\n",
       "  </tbody>\n",
       "</table>\n",
       "</div>"
      ],
      "text/plain": [
       "   A  B  C  D  E  F\n",
       "0  5  8  7  5  7  0\n",
       "1  7  3  2  0  0 -5\n",
       "4  8  1  4  5  5 -2"
      ]
     },
     "execution_count": 16,
     "metadata": {},
     "output_type": "execute_result"
    }
   ],
   "source": [
    "df[df['A'].apply(np.sqrt)>2]"
   ]
  },
  {
   "cell_type": "markdown",
   "id": "38afd6b1",
   "metadata": {
    "papermill": {
     "duration": 0.03769,
     "end_time": "2022-03-09T17:19:56.326652",
     "exception": false,
     "start_time": "2022-03-09T17:19:56.288962",
     "status": "completed"
    },
    "tags": []
   },
   "source": [
    "# EXAMPLE 8"
   ]
  },
  {
   "cell_type": "code",
   "execution_count": 17,
   "id": "9697d31a",
   "metadata": {
    "execution": {
     "iopub.execute_input": "2022-03-09T17:19:56.417739Z",
     "iopub.status.busy": "2022-03-09T17:19:56.406707Z",
     "iopub.status.idle": "2022-03-09T17:19:56.420320Z",
     "shell.execute_reply": "2022-03-09T17:19:56.420827Z",
     "shell.execute_reply.started": "2022-03-09T17:18:14.381103Z"
    },
    "papermill": {
     "duration": 0.056319,
     "end_time": "2022-03-09T17:19:56.421014",
     "exception": false,
     "start_time": "2022-03-09T17:19:56.364695",
     "status": "completed"
    },
    "tags": []
   },
   "outputs": [
    {
     "data": {
      "text/html": [
       "<div>\n",
       "<style scoped>\n",
       "    .dataframe tbody tr th:only-of-type {\n",
       "        vertical-align: middle;\n",
       "    }\n",
       "\n",
       "    .dataframe tbody tr th {\n",
       "        vertical-align: top;\n",
       "    }\n",
       "\n",
       "    .dataframe thead th {\n",
       "        text-align: right;\n",
       "    }\n",
       "</style>\n",
       "<table border=\"1\" class=\"dataframe\">\n",
       "  <thead>\n",
       "    <tr style=\"text-align: right;\">\n",
       "      <th></th>\n",
       "      <th>A</th>\n",
       "      <th>B</th>\n",
       "      <th>C</th>\n",
       "      <th>D</th>\n",
       "      <th>E</th>\n",
       "      <th>F</th>\n",
       "      <th>G</th>\n",
       "    </tr>\n",
       "  </thead>\n",
       "  <tbody>\n",
       "    <tr>\n",
       "      <th>0</th>\n",
       "      <td>5</td>\n",
       "      <td>8</td>\n",
       "      <td>7</td>\n",
       "      <td>5</td>\n",
       "      <td>7</td>\n",
       "      <td>0</td>\n",
       "      <td>John</td>\n",
       "    </tr>\n",
       "    <tr>\n",
       "      <th>3</th>\n",
       "      <td>2</td>\n",
       "      <td>6</td>\n",
       "      <td>1</td>\n",
       "      <td>3</td>\n",
       "      <td>3</td>\n",
       "      <td>-8</td>\n",
       "      <td>Luke</td>\n",
       "    </tr>\n",
       "    <tr>\n",
       "      <th>4</th>\n",
       "      <td>8</td>\n",
       "      <td>1</td>\n",
       "      <td>4</td>\n",
       "      <td>5</td>\n",
       "      <td>5</td>\n",
       "      <td>-2</td>\n",
       "      <td>Michael</td>\n",
       "    </tr>\n",
       "  </tbody>\n",
       "</table>\n",
       "</div>"
      ],
      "text/plain": [
       "   A  B  C  D  E  F        G\n",
       "0  5  8  7  5  7  0     John\n",
       "3  2  6  1  3  3 -8     Luke\n",
       "4  8  1  4  5  5 -2  Michael"
      ]
     },
     "execution_count": 17,
     "metadata": {},
     "output_type": "execute_result"
    }
   ],
   "source": [
    "df[\"G\"] = [\"John\", \"Jane\", \"Ashley\", \"Luke\", \"Michael\"] # adding string column to the data frame\n",
    "df.query(\"G > 'Jo'\")"
   ]
  },
  {
   "cell_type": "code",
   "execution_count": 18,
   "id": "9b9dc89b",
   "metadata": {
    "execution": {
     "iopub.execute_input": "2022-03-09T17:19:56.513239Z",
     "iopub.status.busy": "2022-03-09T17:19:56.512541Z",
     "iopub.status.idle": "2022-03-09T17:19:56.515261Z",
     "shell.execute_reply": "2022-03-09T17:19:56.515992Z",
     "shell.execute_reply.started": "2022-03-09T17:18:14.405908Z"
    },
    "papermill": {
     "duration": 0.0565,
     "end_time": "2022-03-09T17:19:56.516179",
     "exception": false,
     "start_time": "2022-03-09T17:19:56.459679",
     "status": "completed"
    },
    "tags": []
   },
   "outputs": [
    {
     "data": {
      "text/html": [
       "<div>\n",
       "<style scoped>\n",
       "    .dataframe tbody tr th:only-of-type {\n",
       "        vertical-align: middle;\n",
       "    }\n",
       "\n",
       "    .dataframe tbody tr th {\n",
       "        vertical-align: top;\n",
       "    }\n",
       "\n",
       "    .dataframe thead th {\n",
       "        text-align: right;\n",
       "    }\n",
       "</style>\n",
       "<table border=\"1\" class=\"dataframe\">\n",
       "  <thead>\n",
       "    <tr style=\"text-align: right;\">\n",
       "      <th></th>\n",
       "      <th>A</th>\n",
       "      <th>B</th>\n",
       "      <th>C</th>\n",
       "      <th>D</th>\n",
       "      <th>E</th>\n",
       "      <th>F</th>\n",
       "      <th>G</th>\n",
       "    </tr>\n",
       "  </thead>\n",
       "  <tbody>\n",
       "    <tr>\n",
       "      <th>0</th>\n",
       "      <td>5</td>\n",
       "      <td>8</td>\n",
       "      <td>7</td>\n",
       "      <td>5</td>\n",
       "      <td>7</td>\n",
       "      <td>0</td>\n",
       "      <td>John</td>\n",
       "    </tr>\n",
       "    <tr>\n",
       "      <th>3</th>\n",
       "      <td>2</td>\n",
       "      <td>6</td>\n",
       "      <td>1</td>\n",
       "      <td>3</td>\n",
       "      <td>3</td>\n",
       "      <td>-8</td>\n",
       "      <td>Luke</td>\n",
       "    </tr>\n",
       "    <tr>\n",
       "      <th>4</th>\n",
       "      <td>8</td>\n",
       "      <td>1</td>\n",
       "      <td>4</td>\n",
       "      <td>5</td>\n",
       "      <td>5</td>\n",
       "      <td>-2</td>\n",
       "      <td>Michael</td>\n",
       "    </tr>\n",
       "  </tbody>\n",
       "</table>\n",
       "</div>"
      ],
      "text/plain": [
       "   A  B  C  D  E  F        G\n",
       "0  5  8  7  5  7  0     John\n",
       "3  2  6  1  3  3 -8     Luke\n",
       "4  8  1  4  5  5 -2  Michael"
      ]
     },
     "execution_count": 18,
     "metadata": {},
     "output_type": "execute_result"
    }
   ],
   "source": [
    "df[df['G']>'Jo']"
   ]
  },
  {
   "cell_type": "markdown",
   "id": "1c15aaf5",
   "metadata": {
    "papermill": {
     "duration": 0.039009,
     "end_time": "2022-03-09T17:19:56.597630",
     "exception": false,
     "start_time": "2022-03-09T17:19:56.558621",
     "status": "completed"
    },
    "tags": []
   },
   "source": [
    "# EXAMPLE 9"
   ]
  },
  {
   "cell_type": "code",
   "execution_count": 19,
   "id": "c114837c",
   "metadata": {
    "execution": {
     "iopub.execute_input": "2022-03-09T17:19:56.685030Z",
     "iopub.status.busy": "2022-03-09T17:19:56.684285Z",
     "iopub.status.idle": "2022-03-09T17:19:56.694720Z",
     "shell.execute_reply": "2022-03-09T17:19:56.695353Z",
     "shell.execute_reply.started": "2022-03-09T17:18:14.421757Z"
    },
    "papermill": {
     "duration": 0.058842,
     "end_time": "2022-03-09T17:19:56.695546",
     "exception": false,
     "start_time": "2022-03-09T17:19:56.636704",
     "status": "completed"
    },
    "tags": []
   },
   "outputs": [
    {
     "data": {
      "text/html": [
       "<div>\n",
       "<style scoped>\n",
       "    .dataframe tbody tr th:only-of-type {\n",
       "        vertical-align: middle;\n",
       "    }\n",
       "\n",
       "    .dataframe tbody tr th {\n",
       "        vertical-align: top;\n",
       "    }\n",
       "\n",
       "    .dataframe thead th {\n",
       "        text-align: right;\n",
       "    }\n",
       "</style>\n",
       "<table border=\"1\" class=\"dataframe\">\n",
       "  <thead>\n",
       "    <tr style=\"text-align: right;\">\n",
       "      <th></th>\n",
       "      <th>A</th>\n",
       "      <th>B</th>\n",
       "      <th>C</th>\n",
       "      <th>D</th>\n",
       "      <th>E</th>\n",
       "      <th>F</th>\n",
       "      <th>G</th>\n",
       "      <th>Date</th>\n",
       "    </tr>\n",
       "  </thead>\n",
       "  <tbody>\n",
       "    <tr>\n",
       "      <th>0</th>\n",
       "      <td>5</td>\n",
       "      <td>8</td>\n",
       "      <td>7</td>\n",
       "      <td>5</td>\n",
       "      <td>7</td>\n",
       "      <td>0</td>\n",
       "      <td>John</td>\n",
       "      <td>2021-04-30</td>\n",
       "    </tr>\n",
       "    <tr>\n",
       "      <th>1</th>\n",
       "      <td>7</td>\n",
       "      <td>3</td>\n",
       "      <td>2</td>\n",
       "      <td>0</td>\n",
       "      <td>0</td>\n",
       "      <td>-5</td>\n",
       "      <td>Jane</td>\n",
       "      <td>2021-05-31</td>\n",
       "    </tr>\n",
       "    <tr>\n",
       "      <th>2</th>\n",
       "      <td>1</td>\n",
       "      <td>5</td>\n",
       "      <td>8</td>\n",
       "      <td>8</td>\n",
       "      <td>8</td>\n",
       "      <td>-8</td>\n",
       "      <td>Ashley</td>\n",
       "      <td>2021-06-30</td>\n",
       "    </tr>\n",
       "    <tr>\n",
       "      <th>3</th>\n",
       "      <td>2</td>\n",
       "      <td>6</td>\n",
       "      <td>1</td>\n",
       "      <td>3</td>\n",
       "      <td>3</td>\n",
       "      <td>-8</td>\n",
       "      <td>Luke</td>\n",
       "      <td>2021-07-31</td>\n",
       "    </tr>\n",
       "    <tr>\n",
       "      <th>4</th>\n",
       "      <td>8</td>\n",
       "      <td>1</td>\n",
       "      <td>4</td>\n",
       "      <td>5</td>\n",
       "      <td>5</td>\n",
       "      <td>-2</td>\n",
       "      <td>Michael</td>\n",
       "      <td>2021-08-31</td>\n",
       "    </tr>\n",
       "  </tbody>\n",
       "</table>\n",
       "</div>"
      ],
      "text/plain": [
       "   A  B  C  D  E  F        G       Date\n",
       "0  5  8  7  5  7  0     John 2021-04-30\n",
       "1  7  3  2  0  0 -5     Jane 2021-05-31\n",
       "2  1  5  8  8  8 -8   Ashley 2021-06-30\n",
       "3  2  6  1  3  3 -8     Luke 2021-07-31\n",
       "4  8  1  4  5  5 -2  Michael 2021-08-31"
      ]
     },
     "execution_count": 19,
     "metadata": {},
     "output_type": "execute_result"
    }
   ],
   "source": [
    "df[\"Date\"] = pd.date_range(start=\"2021-04-05\", periods=5, freq=\"M\") # adding datetime column to the function\n",
    "df"
   ]
  },
  {
   "cell_type": "code",
   "execution_count": 20,
   "id": "d544877f",
   "metadata": {
    "execution": {
     "iopub.execute_input": "2022-03-09T17:19:56.778895Z",
     "iopub.status.busy": "2022-03-09T17:19:56.777903Z",
     "iopub.status.idle": "2022-03-09T17:19:56.792251Z",
     "shell.execute_reply": "2022-03-09T17:19:56.791614Z",
     "shell.execute_reply.started": "2022-03-09T17:18:14.448341Z"
    },
    "papermill": {
     "duration": 0.057064,
     "end_time": "2022-03-09T17:19:56.792393",
     "exception": false,
     "start_time": "2022-03-09T17:19:56.735329",
     "status": "completed"
    },
    "tags": []
   },
   "outputs": [
    {
     "data": {
      "text/html": [
       "<div>\n",
       "<style scoped>\n",
       "    .dataframe tbody tr th:only-of-type {\n",
       "        vertical-align: middle;\n",
       "    }\n",
       "\n",
       "    .dataframe tbody tr th {\n",
       "        vertical-align: top;\n",
       "    }\n",
       "\n",
       "    .dataframe thead th {\n",
       "        text-align: right;\n",
       "    }\n",
       "</style>\n",
       "<table border=\"1\" class=\"dataframe\">\n",
       "  <thead>\n",
       "    <tr style=\"text-align: right;\">\n",
       "      <th></th>\n",
       "      <th>A</th>\n",
       "      <th>B</th>\n",
       "      <th>C</th>\n",
       "      <th>D</th>\n",
       "      <th>E</th>\n",
       "      <th>F</th>\n",
       "      <th>G</th>\n",
       "      <th>Date</th>\n",
       "    </tr>\n",
       "  </thead>\n",
       "  <tbody>\n",
       "    <tr>\n",
       "      <th>3</th>\n",
       "      <td>2</td>\n",
       "      <td>6</td>\n",
       "      <td>1</td>\n",
       "      <td>3</td>\n",
       "      <td>3</td>\n",
       "      <td>-8</td>\n",
       "      <td>Luke</td>\n",
       "      <td>2021-07-31</td>\n",
       "    </tr>\n",
       "    <tr>\n",
       "      <th>4</th>\n",
       "      <td>8</td>\n",
       "      <td>1</td>\n",
       "      <td>4</td>\n",
       "      <td>5</td>\n",
       "      <td>5</td>\n",
       "      <td>-2</td>\n",
       "      <td>Michael</td>\n",
       "      <td>2021-08-31</td>\n",
       "    </tr>\n",
       "  </tbody>\n",
       "</table>\n",
       "</div>"
      ],
      "text/plain": [
       "   A  B  C  D  E  F        G       Date\n",
       "3  2  6  1  3  3 -8     Luke 2021-07-31\n",
       "4  8  1  4  5  5 -2  Michael 2021-08-31"
      ]
     },
     "execution_count": 20,
     "metadata": {},
     "output_type": "execute_result"
    }
   ],
   "source": [
    "df.query(\"Date.dt.month > 6\")"
   ]
  },
  {
   "cell_type": "code",
   "execution_count": 21,
   "id": "c129efba",
   "metadata": {
    "execution": {
     "iopub.execute_input": "2022-03-09T17:19:56.877998Z",
     "iopub.status.busy": "2022-03-09T17:19:56.877295Z",
     "iopub.status.idle": "2022-03-09T17:19:56.890890Z",
     "shell.execute_reply": "2022-03-09T17:19:56.891394Z",
     "shell.execute_reply.started": "2022-03-09T17:18:14.473910Z"
    },
    "papermill": {
     "duration": 0.058506,
     "end_time": "2022-03-09T17:19:56.891596",
     "exception": false,
     "start_time": "2022-03-09T17:19:56.833090",
     "status": "completed"
    },
    "tags": []
   },
   "outputs": [
    {
     "data": {
      "text/html": [
       "<div>\n",
       "<style scoped>\n",
       "    .dataframe tbody tr th:only-of-type {\n",
       "        vertical-align: middle;\n",
       "    }\n",
       "\n",
       "    .dataframe tbody tr th {\n",
       "        vertical-align: top;\n",
       "    }\n",
       "\n",
       "    .dataframe thead th {\n",
       "        text-align: right;\n",
       "    }\n",
       "</style>\n",
       "<table border=\"1\" class=\"dataframe\">\n",
       "  <thead>\n",
       "    <tr style=\"text-align: right;\">\n",
       "      <th></th>\n",
       "      <th>A</th>\n",
       "      <th>B</th>\n",
       "      <th>C</th>\n",
       "      <th>D</th>\n",
       "      <th>E</th>\n",
       "      <th>F</th>\n",
       "      <th>G</th>\n",
       "      <th>Date</th>\n",
       "    </tr>\n",
       "  </thead>\n",
       "  <tbody>\n",
       "    <tr>\n",
       "      <th>3</th>\n",
       "      <td>2</td>\n",
       "      <td>6</td>\n",
       "      <td>1</td>\n",
       "      <td>3</td>\n",
       "      <td>3</td>\n",
       "      <td>-8</td>\n",
       "      <td>Luke</td>\n",
       "      <td>2021-07-31</td>\n",
       "    </tr>\n",
       "    <tr>\n",
       "      <th>4</th>\n",
       "      <td>8</td>\n",
       "      <td>1</td>\n",
       "      <td>4</td>\n",
       "      <td>5</td>\n",
       "      <td>5</td>\n",
       "      <td>-2</td>\n",
       "      <td>Michael</td>\n",
       "      <td>2021-08-31</td>\n",
       "    </tr>\n",
       "  </tbody>\n",
       "</table>\n",
       "</div>"
      ],
      "text/plain": [
       "   A  B  C  D  E  F        G       Date\n",
       "3  2  6  1  3  3 -8     Luke 2021-07-31\n",
       "4  8  1  4  5  5 -2  Michael 2021-08-31"
      ]
     },
     "execution_count": 21,
     "metadata": {},
     "output_type": "execute_result"
    }
   ],
   "source": [
    "df[df['Date'].dt.month>6]"
   ]
  },
  {
   "cell_type": "markdown",
   "id": "faec2050",
   "metadata": {
    "papermill": {
     "duration": 0.041651,
     "end_time": "2022-03-09T17:19:56.974473",
     "exception": false,
     "start_time": "2022-03-09T17:19:56.932822",
     "status": "completed"
    },
    "tags": []
   },
   "source": [
    "# EXAMPLE 10"
   ]
  },
  {
   "cell_type": "code",
   "execution_count": 22,
   "id": "0c13a5d6",
   "metadata": {
    "execution": {
     "iopub.execute_input": "2022-03-09T17:19:57.071789Z",
     "iopub.status.busy": "2022-03-09T17:19:57.071015Z",
     "iopub.status.idle": "2022-03-09T17:19:57.073820Z",
     "shell.execute_reply": "2022-03-09T17:19:57.074312Z",
     "shell.execute_reply.started": "2022-03-09T17:18:14.498000Z"
    },
    "papermill": {
     "duration": 0.058858,
     "end_time": "2022-03-09T17:19:57.074503",
     "exception": false,
     "start_time": "2022-03-09T17:19:57.015645",
     "status": "completed"
    },
    "tags": []
   },
   "outputs": [
    {
     "data": {
      "text/html": [
       "<div>\n",
       "<style scoped>\n",
       "    .dataframe tbody tr th:only-of-type {\n",
       "        vertical-align: middle;\n",
       "    }\n",
       "\n",
       "    .dataframe tbody tr th {\n",
       "        vertical-align: top;\n",
       "    }\n",
       "\n",
       "    .dataframe thead th {\n",
       "        text-align: right;\n",
       "    }\n",
       "</style>\n",
       "<table border=\"1\" class=\"dataframe\">\n",
       "  <thead>\n",
       "    <tr style=\"text-align: right;\">\n",
       "      <th></th>\n",
       "      <th>A</th>\n",
       "      <th>B</th>\n",
       "      <th>C</th>\n",
       "      <th>D</th>\n",
       "      <th>E</th>\n",
       "      <th>F</th>\n",
       "      <th>G</th>\n",
       "      <th>Date</th>\n",
       "    </tr>\n",
       "  </thead>\n",
       "  <tbody>\n",
       "    <tr>\n",
       "      <th>2</th>\n",
       "      <td>1</td>\n",
       "      <td>5</td>\n",
       "      <td>8</td>\n",
       "      <td>8</td>\n",
       "      <td>8</td>\n",
       "      <td>-8</td>\n",
       "      <td>Ashley</td>\n",
       "      <td>2021-06-30</td>\n",
       "    </tr>\n",
       "  </tbody>\n",
       "</table>\n",
       "</div>"
      ],
      "text/plain": [
       "   A  B  C  D  E  F       G       Date\n",
       "2  1  5  8  8  8 -8  Ashley 2021-06-30"
      ]
     },
     "execution_count": 22,
     "metadata": {},
     "output_type": "execute_result"
    }
   ],
   "source": [
    "df.query(\"A + B < C\")"
   ]
  },
  {
   "cell_type": "code",
   "execution_count": 23,
   "id": "713ee320",
   "metadata": {
    "execution": {
     "iopub.execute_input": "2022-03-09T17:19:57.160000Z",
     "iopub.status.busy": "2022-03-09T17:19:57.159347Z",
     "iopub.status.idle": "2022-03-09T17:19:57.170710Z",
     "shell.execute_reply": "2022-03-09T17:19:57.171268Z",
     "shell.execute_reply.started": "2022-03-09T17:18:14.524375Z"
    },
    "papermill": {
     "duration": 0.055807,
     "end_time": "2022-03-09T17:19:57.171460",
     "exception": false,
     "start_time": "2022-03-09T17:19:57.115653",
     "status": "completed"
    },
    "tags": []
   },
   "outputs": [
    {
     "data": {
      "text/html": [
       "<div>\n",
       "<style scoped>\n",
       "    .dataframe tbody tr th:only-of-type {\n",
       "        vertical-align: middle;\n",
       "    }\n",
       "\n",
       "    .dataframe tbody tr th {\n",
       "        vertical-align: top;\n",
       "    }\n",
       "\n",
       "    .dataframe thead th {\n",
       "        text-align: right;\n",
       "    }\n",
       "</style>\n",
       "<table border=\"1\" class=\"dataframe\">\n",
       "  <thead>\n",
       "    <tr style=\"text-align: right;\">\n",
       "      <th></th>\n",
       "      <th>A</th>\n",
       "      <th>B</th>\n",
       "      <th>C</th>\n",
       "      <th>D</th>\n",
       "      <th>E</th>\n",
       "      <th>F</th>\n",
       "      <th>G</th>\n",
       "      <th>Date</th>\n",
       "    </tr>\n",
       "  </thead>\n",
       "  <tbody>\n",
       "    <tr>\n",
       "      <th>2</th>\n",
       "      <td>1</td>\n",
       "      <td>5</td>\n",
       "      <td>8</td>\n",
       "      <td>8</td>\n",
       "      <td>8</td>\n",
       "      <td>-8</td>\n",
       "      <td>Ashley</td>\n",
       "      <td>2021-06-30</td>\n",
       "    </tr>\n",
       "  </tbody>\n",
       "</table>\n",
       "</div>"
      ],
      "text/plain": [
       "   A  B  C  D  E  F       G       Date\n",
       "2  1  5  8  8  8 -8  Ashley 2021-06-30"
      ]
     },
     "execution_count": 23,
     "metadata": {},
     "output_type": "execute_result"
    }
   ],
   "source": [
    "df[df['A']+df['B']<df['C']]"
   ]
  },
  {
   "cell_type": "markdown",
   "id": "79f084b7",
   "metadata": {
    "papermill": {
     "duration": 0.042706,
     "end_time": "2022-03-09T17:19:57.256165",
     "exception": false,
     "start_time": "2022-03-09T17:19:57.213459",
     "status": "completed"
    },
    "tags": []
   },
   "source": [
    "# Through all the above examples, we saw that we can use Masking instead of query"
   ]
  },
  {
   "cell_type": "code",
   "execution_count": null,
   "id": "117f905c",
   "metadata": {
    "papermill": {
     "duration": 0.041343,
     "end_time": "2022-03-09T17:19:57.339367",
     "exception": false,
     "start_time": "2022-03-09T17:19:57.298024",
     "status": "completed"
    },
    "tags": []
   },
   "outputs": [],
   "source": []
  }
 ],
 "metadata": {
  "kernelspec": {
   "display_name": "Python 3",
   "language": "python",
   "name": "python3"
  },
  "language_info": {
   "codemirror_mode": {
    "name": "ipython",
    "version": 3
   },
   "file_extension": ".py",
   "mimetype": "text/x-python",
   "name": "python",
   "nbconvert_exporter": "python",
   "pygments_lexer": "ipython3",
   "version": "3.7.12"
  },
  "papermill": {
   "default_parameters": {},
   "duration": 14.388313,
   "end_time": "2022-03-09T17:19:58.091658",
   "environment_variables": {},
   "exception": null,
   "input_path": "__notebook__.ipynb",
   "output_path": "__notebook__.ipynb",
   "parameters": {},
   "start_time": "2022-03-09T17:19:43.703345",
   "version": "2.3.3"
  }
 },
 "nbformat": 4,
 "nbformat_minor": 5
}

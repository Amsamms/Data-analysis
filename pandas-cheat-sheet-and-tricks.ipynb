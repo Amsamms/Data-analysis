{
 "cells": [
  {
   "cell_type": "code",
   "execution_count": 1,
   "id": "b80a47eb",
   "metadata": {
    "_cell_guid": "b1076dfc-b9ad-4769-8c92-a6c4dae69d19",
    "_uuid": "8f2839f25d086af736a60e9eeb907d3b93b6e0e5",
    "execution": {
     "iopub.execute_input": "2022-05-20T15:55:15.417602Z",
     "iopub.status.busy": "2022-05-20T15:55:15.417201Z",
     "iopub.status.idle": "2022-05-20T15:55:15.427414Z",
     "shell.execute_reply": "2022-05-20T15:55:15.426795Z"
    },
    "papermill": {
     "duration": 0.028302,
     "end_time": "2022-05-20T15:55:15.429614",
     "exception": false,
     "start_time": "2022-05-20T15:55:15.401312",
     "status": "completed"
    },
    "tags": []
   },
   "outputs": [],
   "source": [
    "import pandas as pd"
   ]
  },
  {
   "cell_type": "code",
   "execution_count": 2,
   "id": "11f9c274",
   "metadata": {
    "execution": {
     "iopub.execute_input": "2022-05-20T15:55:15.461924Z",
     "iopub.status.busy": "2022-05-20T15:55:15.461380Z",
     "iopub.status.idle": "2022-05-20T15:55:15.496513Z",
     "shell.execute_reply": "2022-05-20T15:55:15.495863Z"
    },
    "papermill": {
     "duration": 0.054309,
     "end_time": "2022-05-20T15:55:15.500117",
     "exception": false,
     "start_time": "2022-05-20T15:55:15.445808",
     "status": "completed"
    },
    "tags": []
   },
   "outputs": [
    {
     "name": "stderr",
     "output_type": "stream",
     "text": [
      "/opt/conda/lib/python3.7/site-packages/pandas/util/__init__.py:15: FutureWarning: pandas.util.testing is deprecated. Use the functions in the public API at pandas.testing instead.\n",
      "  import pandas.util.testing\n"
     ]
    },
    {
     "data": {
      "text/html": [
       "<div>\n",
       "<style scoped>\n",
       "    .dataframe tbody tr th:only-of-type {\n",
       "        vertical-align: middle;\n",
       "    }\n",
       "\n",
       "    .dataframe tbody tr th {\n",
       "        vertical-align: top;\n",
       "    }\n",
       "\n",
       "    .dataframe thead th {\n",
       "        text-align: right;\n",
       "    }\n",
       "</style>\n",
       "<table border=\"1\" class=\"dataframe\">\n",
       "  <thead>\n",
       "    <tr style=\"text-align: right;\">\n",
       "      <th></th>\n",
       "      <th>A</th>\n",
       "      <th>B</th>\n",
       "      <th>C</th>\n",
       "      <th>D</th>\n",
       "    </tr>\n",
       "  </thead>\n",
       "  <tbody>\n",
       "    <tr>\n",
       "      <th>0</th>\n",
       "      <td>0.0</td>\n",
       "      <td>0.0</td>\n",
       "      <td>foo1</td>\n",
       "      <td>2009-01-01</td>\n",
       "    </tr>\n",
       "    <tr>\n",
       "      <th>1</th>\n",
       "      <td>1.0</td>\n",
       "      <td>1.0</td>\n",
       "      <td>foo2</td>\n",
       "      <td>2009-01-02</td>\n",
       "    </tr>\n",
       "    <tr>\n",
       "      <th>2</th>\n",
       "      <td>2.0</td>\n",
       "      <td>0.0</td>\n",
       "      <td>foo3</td>\n",
       "      <td>2009-01-05</td>\n",
       "    </tr>\n",
       "    <tr>\n",
       "      <th>3</th>\n",
       "      <td>3.0</td>\n",
       "      <td>1.0</td>\n",
       "      <td>foo4</td>\n",
       "      <td>2009-01-06</td>\n",
       "    </tr>\n",
       "    <tr>\n",
       "      <th>4</th>\n",
       "      <td>4.0</td>\n",
       "      <td>0.0</td>\n",
       "      <td>foo5</td>\n",
       "      <td>2009-01-07</td>\n",
       "    </tr>\n",
       "  </tbody>\n",
       "</table>\n",
       "</div>"
      ],
      "text/plain": [
       "     A    B     C          D\n",
       "0  0.0  0.0  foo1 2009-01-01\n",
       "1  1.0  1.0  foo2 2009-01-02\n",
       "2  2.0  0.0  foo3 2009-01-05\n",
       "3  3.0  1.0  foo4 2009-01-06\n",
       "4  4.0  0.0  foo5 2009-01-07"
      ]
     },
     "execution_count": 2,
     "metadata": {},
     "output_type": "execute_result"
    }
   ],
   "source": [
    "# Make mixed test dataframe\n",
    "df=pd.util.testing.makeMixedDataFrame()  # after (.make) you can hit tab to see other variation of creating a datafram\n",
    "df"
   ]
  },
  {
   "cell_type": "code",
   "execution_count": 3,
   "id": "7c60d019",
   "metadata": {
    "execution": {
     "iopub.execute_input": "2022-05-20T15:55:15.530312Z",
     "iopub.status.busy": "2022-05-20T15:55:15.529814Z",
     "iopub.status.idle": "2022-05-20T15:55:15.554298Z",
     "shell.execute_reply": "2022-05-20T15:55:15.553727Z"
    },
    "papermill": {
     "duration": 0.041696,
     "end_time": "2022-05-20T15:55:15.556129",
     "exception": false,
     "start_time": "2022-05-20T15:55:15.514433",
     "status": "completed"
    },
    "tags": []
   },
   "outputs": [
    {
     "data": {
      "text/html": [
       "<div>\n",
       "<style scoped>\n",
       "    .dataframe tbody tr th:only-of-type {\n",
       "        vertical-align: middle;\n",
       "    }\n",
       "\n",
       "    .dataframe tbody tr th {\n",
       "        vertical-align: top;\n",
       "    }\n",
       "\n",
       "    .dataframe thead th {\n",
       "        text-align: right;\n",
       "    }\n",
       "</style>\n",
       "<table border=\"1\" class=\"dataframe\">\n",
       "  <thead>\n",
       "    <tr style=\"text-align: right;\">\n",
       "      <th></th>\n",
       "      <th>mean</th>\n",
       "      <th>min</th>\n",
       "    </tr>\n",
       "    <tr>\n",
       "      <th>A</th>\n",
       "      <th></th>\n",
       "      <th></th>\n",
       "    </tr>\n",
       "  </thead>\n",
       "  <tbody>\n",
       "    <tr>\n",
       "      <th>0.0</th>\n",
       "      <td>0.0</td>\n",
       "      <td>0.0</td>\n",
       "    </tr>\n",
       "    <tr>\n",
       "      <th>1.0</th>\n",
       "      <td>1.0</td>\n",
       "      <td>1.0</td>\n",
       "    </tr>\n",
       "    <tr>\n",
       "      <th>2.0</th>\n",
       "      <td>0.0</td>\n",
       "      <td>0.0</td>\n",
       "    </tr>\n",
       "    <tr>\n",
       "      <th>3.0</th>\n",
       "      <td>1.0</td>\n",
       "      <td>1.0</td>\n",
       "    </tr>\n",
       "    <tr>\n",
       "      <th>4.0</th>\n",
       "      <td>0.0</td>\n",
       "      <td>0.0</td>\n",
       "    </tr>\n",
       "  </tbody>\n",
       "</table>\n",
       "</div>"
      ],
      "text/plain": [
       "     mean  min\n",
       "A             \n",
       "0.0   0.0  0.0\n",
       "1.0   1.0  1.0\n",
       "2.0   0.0  0.0\n",
       "3.0   1.0  1.0\n",
       "4.0   0.0  0.0"
      ]
     },
     "execution_count": 3,
     "metadata": {},
     "output_type": "execute_result"
    }
   ],
   "source": [
    "#groupby\n",
    "# df.grooupby ( ['column_name1', 'column_name2'], as_index=False)['column_name3','column_name4'].agg(['function1','function2'])\n",
    "df.groupby(['A'], as_index=False)['B'].agg(['mean','min'])"
   ]
  },
  {
   "cell_type": "code",
   "execution_count": 4,
   "id": "e90c6a7b",
   "metadata": {
    "execution": {
     "iopub.execute_input": "2022-05-20T15:55:15.587666Z",
     "iopub.status.busy": "2022-05-20T15:55:15.587359Z",
     "iopub.status.idle": "2022-05-20T15:55:15.612811Z",
     "shell.execute_reply": "2022-05-20T15:55:15.611885Z"
    },
    "papermill": {
     "duration": 0.044007,
     "end_time": "2022-05-20T15:55:15.614808",
     "exception": false,
     "start_time": "2022-05-20T15:55:15.570801",
     "status": "completed"
    },
    "tags": []
   },
   "outputs": [
    {
     "data": {
      "text/html": [
       "<div>\n",
       "<style scoped>\n",
       "    .dataframe tbody tr th:only-of-type {\n",
       "        vertical-align: middle;\n",
       "    }\n",
       "\n",
       "    .dataframe tbody tr th {\n",
       "        vertical-align: top;\n",
       "    }\n",
       "\n",
       "    .dataframe thead th {\n",
       "        text-align: right;\n",
       "    }\n",
       "</style>\n",
       "<table border=\"1\" class=\"dataframe\">\n",
       "  <thead>\n",
       "    <tr style=\"text-align: right;\">\n",
       "      <th></th>\n",
       "      <th>A</th>\n",
       "      <th>B</th>\n",
       "      <th>D</th>\n",
       "    </tr>\n",
       "  </thead>\n",
       "  <tbody>\n",
       "    <tr>\n",
       "      <th>0</th>\n",
       "      <td>0.0</td>\n",
       "      <td>0.0</td>\n",
       "      <td>2009-01-01</td>\n",
       "    </tr>\n",
       "    <tr>\n",
       "      <th>1</th>\n",
       "      <td>1.0</td>\n",
       "      <td>1.0</td>\n",
       "      <td>2009-01-02</td>\n",
       "    </tr>\n",
       "    <tr>\n",
       "      <th>2</th>\n",
       "      <td>2.0</td>\n",
       "      <td>0.0</td>\n",
       "      <td>2009-01-05</td>\n",
       "    </tr>\n",
       "    <tr>\n",
       "      <th>3</th>\n",
       "      <td>3.0</td>\n",
       "      <td>1.0</td>\n",
       "      <td>2009-01-06</td>\n",
       "    </tr>\n",
       "    <tr>\n",
       "      <th>4</th>\n",
       "      <td>4.0</td>\n",
       "      <td>0.0</td>\n",
       "      <td>2009-01-07</td>\n",
       "    </tr>\n",
       "  </tbody>\n",
       "</table>\n",
       "</div>"
      ],
      "text/plain": [
       "     A    B          D\n",
       "0  0.0  0.0 2009-01-01\n",
       "1  1.0  1.0 2009-01-02\n",
       "2  2.0  0.0 2009-01-05\n",
       "3  3.0  1.0 2009-01-06\n",
       "4  4.0  0.0 2009-01-07"
      ]
     },
     "execution_count": 4,
     "metadata": {},
     "output_type": "execute_result"
    }
   ],
   "source": [
    "# Calling only numeric values in a dataframe\n",
    "df[df.describe().columns] # 1st method\n",
    "\n",
    "df[df.dtypes[df.dtypes!='object'].index] # second method with the same results\n"
   ]
  },
  {
   "cell_type": "code",
   "execution_count": 5,
   "id": "a4d9cf5a",
   "metadata": {
    "execution": {
     "iopub.execute_input": "2022-05-20T15:55:15.647000Z",
     "iopub.status.busy": "2022-05-20T15:55:15.646644Z",
     "iopub.status.idle": "2022-05-20T15:55:15.667632Z",
     "shell.execute_reply": "2022-05-20T15:55:15.666820Z"
    },
    "papermill": {
     "duration": 0.039925,
     "end_time": "2022-05-20T15:55:15.669775",
     "exception": false,
     "start_time": "2022-05-20T15:55:15.629850",
     "status": "completed"
    },
    "tags": []
   },
   "outputs": [
    {
     "data": {
      "text/html": [
       "<div>\n",
       "<style scoped>\n",
       "    .dataframe tbody tr th:only-of-type {\n",
       "        vertical-align: middle;\n",
       "    }\n",
       "\n",
       "    .dataframe tbody tr th {\n",
       "        vertical-align: top;\n",
       "    }\n",
       "\n",
       "    .dataframe thead th {\n",
       "        text-align: right;\n",
       "    }\n",
       "</style>\n",
       "<table border=\"1\" class=\"dataframe\">\n",
       "  <thead>\n",
       "    <tr style=\"text-align: right;\">\n",
       "      <th></th>\n",
       "      <th>C</th>\n",
       "      <th>D</th>\n",
       "    </tr>\n",
       "  </thead>\n",
       "  <tbody>\n",
       "    <tr>\n",
       "      <th>0</th>\n",
       "      <td>foo1</td>\n",
       "      <td>2009-01-01</td>\n",
       "    </tr>\n",
       "    <tr>\n",
       "      <th>1</th>\n",
       "      <td>foo2</td>\n",
       "      <td>2009-01-02</td>\n",
       "    </tr>\n",
       "    <tr>\n",
       "      <th>2</th>\n",
       "      <td>foo3</td>\n",
       "      <td>2009-01-05</td>\n",
       "    </tr>\n",
       "    <tr>\n",
       "      <th>3</th>\n",
       "      <td>foo4</td>\n",
       "      <td>2009-01-06</td>\n",
       "    </tr>\n",
       "    <tr>\n",
       "      <th>4</th>\n",
       "      <td>foo5</td>\n",
       "      <td>2009-01-07</td>\n",
       "    </tr>\n",
       "  </tbody>\n",
       "</table>\n",
       "</div>"
      ],
      "text/plain": [
       "      C          D\n",
       "0  foo1 2009-01-01\n",
       "1  foo2 2009-01-02\n",
       "2  foo3 2009-01-05\n",
       "3  foo4 2009-01-06\n",
       "4  foo5 2009-01-07"
      ]
     },
     "execution_count": 5,
     "metadata": {},
     "output_type": "execute_result"
    }
   ],
   "source": [
    "# calling only non numeric values in a dataframe \n",
    "df[df.dtypes[df.dtypes=='object'].index] # 1st method\n",
    "\n",
    "df[df.drop(df.describe().columns,axis=1).columns] # second method with the same results"
   ]
  },
  {
   "cell_type": "code",
   "execution_count": 6,
   "id": "bfc7e95d",
   "metadata": {
    "execution": {
     "iopub.execute_input": "2022-05-20T15:55:15.706891Z",
     "iopub.status.busy": "2022-05-20T15:55:15.706258Z",
     "iopub.status.idle": "2022-05-20T15:55:15.721258Z",
     "shell.execute_reply": "2022-05-20T15:55:15.720103Z"
    },
    "papermill": {
     "duration": 0.035459,
     "end_time": "2022-05-20T15:55:15.723481",
     "exception": false,
     "start_time": "2022-05-20T15:55:15.688022",
     "status": "completed"
    },
    "tags": []
   },
   "outputs": [
    {
     "name": "stdout",
     "output_type": "stream",
     "text": [
      "   x  y\n",
      "0  1  3\n",
      "1  2  4\n",
      "2  3  5\n",
      "       x      y\n",
      "0   True  False\n",
      "1   True  False\n",
      "2  False  False\n",
      "0    False\n",
      "1    False\n",
      "2    False\n",
      "dtype: bool\n",
      "0     True\n",
      "1     True\n",
      "2    False\n",
      "dtype: bool\n"
     ]
    }
   ],
   "source": [
    "# differene between .any() & .all() \n",
    "df2 = pd.DataFrame()\n",
    "df2['x'] = [1,2,3]\n",
    "df2['y'] = [3,4,5]\n",
    "print(df2)\n",
    "print(df2<2.5)\n",
    "print((df2< 2.5).all(axis = 1))\n",
    "print((df2 < 2.5).any(axis = 1))"
   ]
  },
  {
   "cell_type": "code",
   "execution_count": 7,
   "id": "07db84cb",
   "metadata": {
    "execution": {
     "iopub.execute_input": "2022-05-20T15:55:15.757938Z",
     "iopub.status.busy": "2022-05-20T15:55:15.757332Z",
     "iopub.status.idle": "2022-05-20T15:55:15.765042Z",
     "shell.execute_reply": "2022-05-20T15:55:15.764215Z"
    },
    "papermill": {
     "duration": 0.027691,
     "end_time": "2022-05-20T15:55:15.766966",
     "exception": false,
     "start_time": "2022-05-20T15:55:15.739275",
     "status": "completed"
    },
    "tags": []
   },
   "outputs": [
    {
     "data": {
      "text/plain": [
       "0    False\n",
       "1     True\n",
       "2     True\n",
       "3    False\n",
       "4     True\n",
       "Name: A, dtype: bool"
      ]
     },
     "execution_count": 7,
     "metadata": {},
     "output_type": "execute_result"
    }
   ],
   "source": [
    "# using in operator with dataframe\n",
    "\n",
    "df['A'].isin([1,2,4,6]) # df[column].isin(list-like)"
   ]
  },
  {
   "cell_type": "code",
   "execution_count": 8,
   "id": "368717c0",
   "metadata": {
    "execution": {
     "iopub.execute_input": "2022-05-20T15:55:15.802881Z",
     "iopub.status.busy": "2022-05-20T15:55:15.802153Z",
     "iopub.status.idle": "2022-05-20T15:55:15.810129Z",
     "shell.execute_reply": "2022-05-20T15:55:15.809465Z"
    },
    "papermill": {
     "duration": 0.029297,
     "end_time": "2022-05-20T15:55:15.812503",
     "exception": false,
     "start_time": "2022-05-20T15:55:15.783206",
     "status": "completed"
    },
    "tags": []
   },
   "outputs": [],
   "source": [
    "# Keep only columns where 65% or more valid data is available, drop the rest \n",
    "df.dropna(axis='columns', how='any', thresh=df.shape[0]*0.65, inplace=True)"
   ]
  },
  {
   "cell_type": "code",
   "execution_count": 9,
   "id": "47027103",
   "metadata": {
    "execution": {
     "iopub.execute_input": "2022-05-20T15:55:15.847910Z",
     "iopub.status.busy": "2022-05-20T15:55:15.847377Z",
     "iopub.status.idle": "2022-05-20T15:55:15.857666Z",
     "shell.execute_reply": "2022-05-20T15:55:15.856703Z"
    },
    "papermill": {
     "duration": 0.030401,
     "end_time": "2022-05-20T15:55:15.859777",
     "exception": false,
     "start_time": "2022-05-20T15:55:15.829376",
     "status": "completed"
    },
    "tags": []
   },
   "outputs": [
    {
     "data": {
      "text/plain": [
       "0    <class 'float'>\n",
       "1    <class 'float'>\n",
       "2    <class 'float'>\n",
       "3    <class 'float'>\n",
       "4    <class 'float'>\n",
       "Name: A, dtype: object"
      ]
     },
     "execution_count": 9,
     "metadata": {},
     "output_type": "execute_result"
    }
   ],
   "source": [
    "# check data type of specefic column for each cell in pandas\n",
    "df=pd.util.testing.makeMixedDataFrame()\n",
    "df['A'].apply(type)"
   ]
  },
  {
   "cell_type": "code",
   "execution_count": 10,
   "id": "942b7d92",
   "metadata": {
    "execution": {
     "iopub.execute_input": "2022-05-20T15:55:15.897102Z",
     "iopub.status.busy": "2022-05-20T15:55:15.896308Z",
     "iopub.status.idle": "2022-05-20T15:55:15.904560Z",
     "shell.execute_reply": "2022-05-20T15:55:15.903881Z"
    },
    "papermill": {
     "duration": 0.028608,
     "end_time": "2022-05-20T15:55:15.906499",
     "exception": false,
     "start_time": "2022-05-20T15:55:15.877891",
     "status": "completed"
    },
    "tags": []
   },
   "outputs": [
    {
     "data": {
      "text/plain": [
       "<class 'float'>    5\n",
       "Name: B, dtype: int64"
      ]
     },
     "execution_count": 10,
     "metadata": {},
     "output_type": "execute_result"
    }
   ],
   "source": [
    "# to know each data type of specefic column\n",
    "df['B'].apply(type).value_counts()"
   ]
  },
  {
   "cell_type": "code",
   "execution_count": 11,
   "id": "b4d71068",
   "metadata": {
    "execution": {
     "iopub.execute_input": "2022-05-20T15:55:15.942689Z",
     "iopub.status.busy": "2022-05-20T15:55:15.942143Z",
     "iopub.status.idle": "2022-05-20T15:55:15.949383Z",
     "shell.execute_reply": "2022-05-20T15:55:15.948744Z"
    },
    "papermill": {
     "duration": 0.027474,
     "end_time": "2022-05-20T15:55:15.951245",
     "exception": false,
     "start_time": "2022-05-20T15:55:15.923771",
     "status": "completed"
    },
    "tags": []
   },
   "outputs": [
    {
     "data": {
      "text/plain": [
       "0    True\n",
       "1    True\n",
       "2    True\n",
       "3    True\n",
       "4    True\n",
       "Name: A, dtype: bool"
      ]
     },
     "execution_count": 11,
     "metadata": {},
     "output_type": "execute_result"
    }
   ],
   "source": [
    "# to search for data type in specefic column that is not a certain type\n",
    "df['A'].apply(type)!= str"
   ]
  },
  {
   "cell_type": "code",
   "execution_count": 12,
   "id": "09cf5464",
   "metadata": {
    "execution": {
     "iopub.execute_input": "2022-05-20T15:55:15.988885Z",
     "iopub.status.busy": "2022-05-20T15:55:15.988285Z",
     "iopub.status.idle": "2022-05-20T15:55:15.999831Z",
     "shell.execute_reply": "2022-05-20T15:55:15.998782Z"
    },
    "papermill": {
     "duration": 0.032862,
     "end_time": "2022-05-20T15:55:16.002342",
     "exception": false,
     "start_time": "2022-05-20T15:55:15.969480",
     "status": "completed"
    },
    "tags": []
   },
   "outputs": [],
   "source": [
    "# interpolation can be for dataframe or series :\n",
    "# https://pandas.pydata.org/docs/reference/api/pandas.DataFrame.interpolate.html\n",
    "# https://pandas.pydata.org/docs/reference/api/pandas.Series.interpolate.html\n",
    "df=pd.util.testing.makeMissingDataframe()\n",
    "df['B']=df['B'].interpolate()"
   ]
  }
 ],
 "metadata": {
  "kernelspec": {
   "display_name": "Python 3",
   "language": "python",
   "name": "python3"
  },
  "language_info": {
   "codemirror_mode": {
    "name": "ipython",
    "version": 3
   },
   "file_extension": ".py",
   "mimetype": "text/x-python",
   "name": "python",
   "nbconvert_exporter": "python",
   "pygments_lexer": "ipython3",
   "version": "3.7.12"
  },
  "papermill": {
   "default_parameters": {},
   "duration": 11.879262,
   "end_time": "2022-05-20T15:55:16.641992",
   "environment_variables": {},
   "exception": null,
   "input_path": "__notebook__.ipynb",
   "output_path": "__notebook__.ipynb",
   "parameters": {},
   "start_time": "2022-05-20T15:55:04.762730",
   "version": "2.3.4"
  }
 },
 "nbformat": 4,
 "nbformat_minor": 5
}

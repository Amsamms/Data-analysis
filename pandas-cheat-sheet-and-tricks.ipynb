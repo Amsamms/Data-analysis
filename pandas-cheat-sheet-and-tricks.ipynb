{
 "cells": [
  {
   "cell_type": "code",
   "execution_count": 1,
   "id": "69a5b7ea",
   "metadata": {
    "_cell_guid": "b1076dfc-b9ad-4769-8c92-a6c4dae69d19",
    "_uuid": "8f2839f25d086af736a60e9eeb907d3b93b6e0e5",
    "execution": {
     "iopub.execute_input": "2022-05-21T05:40:23.144878Z",
     "iopub.status.busy": "2022-05-21T05:40:23.144356Z",
     "iopub.status.idle": "2022-05-21T05:40:23.154519Z",
     "shell.execute_reply": "2022-05-21T05:40:23.154089Z"
    },
    "papermill": {
     "duration": 0.031779,
     "end_time": "2022-05-21T05:40:23.156434",
     "exception": false,
     "start_time": "2022-05-21T05:40:23.124655",
     "status": "completed"
    },
    "tags": []
   },
   "outputs": [],
   "source": [
    "import pandas as pd"
   ]
  },
  {
   "cell_type": "code",
   "execution_count": 2,
   "id": "ed73cdfb",
   "metadata": {
    "execution": {
     "iopub.execute_input": "2022-05-21T05:40:23.193725Z",
     "iopub.status.busy": "2022-05-21T05:40:23.193343Z",
     "iopub.status.idle": "2022-05-21T05:40:23.227250Z",
     "shell.execute_reply": "2022-05-21T05:40:23.225735Z"
    },
    "papermill": {
     "duration": 0.05509,
     "end_time": "2022-05-21T05:40:23.229466",
     "exception": false,
     "start_time": "2022-05-21T05:40:23.174376",
     "status": "completed"
    },
    "tags": []
   },
   "outputs": [
    {
     "name": "stderr",
     "output_type": "stream",
     "text": [
      "/opt/conda/lib/python3.7/site-packages/pandas/util/__init__.py:15: FutureWarning: pandas.util.testing is deprecated. Use the functions in the public API at pandas.testing instead.\n",
      "  import pandas.util.testing\n"
     ]
    },
    {
     "data": {
      "text/html": [
       "<div>\n",
       "<style scoped>\n",
       "    .dataframe tbody tr th:only-of-type {\n",
       "        vertical-align: middle;\n",
       "    }\n",
       "\n",
       "    .dataframe tbody tr th {\n",
       "        vertical-align: top;\n",
       "    }\n",
       "\n",
       "    .dataframe thead th {\n",
       "        text-align: right;\n",
       "    }\n",
       "</style>\n",
       "<table border=\"1\" class=\"dataframe\">\n",
       "  <thead>\n",
       "    <tr style=\"text-align: right;\">\n",
       "      <th></th>\n",
       "      <th>A</th>\n",
       "      <th>B</th>\n",
       "      <th>C</th>\n",
       "      <th>D</th>\n",
       "    </tr>\n",
       "  </thead>\n",
       "  <tbody>\n",
       "    <tr>\n",
       "      <th>0</th>\n",
       "      <td>0.0</td>\n",
       "      <td>0.0</td>\n",
       "      <td>foo1</td>\n",
       "      <td>2009-01-01</td>\n",
       "    </tr>\n",
       "    <tr>\n",
       "      <th>1</th>\n",
       "      <td>1.0</td>\n",
       "      <td>1.0</td>\n",
       "      <td>foo2</td>\n",
       "      <td>2009-01-02</td>\n",
       "    </tr>\n",
       "    <tr>\n",
       "      <th>2</th>\n",
       "      <td>2.0</td>\n",
       "      <td>0.0</td>\n",
       "      <td>foo3</td>\n",
       "      <td>2009-01-05</td>\n",
       "    </tr>\n",
       "    <tr>\n",
       "      <th>3</th>\n",
       "      <td>3.0</td>\n",
       "      <td>1.0</td>\n",
       "      <td>foo4</td>\n",
       "      <td>2009-01-06</td>\n",
       "    </tr>\n",
       "    <tr>\n",
       "      <th>4</th>\n",
       "      <td>4.0</td>\n",
       "      <td>0.0</td>\n",
       "      <td>foo5</td>\n",
       "      <td>2009-01-07</td>\n",
       "    </tr>\n",
       "  </tbody>\n",
       "</table>\n",
       "</div>"
      ],
      "text/plain": [
       "     A    B     C          D\n",
       "0  0.0  0.0  foo1 2009-01-01\n",
       "1  1.0  1.0  foo2 2009-01-02\n",
       "2  2.0  0.0  foo3 2009-01-05\n",
       "3  3.0  1.0  foo4 2009-01-06\n",
       "4  4.0  0.0  foo5 2009-01-07"
      ]
     },
     "execution_count": 2,
     "metadata": {},
     "output_type": "execute_result"
    }
   ],
   "source": [
    "# Make mixed test dataframe\n",
    "df=pd.util.testing.makeMixedDataFrame()  # after (.make) you can hit tab to see other variation of creating a datafram\n",
    "df"
   ]
  },
  {
   "cell_type": "code",
   "execution_count": 3,
   "id": "265eef7d",
   "metadata": {
    "execution": {
     "iopub.execute_input": "2022-05-21T05:40:23.254813Z",
     "iopub.status.busy": "2022-05-21T05:40:23.254588Z",
     "iopub.status.idle": "2022-05-21T05:40:23.280126Z",
     "shell.execute_reply": "2022-05-21T05:40:23.279437Z"
    },
    "papermill": {
     "duration": 0.040609,
     "end_time": "2022-05-21T05:40:23.282345",
     "exception": false,
     "start_time": "2022-05-21T05:40:23.241736",
     "status": "completed"
    },
    "tags": []
   },
   "outputs": [
    {
     "data": {
      "text/html": [
       "<div>\n",
       "<style scoped>\n",
       "    .dataframe tbody tr th:only-of-type {\n",
       "        vertical-align: middle;\n",
       "    }\n",
       "\n",
       "    .dataframe tbody tr th {\n",
       "        vertical-align: top;\n",
       "    }\n",
       "\n",
       "    .dataframe thead th {\n",
       "        text-align: right;\n",
       "    }\n",
       "</style>\n",
       "<table border=\"1\" class=\"dataframe\">\n",
       "  <thead>\n",
       "    <tr style=\"text-align: right;\">\n",
       "      <th></th>\n",
       "      <th>mean</th>\n",
       "      <th>min</th>\n",
       "    </tr>\n",
       "    <tr>\n",
       "      <th>A</th>\n",
       "      <th></th>\n",
       "      <th></th>\n",
       "    </tr>\n",
       "  </thead>\n",
       "  <tbody>\n",
       "    <tr>\n",
       "      <th>0.0</th>\n",
       "      <td>0.0</td>\n",
       "      <td>0.0</td>\n",
       "    </tr>\n",
       "    <tr>\n",
       "      <th>1.0</th>\n",
       "      <td>1.0</td>\n",
       "      <td>1.0</td>\n",
       "    </tr>\n",
       "    <tr>\n",
       "      <th>2.0</th>\n",
       "      <td>0.0</td>\n",
       "      <td>0.0</td>\n",
       "    </tr>\n",
       "    <tr>\n",
       "      <th>3.0</th>\n",
       "      <td>1.0</td>\n",
       "      <td>1.0</td>\n",
       "    </tr>\n",
       "    <tr>\n",
       "      <th>4.0</th>\n",
       "      <td>0.0</td>\n",
       "      <td>0.0</td>\n",
       "    </tr>\n",
       "  </tbody>\n",
       "</table>\n",
       "</div>"
      ],
      "text/plain": [
       "     mean  min\n",
       "A             \n",
       "0.0   0.0  0.0\n",
       "1.0   1.0  1.0\n",
       "2.0   0.0  0.0\n",
       "3.0   1.0  1.0\n",
       "4.0   0.0  0.0"
      ]
     },
     "execution_count": 3,
     "metadata": {},
     "output_type": "execute_result"
    }
   ],
   "source": [
    "#groupby\n",
    "# df.grooupby ( ['column_name1', 'column_name2'], as_index=False)['column_name3','column_name4'].agg(['function1','function2'])\n",
    "df.groupby(['A'], as_index=False)['B'].agg(['mean','min'])"
   ]
  },
  {
   "cell_type": "code",
   "execution_count": 4,
   "id": "e6bdc5ad",
   "metadata": {
    "execution": {
     "iopub.execute_input": "2022-05-21T05:40:23.322130Z",
     "iopub.status.busy": "2022-05-21T05:40:23.321735Z",
     "iopub.status.idle": "2022-05-21T05:40:23.346594Z",
     "shell.execute_reply": "2022-05-21T05:40:23.346032Z"
    },
    "papermill": {
     "duration": 0.046989,
     "end_time": "2022-05-21T05:40:23.348382",
     "exception": false,
     "start_time": "2022-05-21T05:40:23.301393",
     "status": "completed"
    },
    "tags": []
   },
   "outputs": [
    {
     "data": {
      "text/html": [
       "<div>\n",
       "<style scoped>\n",
       "    .dataframe tbody tr th:only-of-type {\n",
       "        vertical-align: middle;\n",
       "    }\n",
       "\n",
       "    .dataframe tbody tr th {\n",
       "        vertical-align: top;\n",
       "    }\n",
       "\n",
       "    .dataframe thead th {\n",
       "        text-align: right;\n",
       "    }\n",
       "</style>\n",
       "<table border=\"1\" class=\"dataframe\">\n",
       "  <thead>\n",
       "    <tr style=\"text-align: right;\">\n",
       "      <th></th>\n",
       "      <th>A</th>\n",
       "      <th>B</th>\n",
       "      <th>D</th>\n",
       "    </tr>\n",
       "  </thead>\n",
       "  <tbody>\n",
       "    <tr>\n",
       "      <th>0</th>\n",
       "      <td>0.0</td>\n",
       "      <td>0.0</td>\n",
       "      <td>2009-01-01</td>\n",
       "    </tr>\n",
       "    <tr>\n",
       "      <th>1</th>\n",
       "      <td>1.0</td>\n",
       "      <td>1.0</td>\n",
       "      <td>2009-01-02</td>\n",
       "    </tr>\n",
       "    <tr>\n",
       "      <th>2</th>\n",
       "      <td>2.0</td>\n",
       "      <td>0.0</td>\n",
       "      <td>2009-01-05</td>\n",
       "    </tr>\n",
       "    <tr>\n",
       "      <th>3</th>\n",
       "      <td>3.0</td>\n",
       "      <td>1.0</td>\n",
       "      <td>2009-01-06</td>\n",
       "    </tr>\n",
       "    <tr>\n",
       "      <th>4</th>\n",
       "      <td>4.0</td>\n",
       "      <td>0.0</td>\n",
       "      <td>2009-01-07</td>\n",
       "    </tr>\n",
       "  </tbody>\n",
       "</table>\n",
       "</div>"
      ],
      "text/plain": [
       "     A    B          D\n",
       "0  0.0  0.0 2009-01-01\n",
       "1  1.0  1.0 2009-01-02\n",
       "2  2.0  0.0 2009-01-05\n",
       "3  3.0  1.0 2009-01-06\n",
       "4  4.0  0.0 2009-01-07"
      ]
     },
     "execution_count": 4,
     "metadata": {},
     "output_type": "execute_result"
    }
   ],
   "source": [
    "# Calling only numeric values in a dataframe\n",
    "df[df.describe().columns] # 1st method\n",
    "\n",
    "df[df.dtypes[df.dtypes!='object'].index] # second method with the same results\n"
   ]
  },
  {
   "cell_type": "code",
   "execution_count": 5,
   "id": "275b9008",
   "metadata": {
    "execution": {
     "iopub.execute_input": "2022-05-21T05:40:23.388878Z",
     "iopub.status.busy": "2022-05-21T05:40:23.388130Z",
     "iopub.status.idle": "2022-05-21T05:40:23.406421Z",
     "shell.execute_reply": "2022-05-21T05:40:23.405558Z"
    },
    "papermill": {
     "duration": 0.041109,
     "end_time": "2022-05-21T05:40:23.408761",
     "exception": false,
     "start_time": "2022-05-21T05:40:23.367652",
     "status": "completed"
    },
    "tags": []
   },
   "outputs": [
    {
     "data": {
      "text/html": [
       "<div>\n",
       "<style scoped>\n",
       "    .dataframe tbody tr th:only-of-type {\n",
       "        vertical-align: middle;\n",
       "    }\n",
       "\n",
       "    .dataframe tbody tr th {\n",
       "        vertical-align: top;\n",
       "    }\n",
       "\n",
       "    .dataframe thead th {\n",
       "        text-align: right;\n",
       "    }\n",
       "</style>\n",
       "<table border=\"1\" class=\"dataframe\">\n",
       "  <thead>\n",
       "    <tr style=\"text-align: right;\">\n",
       "      <th></th>\n",
       "      <th>C</th>\n",
       "      <th>D</th>\n",
       "    </tr>\n",
       "  </thead>\n",
       "  <tbody>\n",
       "    <tr>\n",
       "      <th>0</th>\n",
       "      <td>foo1</td>\n",
       "      <td>2009-01-01</td>\n",
       "    </tr>\n",
       "    <tr>\n",
       "      <th>1</th>\n",
       "      <td>foo2</td>\n",
       "      <td>2009-01-02</td>\n",
       "    </tr>\n",
       "    <tr>\n",
       "      <th>2</th>\n",
       "      <td>foo3</td>\n",
       "      <td>2009-01-05</td>\n",
       "    </tr>\n",
       "    <tr>\n",
       "      <th>3</th>\n",
       "      <td>foo4</td>\n",
       "      <td>2009-01-06</td>\n",
       "    </tr>\n",
       "    <tr>\n",
       "      <th>4</th>\n",
       "      <td>foo5</td>\n",
       "      <td>2009-01-07</td>\n",
       "    </tr>\n",
       "  </tbody>\n",
       "</table>\n",
       "</div>"
      ],
      "text/plain": [
       "      C          D\n",
       "0  foo1 2009-01-01\n",
       "1  foo2 2009-01-02\n",
       "2  foo3 2009-01-05\n",
       "3  foo4 2009-01-06\n",
       "4  foo5 2009-01-07"
      ]
     },
     "execution_count": 5,
     "metadata": {},
     "output_type": "execute_result"
    }
   ],
   "source": [
    "# calling only non numeric values in a dataframe \n",
    "df[df.dtypes[df.dtypes=='object'].index] # 1st method\n",
    "\n",
    "df[df.drop(df.describe().columns,axis=1).columns] # second method with the same results"
   ]
  },
  {
   "cell_type": "code",
   "execution_count": 6,
   "id": "50e00e1c",
   "metadata": {
    "execution": {
     "iopub.execute_input": "2022-05-21T05:40:23.451876Z",
     "iopub.status.busy": "2022-05-21T05:40:23.450837Z",
     "iopub.status.idle": "2022-05-21T05:40:23.466384Z",
     "shell.execute_reply": "2022-05-21T05:40:23.465058Z"
    },
    "papermill": {
     "duration": 0.038985,
     "end_time": "2022-05-21T05:40:23.468316",
     "exception": false,
     "start_time": "2022-05-21T05:40:23.429331",
     "status": "completed"
    },
    "tags": []
   },
   "outputs": [
    {
     "name": "stdout",
     "output_type": "stream",
     "text": [
      "   x  y\n",
      "0  1  3\n",
      "1  2  4\n",
      "2  3  5\n",
      "       x      y\n",
      "0   True  False\n",
      "1   True  False\n",
      "2  False  False\n",
      "0    False\n",
      "1    False\n",
      "2    False\n",
      "dtype: bool\n",
      "0     True\n",
      "1     True\n",
      "2    False\n",
      "dtype: bool\n"
     ]
    }
   ],
   "source": [
    "# differene between .any() & .all() \n",
    "df2 = pd.DataFrame()\n",
    "df2['x'] = [1,2,3]\n",
    "df2['y'] = [3,4,5]\n",
    "print(df2)\n",
    "print(df2<2.5)\n",
    "print((df2< 2.5).all(axis = 1))\n",
    "print((df2 < 2.5).any(axis = 1))"
   ]
  },
  {
   "cell_type": "code",
   "execution_count": 7,
   "id": "a3bc7285",
   "metadata": {
    "execution": {
     "iopub.execute_input": "2022-05-21T05:40:23.511328Z",
     "iopub.status.busy": "2022-05-21T05:40:23.510243Z",
     "iopub.status.idle": "2022-05-21T05:40:23.518924Z",
     "shell.execute_reply": "2022-05-21T05:40:23.517679Z"
    },
    "papermill": {
     "duration": 0.033177,
     "end_time": "2022-05-21T05:40:23.521747",
     "exception": false,
     "start_time": "2022-05-21T05:40:23.488570",
     "status": "completed"
    },
    "tags": []
   },
   "outputs": [
    {
     "data": {
      "text/plain": [
       "0    False\n",
       "1     True\n",
       "2     True\n",
       "3    False\n",
       "4     True\n",
       "Name: A, dtype: bool"
      ]
     },
     "execution_count": 7,
     "metadata": {},
     "output_type": "execute_result"
    }
   ],
   "source": [
    "# using in operator with dataframe\n",
    "\n",
    "df['A'].isin([1,2,4,6]) # df[column].isin(list-like)"
   ]
  },
  {
   "cell_type": "code",
   "execution_count": 8,
   "id": "069999be",
   "metadata": {
    "execution": {
     "iopub.execute_input": "2022-05-21T05:40:23.566035Z",
     "iopub.status.busy": "2022-05-21T05:40:23.565778Z",
     "iopub.status.idle": "2022-05-21T05:40:23.572292Z",
     "shell.execute_reply": "2022-05-21T05:40:23.571534Z"
    },
    "papermill": {
     "duration": 0.031384,
     "end_time": "2022-05-21T05:40:23.574453",
     "exception": false,
     "start_time": "2022-05-21T05:40:23.543069",
     "status": "completed"
    },
    "tags": []
   },
   "outputs": [],
   "source": [
    "# Keep only columns where 65% or more valid data is available, drop the rest \n",
    "df.dropna(axis='columns', how='any', thresh=df.shape[0]*0.65, inplace=True)"
   ]
  },
  {
   "cell_type": "code",
   "execution_count": 9,
   "id": "1fd448ba",
   "metadata": {
    "execution": {
     "iopub.execute_input": "2022-05-21T05:40:23.619533Z",
     "iopub.status.busy": "2022-05-21T05:40:23.619242Z",
     "iopub.status.idle": "2022-05-21T05:40:23.629017Z",
     "shell.execute_reply": "2022-05-21T05:40:23.628325Z"
    },
    "papermill": {
     "duration": 0.035335,
     "end_time": "2022-05-21T05:40:23.630929",
     "exception": false,
     "start_time": "2022-05-21T05:40:23.595594",
     "status": "completed"
    },
    "tags": []
   },
   "outputs": [
    {
     "data": {
      "text/plain": [
       "0    <class 'float'>\n",
       "1    <class 'float'>\n",
       "2    <class 'float'>\n",
       "3    <class 'float'>\n",
       "4    <class 'float'>\n",
       "Name: A, dtype: object"
      ]
     },
     "execution_count": 9,
     "metadata": {},
     "output_type": "execute_result"
    }
   ],
   "source": [
    "# check data type of specefic column for each cell in pandas\n",
    "df=pd.util.testing.makeMixedDataFrame()\n",
    "df['A'].apply(type)"
   ]
  },
  {
   "cell_type": "code",
   "execution_count": 10,
   "id": "cb527bcc",
   "metadata": {
    "execution": {
     "iopub.execute_input": "2022-05-21T05:40:23.675463Z",
     "iopub.status.busy": "2022-05-21T05:40:23.675276Z",
     "iopub.status.idle": "2022-05-21T05:40:23.681857Z",
     "shell.execute_reply": "2022-05-21T05:40:23.680855Z"
    },
    "papermill": {
     "duration": 0.032038,
     "end_time": "2022-05-21T05:40:23.684604",
     "exception": false,
     "start_time": "2022-05-21T05:40:23.652566",
     "status": "completed"
    },
    "tags": []
   },
   "outputs": [
    {
     "data": {
      "text/plain": [
       "<class 'float'>    5\n",
       "Name: B, dtype: int64"
      ]
     },
     "execution_count": 10,
     "metadata": {},
     "output_type": "execute_result"
    }
   ],
   "source": [
    "# to know each data type of specefic column\n",
    "df['B'].apply(type).value_counts()"
   ]
  },
  {
   "cell_type": "code",
   "execution_count": 11,
   "id": "cd267f51",
   "metadata": {
    "execution": {
     "iopub.execute_input": "2022-05-21T05:40:23.729548Z",
     "iopub.status.busy": "2022-05-21T05:40:23.729337Z",
     "iopub.status.idle": "2022-05-21T05:40:23.735244Z",
     "shell.execute_reply": "2022-05-21T05:40:23.734710Z"
    },
    "papermill": {
     "duration": 0.031017,
     "end_time": "2022-05-21T05:40:23.737625",
     "exception": false,
     "start_time": "2022-05-21T05:40:23.706608",
     "status": "completed"
    },
    "tags": []
   },
   "outputs": [
    {
     "data": {
      "text/plain": [
       "0    True\n",
       "1    True\n",
       "2    True\n",
       "3    True\n",
       "4    True\n",
       "Name: A, dtype: bool"
      ]
     },
     "execution_count": 11,
     "metadata": {},
     "output_type": "execute_result"
    }
   ],
   "source": [
    "# to search for data type in specefic column that is not a certain type\n",
    "df['A'].apply(type)!= str"
   ]
  },
  {
   "cell_type": "code",
   "execution_count": 12,
   "id": "2e909998",
   "metadata": {
    "execution": {
     "iopub.execute_input": "2022-05-21T05:40:23.785182Z",
     "iopub.status.busy": "2022-05-21T05:40:23.784888Z",
     "iopub.status.idle": "2022-05-21T05:40:23.794876Z",
     "shell.execute_reply": "2022-05-21T05:40:23.794213Z"
    },
    "papermill": {
     "duration": 0.036329,
     "end_time": "2022-05-21T05:40:23.797108",
     "exception": false,
     "start_time": "2022-05-21T05:40:23.760779",
     "status": "completed"
    },
    "tags": []
   },
   "outputs": [],
   "source": [
    "# interpolation can be for dataframe or series :\n",
    "# https://pandas.pydata.org/docs/reference/api/pandas.DataFrame.interpolate.html\n",
    "# https://pandas.pydata.org/docs/reference/api/pandas.Series.interpolate.html\n",
    "df=pd.util.testing.makeMissingDataframe()\n",
    "df['B']=df['B'].interpolate()"
   ]
  },
  {
   "cell_type": "code",
   "execution_count": 13,
   "id": "2708645c",
   "metadata": {
    "execution": {
     "iopub.execute_input": "2022-05-21T05:40:23.845450Z",
     "iopub.status.busy": "2022-05-21T05:40:23.845199Z",
     "iopub.status.idle": "2022-05-21T05:40:23.852521Z",
     "shell.execute_reply": "2022-05-21T05:40:23.851985Z"
    },
    "papermill": {
     "duration": 0.033353,
     "end_time": "2022-05-21T05:40:23.854481",
     "exception": false,
     "start_time": "2022-05-21T05:40:23.821128",
     "status": "completed"
    },
    "tags": []
   },
   "outputs": [],
   "source": [
    "# apply function to multiple columns:\n",
    "df=pd.util.testing.makeDataFrame()\n",
    "# df[new_column]=df.apply(lambda x : function(x[col1],x[col2],..), axis=1)\n",
    "df['H']=df.apply(lambda x : (x['A']+x['B']-x['C']), axis=1)"
   ]
  }
 ],
 "metadata": {
  "kernelspec": {
   "display_name": "Python 3",
   "language": "python",
   "name": "python3"
  },
  "language_info": {
   "codemirror_mode": {
    "name": "ipython",
    "version": 3
   },
   "file_extension": ".py",
   "mimetype": "text/x-python",
   "name": "python",
   "nbconvert_exporter": "python",
   "pygments_lexer": "ipython3",
   "version": "3.7.12"
  },
  "papermill": {
   "default_parameters": {},
   "duration": 12.323085,
   "end_time": "2022-05-21T05:40:24.700863",
   "environment_variables": {},
   "exception": null,
   "input_path": "__notebook__.ipynb",
   "output_path": "__notebook__.ipynb",
   "parameters": {},
   "start_time": "2022-05-21T05:40:12.377778",
   "version": "2.3.4"
  }
 },
 "nbformat": 4,
 "nbformat_minor": 5
}

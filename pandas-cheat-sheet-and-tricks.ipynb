{
 "cells": [
  {
   "cell_type": "code",
   "execution_count": 1,
   "id": "116cd1e5",
   "metadata": {
    "_cell_guid": "b1076dfc-b9ad-4769-8c92-a6c4dae69d19",
    "_uuid": "8f2839f25d086af736a60e9eeb907d3b93b6e0e5",
    "execution": {
     "iopub.execute_input": "2022-05-19T15:21:14.384568Z",
     "iopub.status.busy": "2022-05-19T15:21:14.384064Z",
     "iopub.status.idle": "2022-05-19T15:21:14.397712Z",
     "shell.execute_reply": "2022-05-19T15:21:14.396710Z"
    },
    "papermill": {
     "duration": 0.03235,
     "end_time": "2022-05-19T15:21:14.400097",
     "exception": false,
     "start_time": "2022-05-19T15:21:14.367747",
     "status": "completed"
    },
    "tags": []
   },
   "outputs": [],
   "source": [
    "import pandas as pd"
   ]
  },
  {
   "cell_type": "code",
   "execution_count": 2,
   "id": "795aabd7",
   "metadata": {
    "execution": {
     "iopub.execute_input": "2022-05-19T15:21:14.428702Z",
     "iopub.status.busy": "2022-05-19T15:21:14.428342Z",
     "iopub.status.idle": "2022-05-19T15:21:14.463220Z",
     "shell.execute_reply": "2022-05-19T15:21:14.461768Z"
    },
    "papermill": {
     "duration": 0.052066,
     "end_time": "2022-05-19T15:21:14.465674",
     "exception": false,
     "start_time": "2022-05-19T15:21:14.413608",
     "status": "completed"
    },
    "tags": []
   },
   "outputs": [
    {
     "name": "stderr",
     "output_type": "stream",
     "text": [
      "/opt/conda/lib/python3.7/site-packages/pandas/util/__init__.py:15: FutureWarning: pandas.util.testing is deprecated. Use the functions in the public API at pandas.testing instead.\n",
      "  import pandas.util.testing\n"
     ]
    },
    {
     "data": {
      "text/html": [
       "<div>\n",
       "<style scoped>\n",
       "    .dataframe tbody tr th:only-of-type {\n",
       "        vertical-align: middle;\n",
       "    }\n",
       "\n",
       "    .dataframe tbody tr th {\n",
       "        vertical-align: top;\n",
       "    }\n",
       "\n",
       "    .dataframe thead th {\n",
       "        text-align: right;\n",
       "    }\n",
       "</style>\n",
       "<table border=\"1\" class=\"dataframe\">\n",
       "  <thead>\n",
       "    <tr style=\"text-align: right;\">\n",
       "      <th></th>\n",
       "      <th>A</th>\n",
       "      <th>B</th>\n",
       "      <th>C</th>\n",
       "      <th>D</th>\n",
       "    </tr>\n",
       "  </thead>\n",
       "  <tbody>\n",
       "    <tr>\n",
       "      <th>0</th>\n",
       "      <td>0.0</td>\n",
       "      <td>0.0</td>\n",
       "      <td>foo1</td>\n",
       "      <td>2009-01-01</td>\n",
       "    </tr>\n",
       "    <tr>\n",
       "      <th>1</th>\n",
       "      <td>1.0</td>\n",
       "      <td>1.0</td>\n",
       "      <td>foo2</td>\n",
       "      <td>2009-01-02</td>\n",
       "    </tr>\n",
       "    <tr>\n",
       "      <th>2</th>\n",
       "      <td>2.0</td>\n",
       "      <td>0.0</td>\n",
       "      <td>foo3</td>\n",
       "      <td>2009-01-05</td>\n",
       "    </tr>\n",
       "    <tr>\n",
       "      <th>3</th>\n",
       "      <td>3.0</td>\n",
       "      <td>1.0</td>\n",
       "      <td>foo4</td>\n",
       "      <td>2009-01-06</td>\n",
       "    </tr>\n",
       "    <tr>\n",
       "      <th>4</th>\n",
       "      <td>4.0</td>\n",
       "      <td>0.0</td>\n",
       "      <td>foo5</td>\n",
       "      <td>2009-01-07</td>\n",
       "    </tr>\n",
       "  </tbody>\n",
       "</table>\n",
       "</div>"
      ],
      "text/plain": [
       "     A    B     C          D\n",
       "0  0.0  0.0  foo1 2009-01-01\n",
       "1  1.0  1.0  foo2 2009-01-02\n",
       "2  2.0  0.0  foo3 2009-01-05\n",
       "3  3.0  1.0  foo4 2009-01-06\n",
       "4  4.0  0.0  foo5 2009-01-07"
      ]
     },
     "execution_count": 2,
     "metadata": {},
     "output_type": "execute_result"
    }
   ],
   "source": [
    "# Make mixed test dataframe\n",
    "df=pd.util.testing.makeMixedDataFrame()  # after (.make) you can hit tab to see other variation of creating a datafram\n",
    "df"
   ]
  },
  {
   "cell_type": "code",
   "execution_count": 3,
   "id": "89919584",
   "metadata": {
    "execution": {
     "iopub.execute_input": "2022-05-19T15:21:14.497145Z",
     "iopub.status.busy": "2022-05-19T15:21:14.496333Z",
     "iopub.status.idle": "2022-05-19T15:21:14.523350Z",
     "shell.execute_reply": "2022-05-19T15:21:14.522464Z"
    },
    "papermill": {
     "duration": 0.049887,
     "end_time": "2022-05-19T15:21:14.530127",
     "exception": false,
     "start_time": "2022-05-19T15:21:14.480240",
     "status": "completed"
    },
    "tags": []
   },
   "outputs": [
    {
     "data": {
      "text/html": [
       "<div>\n",
       "<style scoped>\n",
       "    .dataframe tbody tr th:only-of-type {\n",
       "        vertical-align: middle;\n",
       "    }\n",
       "\n",
       "    .dataframe tbody tr th {\n",
       "        vertical-align: top;\n",
       "    }\n",
       "\n",
       "    .dataframe thead th {\n",
       "        text-align: right;\n",
       "    }\n",
       "</style>\n",
       "<table border=\"1\" class=\"dataframe\">\n",
       "  <thead>\n",
       "    <tr style=\"text-align: right;\">\n",
       "      <th></th>\n",
       "      <th>mean</th>\n",
       "      <th>min</th>\n",
       "    </tr>\n",
       "    <tr>\n",
       "      <th>A</th>\n",
       "      <th></th>\n",
       "      <th></th>\n",
       "    </tr>\n",
       "  </thead>\n",
       "  <tbody>\n",
       "    <tr>\n",
       "      <th>0.0</th>\n",
       "      <td>0.0</td>\n",
       "      <td>0.0</td>\n",
       "    </tr>\n",
       "    <tr>\n",
       "      <th>1.0</th>\n",
       "      <td>1.0</td>\n",
       "      <td>1.0</td>\n",
       "    </tr>\n",
       "    <tr>\n",
       "      <th>2.0</th>\n",
       "      <td>0.0</td>\n",
       "      <td>0.0</td>\n",
       "    </tr>\n",
       "    <tr>\n",
       "      <th>3.0</th>\n",
       "      <td>1.0</td>\n",
       "      <td>1.0</td>\n",
       "    </tr>\n",
       "    <tr>\n",
       "      <th>4.0</th>\n",
       "      <td>0.0</td>\n",
       "      <td>0.0</td>\n",
       "    </tr>\n",
       "  </tbody>\n",
       "</table>\n",
       "</div>"
      ],
      "text/plain": [
       "     mean  min\n",
       "A             \n",
       "0.0   0.0  0.0\n",
       "1.0   1.0  1.0\n",
       "2.0   0.0  0.0\n",
       "3.0   1.0  1.0\n",
       "4.0   0.0  0.0"
      ]
     },
     "execution_count": 3,
     "metadata": {},
     "output_type": "execute_result"
    }
   ],
   "source": [
    "#groupby\n",
    "# df.grooupby ( ['column_name1', 'column_name2'], as_index=False)['column_name3','column_name4'].agg(['function1','function2'])\n",
    "df.groupby(['A'], as_index=False)['B'].agg(['mean','min'])"
   ]
  },
  {
   "cell_type": "code",
   "execution_count": 4,
   "id": "a298aa83",
   "metadata": {
    "execution": {
     "iopub.execute_input": "2022-05-19T15:21:14.564337Z",
     "iopub.status.busy": "2022-05-19T15:21:14.564005Z",
     "iopub.status.idle": "2022-05-19T15:21:14.590325Z",
     "shell.execute_reply": "2022-05-19T15:21:14.589440Z"
    },
    "papermill": {
     "duration": 0.045588,
     "end_time": "2022-05-19T15:21:14.592922",
     "exception": false,
     "start_time": "2022-05-19T15:21:14.547334",
     "status": "completed"
    },
    "tags": []
   },
   "outputs": [
    {
     "data": {
      "text/html": [
       "<div>\n",
       "<style scoped>\n",
       "    .dataframe tbody tr th:only-of-type {\n",
       "        vertical-align: middle;\n",
       "    }\n",
       "\n",
       "    .dataframe tbody tr th {\n",
       "        vertical-align: top;\n",
       "    }\n",
       "\n",
       "    .dataframe thead th {\n",
       "        text-align: right;\n",
       "    }\n",
       "</style>\n",
       "<table border=\"1\" class=\"dataframe\">\n",
       "  <thead>\n",
       "    <tr style=\"text-align: right;\">\n",
       "      <th></th>\n",
       "      <th>A</th>\n",
       "      <th>B</th>\n",
       "      <th>D</th>\n",
       "    </tr>\n",
       "  </thead>\n",
       "  <tbody>\n",
       "    <tr>\n",
       "      <th>0</th>\n",
       "      <td>0.0</td>\n",
       "      <td>0.0</td>\n",
       "      <td>2009-01-01</td>\n",
       "    </tr>\n",
       "    <tr>\n",
       "      <th>1</th>\n",
       "      <td>1.0</td>\n",
       "      <td>1.0</td>\n",
       "      <td>2009-01-02</td>\n",
       "    </tr>\n",
       "    <tr>\n",
       "      <th>2</th>\n",
       "      <td>2.0</td>\n",
       "      <td>0.0</td>\n",
       "      <td>2009-01-05</td>\n",
       "    </tr>\n",
       "    <tr>\n",
       "      <th>3</th>\n",
       "      <td>3.0</td>\n",
       "      <td>1.0</td>\n",
       "      <td>2009-01-06</td>\n",
       "    </tr>\n",
       "    <tr>\n",
       "      <th>4</th>\n",
       "      <td>4.0</td>\n",
       "      <td>0.0</td>\n",
       "      <td>2009-01-07</td>\n",
       "    </tr>\n",
       "  </tbody>\n",
       "</table>\n",
       "</div>"
      ],
      "text/plain": [
       "     A    B          D\n",
       "0  0.0  0.0 2009-01-01\n",
       "1  1.0  1.0 2009-01-02\n",
       "2  2.0  0.0 2009-01-05\n",
       "3  3.0  1.0 2009-01-06\n",
       "4  4.0  0.0 2009-01-07"
      ]
     },
     "execution_count": 4,
     "metadata": {},
     "output_type": "execute_result"
    }
   ],
   "source": [
    "# Calling only numeric values in a dataframe\n",
    "df[df.describe().columns] # 1st method\n",
    "\n",
    "df[df.dtypes[df.dtypes!='object'].index] # second method with the same results\n"
   ]
  },
  {
   "cell_type": "code",
   "execution_count": 5,
   "id": "6285c6a8",
   "metadata": {
    "execution": {
     "iopub.execute_input": "2022-05-19T15:21:14.627566Z",
     "iopub.status.busy": "2022-05-19T15:21:14.627299Z",
     "iopub.status.idle": "2022-05-19T15:21:14.645066Z",
     "shell.execute_reply": "2022-05-19T15:21:14.644354Z"
    },
    "papermill": {
     "duration": 0.037575,
     "end_time": "2022-05-19T15:21:14.647722",
     "exception": false,
     "start_time": "2022-05-19T15:21:14.610147",
     "status": "completed"
    },
    "tags": []
   },
   "outputs": [
    {
     "data": {
      "text/html": [
       "<div>\n",
       "<style scoped>\n",
       "    .dataframe tbody tr th:only-of-type {\n",
       "        vertical-align: middle;\n",
       "    }\n",
       "\n",
       "    .dataframe tbody tr th {\n",
       "        vertical-align: top;\n",
       "    }\n",
       "\n",
       "    .dataframe thead th {\n",
       "        text-align: right;\n",
       "    }\n",
       "</style>\n",
       "<table border=\"1\" class=\"dataframe\">\n",
       "  <thead>\n",
       "    <tr style=\"text-align: right;\">\n",
       "      <th></th>\n",
       "      <th>C</th>\n",
       "      <th>D</th>\n",
       "    </tr>\n",
       "  </thead>\n",
       "  <tbody>\n",
       "    <tr>\n",
       "      <th>0</th>\n",
       "      <td>foo1</td>\n",
       "      <td>2009-01-01</td>\n",
       "    </tr>\n",
       "    <tr>\n",
       "      <th>1</th>\n",
       "      <td>foo2</td>\n",
       "      <td>2009-01-02</td>\n",
       "    </tr>\n",
       "    <tr>\n",
       "      <th>2</th>\n",
       "      <td>foo3</td>\n",
       "      <td>2009-01-05</td>\n",
       "    </tr>\n",
       "    <tr>\n",
       "      <th>3</th>\n",
       "      <td>foo4</td>\n",
       "      <td>2009-01-06</td>\n",
       "    </tr>\n",
       "    <tr>\n",
       "      <th>4</th>\n",
       "      <td>foo5</td>\n",
       "      <td>2009-01-07</td>\n",
       "    </tr>\n",
       "  </tbody>\n",
       "</table>\n",
       "</div>"
      ],
      "text/plain": [
       "      C          D\n",
       "0  foo1 2009-01-01\n",
       "1  foo2 2009-01-02\n",
       "2  foo3 2009-01-05\n",
       "3  foo4 2009-01-06\n",
       "4  foo5 2009-01-07"
      ]
     },
     "execution_count": 5,
     "metadata": {},
     "output_type": "execute_result"
    }
   ],
   "source": [
    "# calling only non numeric values in a dataframe \n",
    "df[df.dtypes[df.dtypes=='object'].index] # 1st method\n",
    "\n",
    "df[df.drop(df.describe().columns,axis=1).columns] # second method with the same results"
   ]
  },
  {
   "cell_type": "code",
   "execution_count": 6,
   "id": "cb582194",
   "metadata": {
    "execution": {
     "iopub.execute_input": "2022-05-19T15:21:14.685408Z",
     "iopub.status.busy": "2022-05-19T15:21:14.685068Z",
     "iopub.status.idle": "2022-05-19T15:21:14.699353Z",
     "shell.execute_reply": "2022-05-19T15:21:14.698678Z"
    },
    "papermill": {
     "duration": 0.037087,
     "end_time": "2022-05-19T15:21:14.702778",
     "exception": false,
     "start_time": "2022-05-19T15:21:14.665691",
     "status": "completed"
    },
    "tags": []
   },
   "outputs": [
    {
     "name": "stdout",
     "output_type": "stream",
     "text": [
      "   x  y\n",
      "0  1  3\n",
      "1  2  4\n",
      "2  3  5\n",
      "       x      y\n",
      "0   True  False\n",
      "1   True  False\n",
      "2  False  False\n",
      "0    False\n",
      "1    False\n",
      "2    False\n",
      "dtype: bool\n",
      "0     True\n",
      "1     True\n",
      "2    False\n",
      "dtype: bool\n"
     ]
    }
   ],
   "source": [
    "# differene between .any() & .all() \n",
    "df2 = pd.DataFrame()\n",
    "df2['x'] = [1,2,3]\n",
    "df2['y'] = [3,4,5]\n",
    "print(df2)\n",
    "print(df2<2.5)\n",
    "print((df2< 2.5).all(axis = 1))\n",
    "print((df2 < 2.5).any(axis = 1))"
   ]
  },
  {
   "cell_type": "code",
   "execution_count": 7,
   "id": "97c4d467",
   "metadata": {
    "execution": {
     "iopub.execute_input": "2022-05-19T15:21:14.738898Z",
     "iopub.status.busy": "2022-05-19T15:21:14.738617Z",
     "iopub.status.idle": "2022-05-19T15:21:14.745165Z",
     "shell.execute_reply": "2022-05-19T15:21:14.744518Z"
    },
    "papermill": {
     "duration": 0.028577,
     "end_time": "2022-05-19T15:21:14.747867",
     "exception": false,
     "start_time": "2022-05-19T15:21:14.719290",
     "status": "completed"
    },
    "tags": []
   },
   "outputs": [
    {
     "data": {
      "text/plain": [
       "0    False\n",
       "1     True\n",
       "2     True\n",
       "3    False\n",
       "4     True\n",
       "Name: A, dtype: bool"
      ]
     },
     "execution_count": 7,
     "metadata": {},
     "output_type": "execute_result"
    }
   ],
   "source": [
    "# using in operator with dataframe\n",
    "\n",
    "df['A'].isin([1,2,4,6]) # df[column].isin(list-like)"
   ]
  },
  {
   "cell_type": "code",
   "execution_count": 8,
   "id": "065163e3",
   "metadata": {
    "execution": {
     "iopub.execute_input": "2022-05-19T15:21:14.784273Z",
     "iopub.status.busy": "2022-05-19T15:21:14.783981Z",
     "iopub.status.idle": "2022-05-19T15:21:14.792739Z",
     "shell.execute_reply": "2022-05-19T15:21:14.791553Z"
    },
    "papermill": {
     "duration": 0.030461,
     "end_time": "2022-05-19T15:21:14.795283",
     "exception": false,
     "start_time": "2022-05-19T15:21:14.764822",
     "status": "completed"
    },
    "tags": []
   },
   "outputs": [],
   "source": [
    "# Keep only columns where 65% or more valid data is available, drop the rest \n",
    "df.dropna(axis='columns', how='any', thresh=df.shape[0]*0.65, inplace=True)"
   ]
  },
  {
   "cell_type": "code",
   "execution_count": 9,
   "id": "a5d88651",
   "metadata": {
    "execution": {
     "iopub.execute_input": "2022-05-19T15:21:14.832505Z",
     "iopub.status.busy": "2022-05-19T15:21:14.832184Z",
     "iopub.status.idle": "2022-05-19T15:21:14.843390Z",
     "shell.execute_reply": "2022-05-19T15:21:14.842188Z"
    },
    "papermill": {
     "duration": 0.03262,
     "end_time": "2022-05-19T15:21:14.845790",
     "exception": false,
     "start_time": "2022-05-19T15:21:14.813170",
     "status": "completed"
    },
    "tags": []
   },
   "outputs": [
    {
     "data": {
      "text/plain": [
       "0    <class 'float'>\n",
       "1    <class 'float'>\n",
       "2    <class 'float'>\n",
       "3    <class 'float'>\n",
       "4    <class 'float'>\n",
       "Name: A, dtype: object"
      ]
     },
     "execution_count": 9,
     "metadata": {},
     "output_type": "execute_result"
    }
   ],
   "source": [
    "# check data type of specefic column for each cell in pandas\n",
    "df=pd.util.testing.makeMixedDataFrame()\n",
    "df['A'].apply(type)"
   ]
  },
  {
   "cell_type": "code",
   "execution_count": 10,
   "id": "732ccbdc",
   "metadata": {
    "execution": {
     "iopub.execute_input": "2022-05-19T15:21:14.886836Z",
     "iopub.status.busy": "2022-05-19T15:21:14.886509Z",
     "iopub.status.idle": "2022-05-19T15:21:14.898443Z",
     "shell.execute_reply": "2022-05-19T15:21:14.897361Z"
    },
    "papermill": {
     "duration": 0.034928,
     "end_time": "2022-05-19T15:21:14.900702",
     "exception": false,
     "start_time": "2022-05-19T15:21:14.865774",
     "status": "completed"
    },
    "tags": []
   },
   "outputs": [
    {
     "data": {
      "text/plain": [
       "<class 'float'>    5\n",
       "Name: B, dtype: int64"
      ]
     },
     "execution_count": 10,
     "metadata": {},
     "output_type": "execute_result"
    }
   ],
   "source": [
    "# to know each data type of specefic column\n",
    "df['B'].apply(type).value_counts()"
   ]
  },
  {
   "cell_type": "code",
   "execution_count": 11,
   "id": "3ac54bc8",
   "metadata": {
    "execution": {
     "iopub.execute_input": "2022-05-19T15:21:14.940347Z",
     "iopub.status.busy": "2022-05-19T15:21:14.939791Z",
     "iopub.status.idle": "2022-05-19T15:21:14.949116Z",
     "shell.execute_reply": "2022-05-19T15:21:14.947674Z"
    },
    "papermill": {
     "duration": 0.032695,
     "end_time": "2022-05-19T15:21:14.951721",
     "exception": false,
     "start_time": "2022-05-19T15:21:14.919026",
     "status": "completed"
    },
    "tags": []
   },
   "outputs": [
    {
     "data": {
      "text/plain": [
       "0    True\n",
       "1    True\n",
       "2    True\n",
       "3    True\n",
       "4    True\n",
       "Name: A, dtype: bool"
      ]
     },
     "execution_count": 11,
     "metadata": {},
     "output_type": "execute_result"
    }
   ],
   "source": [
    "# to search for data type in specefic column that is not a certain type\n",
    "df['A'].apply(type)!= str"
   ]
  },
  {
   "cell_type": "code",
   "execution_count": null,
   "id": "3fbb1b84",
   "metadata": {
    "papermill": {
     "duration": 0.019457,
     "end_time": "2022-05-19T15:21:14.989140",
     "exception": false,
     "start_time": "2022-05-19T15:21:14.969683",
     "status": "completed"
    },
    "tags": []
   },
   "outputs": [],
   "source": []
  }
 ],
 "metadata": {
  "kernelspec": {
   "display_name": "Python 3",
   "language": "python",
   "name": "python3"
  },
  "language_info": {
   "codemirror_mode": {
    "name": "ipython",
    "version": 3
   },
   "file_extension": ".py",
   "mimetype": "text/x-python",
   "name": "python",
   "nbconvert_exporter": "python",
   "pygments_lexer": "ipython3",
   "version": "3.7.12"
  },
  "papermill": {
   "default_parameters": {},
   "duration": 12.926924,
   "end_time": "2022-05-19T15:21:15.830472",
   "environment_variables": {},
   "exception": null,
   "input_path": "__notebook__.ipynb",
   "output_path": "__notebook__.ipynb",
   "parameters": {},
   "start_time": "2022-05-19T15:21:02.903548",
   "version": "2.3.4"
  }
 },
 "nbformat": 4,
 "nbformat_minor": 5
}

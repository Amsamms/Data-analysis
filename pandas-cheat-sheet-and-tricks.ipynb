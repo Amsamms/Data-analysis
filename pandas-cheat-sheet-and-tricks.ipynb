{
 "cells": [
  {
   "cell_type": "code",
   "execution_count": 1,
   "id": "2ff2c26e",
   "metadata": {
    "_cell_guid": "b1076dfc-b9ad-4769-8c92-a6c4dae69d19",
    "_uuid": "8f2839f25d086af736a60e9eeb907d3b93b6e0e5",
    "execution": {
     "iopub.execute_input": "2022-05-21T05:45:12.308265Z",
     "iopub.status.busy": "2022-05-21T05:45:12.307498Z",
     "iopub.status.idle": "2022-05-21T05:45:12.321578Z",
     "shell.execute_reply": "2022-05-21T05:45:12.320633Z"
    },
    "papermill": {
     "duration": 0.034967,
     "end_time": "2022-05-21T05:45:12.324245",
     "exception": false,
     "start_time": "2022-05-21T05:45:12.289278",
     "status": "completed"
    },
    "tags": []
   },
   "outputs": [],
   "source": [
    "import pandas as pd"
   ]
  },
  {
   "cell_type": "code",
   "execution_count": 2,
   "id": "3c3c356d",
   "metadata": {
    "execution": {
     "iopub.execute_input": "2022-05-21T05:45:12.355818Z",
     "iopub.status.busy": "2022-05-21T05:45:12.355497Z",
     "iopub.status.idle": "2022-05-21T05:45:12.391096Z",
     "shell.execute_reply": "2022-05-21T05:45:12.390073Z"
    },
    "papermill": {
     "duration": 0.05612,
     "end_time": "2022-05-21T05:45:12.395202",
     "exception": false,
     "start_time": "2022-05-21T05:45:12.339082",
     "status": "completed"
    },
    "tags": []
   },
   "outputs": [
    {
     "name": "stderr",
     "output_type": "stream",
     "text": [
      "/opt/conda/lib/python3.7/site-packages/pandas/util/__init__.py:15: FutureWarning: pandas.util.testing is deprecated. Use the functions in the public API at pandas.testing instead.\n",
      "  import pandas.util.testing\n"
     ]
    },
    {
     "data": {
      "text/html": [
       "<div>\n",
       "<style scoped>\n",
       "    .dataframe tbody tr th:only-of-type {\n",
       "        vertical-align: middle;\n",
       "    }\n",
       "\n",
       "    .dataframe tbody tr th {\n",
       "        vertical-align: top;\n",
       "    }\n",
       "\n",
       "    .dataframe thead th {\n",
       "        text-align: right;\n",
       "    }\n",
       "</style>\n",
       "<table border=\"1\" class=\"dataframe\">\n",
       "  <thead>\n",
       "    <tr style=\"text-align: right;\">\n",
       "      <th></th>\n",
       "      <th>A</th>\n",
       "      <th>B</th>\n",
       "      <th>C</th>\n",
       "      <th>D</th>\n",
       "    </tr>\n",
       "  </thead>\n",
       "  <tbody>\n",
       "    <tr>\n",
       "      <th>0</th>\n",
       "      <td>0.0</td>\n",
       "      <td>0.0</td>\n",
       "      <td>foo1</td>\n",
       "      <td>2009-01-01</td>\n",
       "    </tr>\n",
       "    <tr>\n",
       "      <th>1</th>\n",
       "      <td>1.0</td>\n",
       "      <td>1.0</td>\n",
       "      <td>foo2</td>\n",
       "      <td>2009-01-02</td>\n",
       "    </tr>\n",
       "    <tr>\n",
       "      <th>2</th>\n",
       "      <td>2.0</td>\n",
       "      <td>0.0</td>\n",
       "      <td>foo3</td>\n",
       "      <td>2009-01-05</td>\n",
       "    </tr>\n",
       "    <tr>\n",
       "      <th>3</th>\n",
       "      <td>3.0</td>\n",
       "      <td>1.0</td>\n",
       "      <td>foo4</td>\n",
       "      <td>2009-01-06</td>\n",
       "    </tr>\n",
       "    <tr>\n",
       "      <th>4</th>\n",
       "      <td>4.0</td>\n",
       "      <td>0.0</td>\n",
       "      <td>foo5</td>\n",
       "      <td>2009-01-07</td>\n",
       "    </tr>\n",
       "  </tbody>\n",
       "</table>\n",
       "</div>"
      ],
      "text/plain": [
       "     A    B     C          D\n",
       "0  0.0  0.0  foo1 2009-01-01\n",
       "1  1.0  1.0  foo2 2009-01-02\n",
       "2  2.0  0.0  foo3 2009-01-05\n",
       "3  3.0  1.0  foo4 2009-01-06\n",
       "4  4.0  0.0  foo5 2009-01-07"
      ]
     },
     "execution_count": 2,
     "metadata": {},
     "output_type": "execute_result"
    }
   ],
   "source": [
    "# Make mixed test dataframe\n",
    "df=pd.util.testing.makeMixedDataFrame()  # after (.make) you can hit tab to see other variation of creating a datafram\n",
    "df"
   ]
  },
  {
   "cell_type": "code",
   "execution_count": 3,
   "id": "6b51d355",
   "metadata": {
    "execution": {
     "iopub.execute_input": "2022-05-21T05:45:12.429381Z",
     "iopub.status.busy": "2022-05-21T05:45:12.428918Z",
     "iopub.status.idle": "2022-05-21T05:45:12.456720Z",
     "shell.execute_reply": "2022-05-21T05:45:12.456012Z"
    },
    "papermill": {
     "duration": 0.047913,
     "end_time": "2022-05-21T05:45:12.458755",
     "exception": false,
     "start_time": "2022-05-21T05:45:12.410842",
     "status": "completed"
    },
    "tags": []
   },
   "outputs": [
    {
     "data": {
      "text/html": [
       "<div>\n",
       "<style scoped>\n",
       "    .dataframe tbody tr th:only-of-type {\n",
       "        vertical-align: middle;\n",
       "    }\n",
       "\n",
       "    .dataframe tbody tr th {\n",
       "        vertical-align: top;\n",
       "    }\n",
       "\n",
       "    .dataframe thead th {\n",
       "        text-align: right;\n",
       "    }\n",
       "</style>\n",
       "<table border=\"1\" class=\"dataframe\">\n",
       "  <thead>\n",
       "    <tr style=\"text-align: right;\">\n",
       "      <th></th>\n",
       "      <th>mean</th>\n",
       "      <th>min</th>\n",
       "    </tr>\n",
       "    <tr>\n",
       "      <th>A</th>\n",
       "      <th></th>\n",
       "      <th></th>\n",
       "    </tr>\n",
       "  </thead>\n",
       "  <tbody>\n",
       "    <tr>\n",
       "      <th>0.0</th>\n",
       "      <td>0.0</td>\n",
       "      <td>0.0</td>\n",
       "    </tr>\n",
       "    <tr>\n",
       "      <th>1.0</th>\n",
       "      <td>1.0</td>\n",
       "      <td>1.0</td>\n",
       "    </tr>\n",
       "    <tr>\n",
       "      <th>2.0</th>\n",
       "      <td>0.0</td>\n",
       "      <td>0.0</td>\n",
       "    </tr>\n",
       "    <tr>\n",
       "      <th>3.0</th>\n",
       "      <td>1.0</td>\n",
       "      <td>1.0</td>\n",
       "    </tr>\n",
       "    <tr>\n",
       "      <th>4.0</th>\n",
       "      <td>0.0</td>\n",
       "      <td>0.0</td>\n",
       "    </tr>\n",
       "  </tbody>\n",
       "</table>\n",
       "</div>"
      ],
      "text/plain": [
       "     mean  min\n",
       "A             \n",
       "0.0   0.0  0.0\n",
       "1.0   1.0  1.0\n",
       "2.0   0.0  0.0\n",
       "3.0   1.0  1.0\n",
       "4.0   0.0  0.0"
      ]
     },
     "execution_count": 3,
     "metadata": {},
     "output_type": "execute_result"
    }
   ],
   "source": [
    "#groupby\n",
    "# df.grooupby ( ['column_name1', 'column_name2'], as_index=False)['column_name3','column_name4'].agg(['function1','function2'])\n",
    "df.groupby(['A'], as_index=False)['B'].agg(['mean','min'])"
   ]
  },
  {
   "cell_type": "code",
   "execution_count": 4,
   "id": "5725f8ad",
   "metadata": {
    "execution": {
     "iopub.execute_input": "2022-05-21T05:45:12.493210Z",
     "iopub.status.busy": "2022-05-21T05:45:12.492167Z",
     "iopub.status.idle": "2022-05-21T05:45:12.518520Z",
     "shell.execute_reply": "2022-05-21T05:45:12.517830Z"
    },
    "papermill": {
     "duration": 0.045908,
     "end_time": "2022-05-21T05:45:12.520491",
     "exception": false,
     "start_time": "2022-05-21T05:45:12.474583",
     "status": "completed"
    },
    "tags": []
   },
   "outputs": [
    {
     "data": {
      "text/html": [
       "<div>\n",
       "<style scoped>\n",
       "    .dataframe tbody tr th:only-of-type {\n",
       "        vertical-align: middle;\n",
       "    }\n",
       "\n",
       "    .dataframe tbody tr th {\n",
       "        vertical-align: top;\n",
       "    }\n",
       "\n",
       "    .dataframe thead th {\n",
       "        text-align: right;\n",
       "    }\n",
       "</style>\n",
       "<table border=\"1\" class=\"dataframe\">\n",
       "  <thead>\n",
       "    <tr style=\"text-align: right;\">\n",
       "      <th></th>\n",
       "      <th>A</th>\n",
       "      <th>B</th>\n",
       "      <th>D</th>\n",
       "    </tr>\n",
       "  </thead>\n",
       "  <tbody>\n",
       "    <tr>\n",
       "      <th>0</th>\n",
       "      <td>0.0</td>\n",
       "      <td>0.0</td>\n",
       "      <td>2009-01-01</td>\n",
       "    </tr>\n",
       "    <tr>\n",
       "      <th>1</th>\n",
       "      <td>1.0</td>\n",
       "      <td>1.0</td>\n",
       "      <td>2009-01-02</td>\n",
       "    </tr>\n",
       "    <tr>\n",
       "      <th>2</th>\n",
       "      <td>2.0</td>\n",
       "      <td>0.0</td>\n",
       "      <td>2009-01-05</td>\n",
       "    </tr>\n",
       "    <tr>\n",
       "      <th>3</th>\n",
       "      <td>3.0</td>\n",
       "      <td>1.0</td>\n",
       "      <td>2009-01-06</td>\n",
       "    </tr>\n",
       "    <tr>\n",
       "      <th>4</th>\n",
       "      <td>4.0</td>\n",
       "      <td>0.0</td>\n",
       "      <td>2009-01-07</td>\n",
       "    </tr>\n",
       "  </tbody>\n",
       "</table>\n",
       "</div>"
      ],
      "text/plain": [
       "     A    B          D\n",
       "0  0.0  0.0 2009-01-01\n",
       "1  1.0  1.0 2009-01-02\n",
       "2  2.0  0.0 2009-01-05\n",
       "3  3.0  1.0 2009-01-06\n",
       "4  4.0  0.0 2009-01-07"
      ]
     },
     "execution_count": 4,
     "metadata": {},
     "output_type": "execute_result"
    }
   ],
   "source": [
    "# Calling only numeric values in a dataframe\n",
    "df[df.describe().columns] # 1st method\n",
    "\n",
    "df[df.dtypes[df.dtypes!='object'].index] # second method with the same results\n"
   ]
  },
  {
   "cell_type": "code",
   "execution_count": 5,
   "id": "ce9f170c",
   "metadata": {
    "execution": {
     "iopub.execute_input": "2022-05-21T05:45:12.556070Z",
     "iopub.status.busy": "2022-05-21T05:45:12.555721Z",
     "iopub.status.idle": "2022-05-21T05:45:12.576396Z",
     "shell.execute_reply": "2022-05-21T05:45:12.575063Z"
    },
    "papermill": {
     "duration": 0.041548,
     "end_time": "2022-05-21T05:45:12.578556",
     "exception": false,
     "start_time": "2022-05-21T05:45:12.537008",
     "status": "completed"
    },
    "tags": []
   },
   "outputs": [
    {
     "data": {
      "text/html": [
       "<div>\n",
       "<style scoped>\n",
       "    .dataframe tbody tr th:only-of-type {\n",
       "        vertical-align: middle;\n",
       "    }\n",
       "\n",
       "    .dataframe tbody tr th {\n",
       "        vertical-align: top;\n",
       "    }\n",
       "\n",
       "    .dataframe thead th {\n",
       "        text-align: right;\n",
       "    }\n",
       "</style>\n",
       "<table border=\"1\" class=\"dataframe\">\n",
       "  <thead>\n",
       "    <tr style=\"text-align: right;\">\n",
       "      <th></th>\n",
       "      <th>C</th>\n",
       "      <th>D</th>\n",
       "    </tr>\n",
       "  </thead>\n",
       "  <tbody>\n",
       "    <tr>\n",
       "      <th>0</th>\n",
       "      <td>foo1</td>\n",
       "      <td>2009-01-01</td>\n",
       "    </tr>\n",
       "    <tr>\n",
       "      <th>1</th>\n",
       "      <td>foo2</td>\n",
       "      <td>2009-01-02</td>\n",
       "    </tr>\n",
       "    <tr>\n",
       "      <th>2</th>\n",
       "      <td>foo3</td>\n",
       "      <td>2009-01-05</td>\n",
       "    </tr>\n",
       "    <tr>\n",
       "      <th>3</th>\n",
       "      <td>foo4</td>\n",
       "      <td>2009-01-06</td>\n",
       "    </tr>\n",
       "    <tr>\n",
       "      <th>4</th>\n",
       "      <td>foo5</td>\n",
       "      <td>2009-01-07</td>\n",
       "    </tr>\n",
       "  </tbody>\n",
       "</table>\n",
       "</div>"
      ],
      "text/plain": [
       "      C          D\n",
       "0  foo1 2009-01-01\n",
       "1  foo2 2009-01-02\n",
       "2  foo3 2009-01-05\n",
       "3  foo4 2009-01-06\n",
       "4  foo5 2009-01-07"
      ]
     },
     "execution_count": 5,
     "metadata": {},
     "output_type": "execute_result"
    }
   ],
   "source": [
    "# calling only non numeric values in a dataframe \n",
    "df[df.dtypes[df.dtypes=='object'].index] # 1st method\n",
    "\n",
    "df[df.drop(df.describe().columns,axis=1).columns] # second method with the same results"
   ]
  },
  {
   "cell_type": "code",
   "execution_count": 6,
   "id": "e1a289da",
   "metadata": {
    "execution": {
     "iopub.execute_input": "2022-05-21T05:45:12.614311Z",
     "iopub.status.busy": "2022-05-21T05:45:12.613975Z",
     "iopub.status.idle": "2022-05-21T05:45:12.632659Z",
     "shell.execute_reply": "2022-05-21T05:45:12.631018Z"
    },
    "papermill": {
     "duration": 0.039151,
     "end_time": "2022-05-21T05:45:12.635042",
     "exception": false,
     "start_time": "2022-05-21T05:45:12.595891",
     "status": "completed"
    },
    "tags": []
   },
   "outputs": [
    {
     "name": "stdout",
     "output_type": "stream",
     "text": [
      "   x  y\n",
      "0  1  3\n",
      "1  2  4\n",
      "2  3  5\n",
      "       x      y\n",
      "0   True  False\n",
      "1   True  False\n",
      "2  False  False\n",
      "0    False\n",
      "1    False\n",
      "2    False\n",
      "dtype: bool\n",
      "0     True\n",
      "1     True\n",
      "2    False\n",
      "dtype: bool\n"
     ]
    }
   ],
   "source": [
    "# differene between .any() & .all() \n",
    "df2 = pd.DataFrame()\n",
    "df2['x'] = [1,2,3]\n",
    "df2['y'] = [3,4,5]\n",
    "print(df2)\n",
    "print(df2<2.5)\n",
    "print((df2< 2.5).all(axis = 1))\n",
    "print((df2 < 2.5).any(axis = 1))"
   ]
  },
  {
   "cell_type": "code",
   "execution_count": 7,
   "id": "180a4224",
   "metadata": {
    "execution": {
     "iopub.execute_input": "2022-05-21T05:45:12.673354Z",
     "iopub.status.busy": "2022-05-21T05:45:12.672948Z",
     "iopub.status.idle": "2022-05-21T05:45:12.681803Z",
     "shell.execute_reply": "2022-05-21T05:45:12.680975Z"
    },
    "papermill": {
     "duration": 0.031457,
     "end_time": "2022-05-21T05:45:12.684587",
     "exception": false,
     "start_time": "2022-05-21T05:45:12.653130",
     "status": "completed"
    },
    "tags": []
   },
   "outputs": [
    {
     "data": {
      "text/plain": [
       "0    False\n",
       "1     True\n",
       "2     True\n",
       "3    False\n",
       "4     True\n",
       "Name: A, dtype: bool"
      ]
     },
     "execution_count": 7,
     "metadata": {},
     "output_type": "execute_result"
    }
   ],
   "source": [
    "# using in operator with dataframe\n",
    "\n",
    "df['A'].isin([1,2,4,6]) # df[column].isin(list-like)"
   ]
  },
  {
   "cell_type": "code",
   "execution_count": 8,
   "id": "ef87214a",
   "metadata": {
    "execution": {
     "iopub.execute_input": "2022-05-21T05:45:12.721921Z",
     "iopub.status.busy": "2022-05-21T05:45:12.721586Z",
     "iopub.status.idle": "2022-05-21T05:45:12.728564Z",
     "shell.execute_reply": "2022-05-21T05:45:12.727861Z"
    },
    "papermill": {
     "duration": 0.028247,
     "end_time": "2022-05-21T05:45:12.730701",
     "exception": false,
     "start_time": "2022-05-21T05:45:12.702454",
     "status": "completed"
    },
    "tags": []
   },
   "outputs": [],
   "source": [
    "# Keep only columns where 65% or more valid data is available, drop the rest \n",
    "df.dropna(axis='columns', how='any', thresh=df.shape[0]*0.65, inplace=True)"
   ]
  },
  {
   "cell_type": "code",
   "execution_count": 9,
   "id": "bac5fcb6",
   "metadata": {
    "execution": {
     "iopub.execute_input": "2022-05-21T05:45:12.768846Z",
     "iopub.status.busy": "2022-05-21T05:45:12.768500Z",
     "iopub.status.idle": "2022-05-21T05:45:12.779845Z",
     "shell.execute_reply": "2022-05-21T05:45:12.778741Z"
    },
    "papermill": {
     "duration": 0.032722,
     "end_time": "2022-05-21T05:45:12.782160",
     "exception": false,
     "start_time": "2022-05-21T05:45:12.749438",
     "status": "completed"
    },
    "tags": []
   },
   "outputs": [
    {
     "data": {
      "text/plain": [
       "0    <class 'float'>\n",
       "1    <class 'float'>\n",
       "2    <class 'float'>\n",
       "3    <class 'float'>\n",
       "4    <class 'float'>\n",
       "Name: A, dtype: object"
      ]
     },
     "execution_count": 9,
     "metadata": {},
     "output_type": "execute_result"
    }
   ],
   "source": [
    "# check data type of specefic column for each cell in pandas\n",
    "df=pd.util.testing.makeMixedDataFrame()\n",
    "df['A'].apply(type)"
   ]
  },
  {
   "cell_type": "code",
   "execution_count": 10,
   "id": "826bcfce",
   "metadata": {
    "execution": {
     "iopub.execute_input": "2022-05-21T05:45:12.823044Z",
     "iopub.status.busy": "2022-05-21T05:45:12.822180Z",
     "iopub.status.idle": "2022-05-21T05:45:12.831058Z",
     "shell.execute_reply": "2022-05-21T05:45:12.830132Z"
    },
    "papermill": {
     "duration": 0.032875,
     "end_time": "2022-05-21T05:45:12.833439",
     "exception": false,
     "start_time": "2022-05-21T05:45:12.800564",
     "status": "completed"
    },
    "tags": []
   },
   "outputs": [
    {
     "data": {
      "text/plain": [
       "<class 'float'>    5\n",
       "Name: B, dtype: int64"
      ]
     },
     "execution_count": 10,
     "metadata": {},
     "output_type": "execute_result"
    }
   ],
   "source": [
    "# to know each data type of specefic column\n",
    "df['B'].apply(type).value_counts()"
   ]
  },
  {
   "cell_type": "code",
   "execution_count": 11,
   "id": "d20cba64",
   "metadata": {
    "execution": {
     "iopub.execute_input": "2022-05-21T05:45:12.873436Z",
     "iopub.status.busy": "2022-05-21T05:45:12.873154Z",
     "iopub.status.idle": "2022-05-21T05:45:12.880714Z",
     "shell.execute_reply": "2022-05-21T05:45:12.879861Z"
    },
    "papermill": {
     "duration": 0.030967,
     "end_time": "2022-05-21T05:45:12.882913",
     "exception": false,
     "start_time": "2022-05-21T05:45:12.851946",
     "status": "completed"
    },
    "tags": []
   },
   "outputs": [
    {
     "data": {
      "text/plain": [
       "0    True\n",
       "1    True\n",
       "2    True\n",
       "3    True\n",
       "4    True\n",
       "Name: A, dtype: bool"
      ]
     },
     "execution_count": 11,
     "metadata": {},
     "output_type": "execute_result"
    }
   ],
   "source": [
    "# to search for data type in specefic column that is not a certain type\n",
    "df['A'].apply(type)!= str"
   ]
  },
  {
   "cell_type": "code",
   "execution_count": 12,
   "id": "8e899efa",
   "metadata": {
    "execution": {
     "iopub.execute_input": "2022-05-21T05:45:12.923020Z",
     "iopub.status.busy": "2022-05-21T05:45:12.922342Z",
     "iopub.status.idle": "2022-05-21T05:45:12.933936Z",
     "shell.execute_reply": "2022-05-21T05:45:12.932709Z"
    },
    "papermill": {
     "duration": 0.034957,
     "end_time": "2022-05-21T05:45:12.936545",
     "exception": false,
     "start_time": "2022-05-21T05:45:12.901588",
     "status": "completed"
    },
    "tags": []
   },
   "outputs": [],
   "source": [
    "# interpolation can be for dataframe or series :\n",
    "# https://pandas.pydata.org/docs/reference/api/pandas.DataFrame.interpolate.html\n",
    "# https://pandas.pydata.org/docs/reference/api/pandas.Series.interpolate.html\n",
    "df=pd.util.testing.makeMissingDataframe()\n",
    "df['B']=df['B'].interpolate()"
   ]
  },
  {
   "cell_type": "code",
   "execution_count": 13,
   "id": "01a649a3",
   "metadata": {
    "execution": {
     "iopub.execute_input": "2022-05-21T05:45:12.978197Z",
     "iopub.status.busy": "2022-05-21T05:45:12.977891Z",
     "iopub.status.idle": "2022-05-21T05:45:13.002715Z",
     "shell.execute_reply": "2022-05-21T05:45:13.001720Z"
    },
    "papermill": {
     "duration": 0.048447,
     "end_time": "2022-05-21T05:45:13.004848",
     "exception": false,
     "start_time": "2022-05-21T05:45:12.956401",
     "status": "completed"
    },
    "tags": []
   },
   "outputs": [
    {
     "data": {
      "text/html": [
       "<div>\n",
       "<style scoped>\n",
       "    .dataframe tbody tr th:only-of-type {\n",
       "        vertical-align: middle;\n",
       "    }\n",
       "\n",
       "    .dataframe tbody tr th {\n",
       "        vertical-align: top;\n",
       "    }\n",
       "\n",
       "    .dataframe thead th {\n",
       "        text-align: right;\n",
       "    }\n",
       "</style>\n",
       "<table border=\"1\" class=\"dataframe\">\n",
       "  <thead>\n",
       "    <tr style=\"text-align: right;\">\n",
       "      <th></th>\n",
       "      <th>A</th>\n",
       "      <th>B</th>\n",
       "      <th>C</th>\n",
       "      <th>D</th>\n",
       "      <th>H</th>\n",
       "    </tr>\n",
       "  </thead>\n",
       "  <tbody>\n",
       "    <tr>\n",
       "      <th>1y91f1smEv</th>\n",
       "      <td>1.009456</td>\n",
       "      <td>1.231730</td>\n",
       "      <td>0.744715</td>\n",
       "      <td>0.831173</td>\n",
       "      <td>1.496471</td>\n",
       "    </tr>\n",
       "    <tr>\n",
       "      <th>z1UUHhjC32</th>\n",
       "      <td>-1.130069</td>\n",
       "      <td>0.657680</td>\n",
       "      <td>-1.268711</td>\n",
       "      <td>-0.040807</td>\n",
       "      <td>0.796323</td>\n",
       "    </tr>\n",
       "    <tr>\n",
       "      <th>SJ1g7LnoGF</th>\n",
       "      <td>-0.852362</td>\n",
       "      <td>0.407995</td>\n",
       "      <td>-0.424182</td>\n",
       "      <td>0.138583</td>\n",
       "      <td>-0.020184</td>\n",
       "    </tr>\n",
       "    <tr>\n",
       "      <th>jDvrIp8Icd</th>\n",
       "      <td>-1.529668</td>\n",
       "      <td>0.633611</td>\n",
       "      <td>-0.230017</td>\n",
       "      <td>0.325149</td>\n",
       "      <td>-0.666040</td>\n",
       "    </tr>\n",
       "    <tr>\n",
       "      <th>0Urjh7x9YM</th>\n",
       "      <td>0.654466</td>\n",
       "      <td>-0.190880</td>\n",
       "      <td>0.230631</td>\n",
       "      <td>1.355309</td>\n",
       "      <td>0.232955</td>\n",
       "    </tr>\n",
       "    <tr>\n",
       "      <th>pZvEkFFovn</th>\n",
       "      <td>-0.139737</td>\n",
       "      <td>-0.208493</td>\n",
       "      <td>0.445703</td>\n",
       "      <td>1.696323</td>\n",
       "      <td>-0.793933</td>\n",
       "    </tr>\n",
       "    <tr>\n",
       "      <th>HvAvdn6fxS</th>\n",
       "      <td>0.256827</td>\n",
       "      <td>-0.267134</td>\n",
       "      <td>-0.214078</td>\n",
       "      <td>1.277429</td>\n",
       "      <td>0.203771</td>\n",
       "    </tr>\n",
       "    <tr>\n",
       "      <th>hbLiQopdJn</th>\n",
       "      <td>1.296028</td>\n",
       "      <td>0.437021</td>\n",
       "      <td>0.762098</td>\n",
       "      <td>-0.140734</td>\n",
       "      <td>0.970952</td>\n",
       "    </tr>\n",
       "    <tr>\n",
       "      <th>clHXw7j4DG</th>\n",
       "      <td>0.343140</td>\n",
       "      <td>0.464132</td>\n",
       "      <td>0.654447</td>\n",
       "      <td>0.260406</td>\n",
       "      <td>0.152825</td>\n",
       "    </tr>\n",
       "    <tr>\n",
       "      <th>CcSBJuzmgb</th>\n",
       "      <td>1.037903</td>\n",
       "      <td>0.266871</td>\n",
       "      <td>-1.033515</td>\n",
       "      <td>0.589462</td>\n",
       "      <td>2.338289</td>\n",
       "    </tr>\n",
       "    <tr>\n",
       "      <th>7Fj5jcetZt</th>\n",
       "      <td>-2.060749</td>\n",
       "      <td>1.014787</td>\n",
       "      <td>0.291978</td>\n",
       "      <td>1.283227</td>\n",
       "      <td>-1.337940</td>\n",
       "    </tr>\n",
       "    <tr>\n",
       "      <th>KQxLND8FB6</th>\n",
       "      <td>0.885196</td>\n",
       "      <td>-0.279931</td>\n",
       "      <td>-0.921876</td>\n",
       "      <td>1.127972</td>\n",
       "      <td>1.527141</td>\n",
       "    </tr>\n",
       "    <tr>\n",
       "      <th>NP0XhOgGhZ</th>\n",
       "      <td>-0.865087</td>\n",
       "      <td>1.409938</td>\n",
       "      <td>-1.959392</td>\n",
       "      <td>0.649030</td>\n",
       "      <td>2.504243</td>\n",
       "    </tr>\n",
       "    <tr>\n",
       "      <th>jv37op6nQt</th>\n",
       "      <td>0.705745</td>\n",
       "      <td>0.667755</td>\n",
       "      <td>0.004576</td>\n",
       "      <td>0.394172</td>\n",
       "      <td>1.368924</td>\n",
       "    </tr>\n",
       "    <tr>\n",
       "      <th>LWPUXGTHMM</th>\n",
       "      <td>0.926666</td>\n",
       "      <td>-0.103598</td>\n",
       "      <td>-0.443059</td>\n",
       "      <td>-0.814314</td>\n",
       "      <td>1.266127</td>\n",
       "    </tr>\n",
       "    <tr>\n",
       "      <th>vLPOAJCAF9</th>\n",
       "      <td>-0.218118</td>\n",
       "      <td>0.733232</td>\n",
       "      <td>-0.317883</td>\n",
       "      <td>0.177578</td>\n",
       "      <td>0.832997</td>\n",
       "    </tr>\n",
       "    <tr>\n",
       "      <th>cUclrAxu1b</th>\n",
       "      <td>0.864328</td>\n",
       "      <td>-2.312791</td>\n",
       "      <td>0.316662</td>\n",
       "      <td>-0.118925</td>\n",
       "      <td>-1.765125</td>\n",
       "    </tr>\n",
       "    <tr>\n",
       "      <th>NZfkajqXzg</th>\n",
       "      <td>0.556577</td>\n",
       "      <td>1.644392</td>\n",
       "      <td>-0.226862</td>\n",
       "      <td>-0.486590</td>\n",
       "      <td>2.427831</td>\n",
       "    </tr>\n",
       "    <tr>\n",
       "      <th>EgAcTO6wRl</th>\n",
       "      <td>0.768829</td>\n",
       "      <td>1.341205</td>\n",
       "      <td>1.727174</td>\n",
       "      <td>0.298385</td>\n",
       "      <td>0.382860</td>\n",
       "    </tr>\n",
       "    <tr>\n",
       "      <th>wbXwfMEMLO</th>\n",
       "      <td>1.171791</td>\n",
       "      <td>-0.985890</td>\n",
       "      <td>0.222930</td>\n",
       "      <td>-0.432046</td>\n",
       "      <td>-0.037029</td>\n",
       "    </tr>\n",
       "    <tr>\n",
       "      <th>n0oXcnFU0Y</th>\n",
       "      <td>-0.172852</td>\n",
       "      <td>0.041407</td>\n",
       "      <td>1.185963</td>\n",
       "      <td>0.603428</td>\n",
       "      <td>-1.317408</td>\n",
       "    </tr>\n",
       "    <tr>\n",
       "      <th>lJKGclGroq</th>\n",
       "      <td>-1.052659</td>\n",
       "      <td>0.414035</td>\n",
       "      <td>1.434701</td>\n",
       "      <td>-0.488188</td>\n",
       "      <td>-2.073325</td>\n",
       "    </tr>\n",
       "    <tr>\n",
       "      <th>7LSNOFWZJ6</th>\n",
       "      <td>-0.091284</td>\n",
       "      <td>1.796569</td>\n",
       "      <td>-0.203058</td>\n",
       "      <td>0.586602</td>\n",
       "      <td>1.908343</td>\n",
       "    </tr>\n",
       "    <tr>\n",
       "      <th>iuQkKBdVau</th>\n",
       "      <td>1.017928</td>\n",
       "      <td>1.019792</td>\n",
       "      <td>-1.333021</td>\n",
       "      <td>1.265552</td>\n",
       "      <td>3.370741</td>\n",
       "    </tr>\n",
       "    <tr>\n",
       "      <th>rp8JcxvClm</th>\n",
       "      <td>1.522600</td>\n",
       "      <td>-0.350783</td>\n",
       "      <td>0.007212</td>\n",
       "      <td>0.679606</td>\n",
       "      <td>1.164605</td>\n",
       "    </tr>\n",
       "    <tr>\n",
       "      <th>WGNIpkBWTe</th>\n",
       "      <td>0.370551</td>\n",
       "      <td>-1.088650</td>\n",
       "      <td>1.694536</td>\n",
       "      <td>-1.008211</td>\n",
       "      <td>-2.412635</td>\n",
       "    </tr>\n",
       "    <tr>\n",
       "      <th>E7en5nvIAC</th>\n",
       "      <td>-0.822617</td>\n",
       "      <td>-0.329130</td>\n",
       "      <td>1.585712</td>\n",
       "      <td>0.789350</td>\n",
       "      <td>-2.737459</td>\n",
       "    </tr>\n",
       "    <tr>\n",
       "      <th>93DRoEL4HJ</th>\n",
       "      <td>-0.270586</td>\n",
       "      <td>0.498604</td>\n",
       "      <td>-0.822743</td>\n",
       "      <td>-0.165651</td>\n",
       "      <td>1.050762</td>\n",
       "    </tr>\n",
       "    <tr>\n",
       "      <th>gsP1Igzse7</th>\n",
       "      <td>1.017522</td>\n",
       "      <td>0.161439</td>\n",
       "      <td>-0.095337</td>\n",
       "      <td>-0.340675</td>\n",
       "      <td>1.274298</td>\n",
       "    </tr>\n",
       "    <tr>\n",
       "      <th>G3WqOFSPjT</th>\n",
       "      <td>1.310452</td>\n",
       "      <td>-0.356945</td>\n",
       "      <td>1.678924</td>\n",
       "      <td>0.051560</td>\n",
       "      <td>-0.725417</td>\n",
       "    </tr>\n",
       "  </tbody>\n",
       "</table>\n",
       "</div>"
      ],
      "text/plain": [
       "                   A         B         C         D         H\n",
       "1y91f1smEv  1.009456  1.231730  0.744715  0.831173  1.496471\n",
       "z1UUHhjC32 -1.130069  0.657680 -1.268711 -0.040807  0.796323\n",
       "SJ1g7LnoGF -0.852362  0.407995 -0.424182  0.138583 -0.020184\n",
       "jDvrIp8Icd -1.529668  0.633611 -0.230017  0.325149 -0.666040\n",
       "0Urjh7x9YM  0.654466 -0.190880  0.230631  1.355309  0.232955\n",
       "pZvEkFFovn -0.139737 -0.208493  0.445703  1.696323 -0.793933\n",
       "HvAvdn6fxS  0.256827 -0.267134 -0.214078  1.277429  0.203771\n",
       "hbLiQopdJn  1.296028  0.437021  0.762098 -0.140734  0.970952\n",
       "clHXw7j4DG  0.343140  0.464132  0.654447  0.260406  0.152825\n",
       "CcSBJuzmgb  1.037903  0.266871 -1.033515  0.589462  2.338289\n",
       "7Fj5jcetZt -2.060749  1.014787  0.291978  1.283227 -1.337940\n",
       "KQxLND8FB6  0.885196 -0.279931 -0.921876  1.127972  1.527141\n",
       "NP0XhOgGhZ -0.865087  1.409938 -1.959392  0.649030  2.504243\n",
       "jv37op6nQt  0.705745  0.667755  0.004576  0.394172  1.368924\n",
       "LWPUXGTHMM  0.926666 -0.103598 -0.443059 -0.814314  1.266127\n",
       "vLPOAJCAF9 -0.218118  0.733232 -0.317883  0.177578  0.832997\n",
       "cUclrAxu1b  0.864328 -2.312791  0.316662 -0.118925 -1.765125\n",
       "NZfkajqXzg  0.556577  1.644392 -0.226862 -0.486590  2.427831\n",
       "EgAcTO6wRl  0.768829  1.341205  1.727174  0.298385  0.382860\n",
       "wbXwfMEMLO  1.171791 -0.985890  0.222930 -0.432046 -0.037029\n",
       "n0oXcnFU0Y -0.172852  0.041407  1.185963  0.603428 -1.317408\n",
       "lJKGclGroq -1.052659  0.414035  1.434701 -0.488188 -2.073325\n",
       "7LSNOFWZJ6 -0.091284  1.796569 -0.203058  0.586602  1.908343\n",
       "iuQkKBdVau  1.017928  1.019792 -1.333021  1.265552  3.370741\n",
       "rp8JcxvClm  1.522600 -0.350783  0.007212  0.679606  1.164605\n",
       "WGNIpkBWTe  0.370551 -1.088650  1.694536 -1.008211 -2.412635\n",
       "E7en5nvIAC -0.822617 -0.329130  1.585712  0.789350 -2.737459\n",
       "93DRoEL4HJ -0.270586  0.498604 -0.822743 -0.165651  1.050762\n",
       "gsP1Igzse7  1.017522  0.161439 -0.095337 -0.340675  1.274298\n",
       "G3WqOFSPjT  1.310452 -0.356945  1.678924  0.051560 -0.725417"
      ]
     },
     "execution_count": 13,
     "metadata": {},
     "output_type": "execute_result"
    }
   ],
   "source": [
    "# apply function to multiple columns:\n",
    "df=pd.util.testing.makeDataFrame()\n",
    "# df[new_column]=df.apply(lambda x : function(x[col1],x[col2],..), axis=1)\n",
    "def get(x,y,z):\n",
    "    return (x+y-z)\n",
    "\n",
    "df['H']=df.apply(lambda x : get(x['A'],x['B'],x['C']), axis=1) # Don't forget to use X not df inside the function\n",
    "df"
   ]
  }
 ],
 "metadata": {
  "kernelspec": {
   "display_name": "Python 3",
   "language": "python",
   "name": "python3"
  },
  "language_info": {
   "codemirror_mode": {
    "name": "ipython",
    "version": 3
   },
   "file_extension": ".py",
   "mimetype": "text/x-python",
   "name": "python",
   "nbconvert_exporter": "python",
   "pygments_lexer": "ipython3",
   "version": "3.7.12"
  },
  "papermill": {
   "default_parameters": {},
   "duration": 12.628824,
   "end_time": "2022-05-21T05:45:13.748964",
   "environment_variables": {},
   "exception": null,
   "input_path": "__notebook__.ipynb",
   "output_path": "__notebook__.ipynb",
   "parameters": {},
   "start_time": "2022-05-21T05:45:01.120140",
   "version": "2.3.4"
  }
 },
 "nbformat": 4,
 "nbformat_minor": 5
}
